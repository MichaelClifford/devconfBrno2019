{
 "cells": [
  {
   "cell_type": "code",
   "execution_count": 3,
   "metadata": {},
   "outputs": [],
   "source": [
    "%load_ext autoreload\n",
    "%autoreload 2"
   ]
  },
  {
   "cell_type": "code",
   "execution_count": 4,
   "metadata": {},
   "outputs": [],
   "source": [
    "import pandas as pd\n",
    "import numpy as np\n",
    "import sys\n",
    "import matplotlib.pylab as plt\n",
    "import operator\n",
    "import copy\n",
    "import utils\n",
    "\n",
    "from scipy import sparse\n",
    "from sklearn.metrics import mutual_info_score\n",
    "pd.set_option('display.width', 2000)"
   ]
  },
  {
   "cell_type": "code",
   "execution_count": 5,
   "metadata": {},
   "outputs": [
    {
     "data": {
      "text/plain": [
       "'3.6.6 (default, Jul 19 2018, 14:25:17) \\n[GCC 8.1.1 20180712 (Red Hat 8.1.1-5)]'"
      ]
     },
     "execution_count": 5,
     "metadata": {},
     "output_type": "execute_result"
    }
   ],
   "source": [
    "sys.version"
   ]
  },
  {
   "cell_type": "markdown",
   "metadata": {},
   "source": [
    "# Plan\n",
    "\n",
    "The dataset is from Microsoft's Malware Prediction Competition on Kaggle (https://www.kaggle.com/c/microsoft-malware-prediction). There are parameters/features for multiple machines and a flag inficating whether malware was detected (1) on the machine or not (0).\n",
    "\n",
    "The goal of this notebook and the associated scripts is to walk you through the process of exploring the data, preprocessing and building features for input into a machine learning model. Once the model is trained, we'll go over the process of tuning hyperparameters and very importantly, of inspecting the model to understand our data better. \n",
    "\n",
    "Lastly, we'll have some cursory treatment of ensembling or combining models to produce better performing models.\n",
    "\n",
    "**Disclaimers**\n",
    "\n",
    "1. There is a lot more to be said for each of the steps above but in our opinion, the best way to learn is to build as many models as possible with careful inspection.\n",
    "\n",
    "2. We do not cover the details of each modeling technique - random forests, logistic regression, support vector machines, neural networks to name a few. There is great documentation already available and we are happy to walk through the details in person. Depending on your interests, you might want to go deep into mathematical results or just apply the algorithms. The abstractions are leaky though - one cannot treat these algorithms as black boxes which takes data in and produce outputs/predictions. Each technique makes certain assumptions and it's important to ensure the input data reflects those.\n",
    "\n",
    "3. We want to put this workshop into a broader context:\n",
    "\n",
    "The hardest part in industrial/applied data science is defining the problem to solve. This sounds very vague but every single company or research field for that matter, suffers from this issue. For machine learning to be relevant, the problems needs to 1) have relevant data available in reasonable quantities, 2) be operationalizable i.e. one should be able to act on the recommendations of the model, 3) have a \"statistical component\" to it. As a counterexample, suppose the problem is to sort arrays. Would you collect data on N (1 million) arrays i.e. input arrays and output sorted arrays and feed it to a machine learning algorithm or would you use a sorting algorithm with performance guarantees that work in every single case?\n",
    "\n",
    "Once a problem is identified, a lot of initial effort is spent in engineering pipelines and frameworks so one can fruitfully enter the iteration loop of model development (the notebook below). The loop consists of picking the quantity to predict, deciding on a metric to evaluate how well the model does, preprocessing the data for a modeling technique and training the model, validating the model on new data and then repeating the process till one achieves acceptable performance.\n",
    "\n",
    "Kaggle competitions only focus on the last bit of building an extremely well performing model. While in practice, one might be happy with a model that has 70% accuracy, in a competition, users will fight to increase it to 70.001%. This has resulted in several tricks and techniques to extract small gains at the cost of very complex models. We'll cover some of those techniques here (ensembling) and it's definitely a useful skill to know but often not needed.\n"
   ]
  },
  {
   "cell_type": "markdown",
   "metadata": {},
   "source": [
    "\n",
    "# Read Data"
   ]
  },
  {
   "cell_type": "code",
   "execution_count": null,
   "metadata": {},
   "outputs": [],
   "source": [
    "#read data\n",
    "data = pd.read_csv('data/MS/train.csv')"
   ]
  },
  {
   "cell_type": "code",
   "execution_count": null,
   "metadata": {},
   "outputs": [],
   "source": [
    "#(nrows, ncols)\n",
    "data.shape"
   ]
  },
  {
   "cell_type": "code",
   "execution_count": null,
   "metadata": {},
   "outputs": [],
   "source": [
    "#first 10 rows\n",
    "data.head(10)"
   ]
  },
  {
   "cell_type": "code",
   "execution_count": null,
   "metadata": {},
   "outputs": [],
   "source": [
    "#access column's first 10 rows\n",
    "data['MachineIdentifier'].head(10)"
   ]
  },
  {
   "cell_type": "code",
   "execution_count": null,
   "metadata": {},
   "outputs": [],
   "source": [
    "#number of unique values for each column\n",
    "for col in data.columns:\n",
    "    print(f'{col} : {len(data[col].unique())}')"
   ]
  },
  {
   "cell_type": "markdown",
   "metadata": {},
   "source": [
    "Notes:\n",
    "\n",
    "   * No time-stamps - technically, one would expect a sequence of events before a machine is infected but this is data is a flat snapshot.\n",
    "    \n",
    "   * MachineIdentifier - primary key/index\n",
    "    \n",
    "   * HasDetections - binary target to predict (0 - not infected, 1 - infected) "
   ]
  },
  {
   "cell_type": "code",
   "execution_count": null,
   "metadata": {},
   "outputs": [],
   "source": [
    "#Distribution of target\n",
    "data['HasDetections'].value_counts()"
   ]
  },
  {
   "cell_type": "markdown",
   "metadata": {},
   "source": [
    "**Labels have an even distributions (~50-50%)**\n",
    "\n",
    "The column we are predicting is often called the \"label\" or the \"target\". Targets can be of many kinds:\n",
    "\n",
    "1. Real (float) values - such machine learning problems are called **regression** problems. Examples - predict the value of homes based on neighborhood and macroeconomic quantities, predict the angle through which a steering wheel should be turned on a self-driving car based on environment inputs.\n",
    "\n",
    "2. Discrete values - these problems are called **classification** problems. In this case, we have two labels - 0 or 1. A key distinction from regression is that while numerically 1 > 0, in terms of class there's no meaning to the statement class 1 > class 0 and this has to get reflected in the type of model chosen. If there are two classes or categories to be predicted, the problems are often called **binary classfication** problems as opposed to **multi-class classification** problems consisting of > 2 categories. Examples - is a check fake or not based on the image, image labels based on pixels.\n",
    "\n",
    "For binary classification problems, a concern is the balance of the two labels i.e.the % of rows with 0s with 1s. If they are roughly equally distributed, then there's no problem. But what if they are not? Let's look at an extreme example.\n",
    "\n",
    "For many (supervised) anomaly/outlier detection problems (target = 0 is normal, target = 1 is anomalous), most of the dataset consists of 0s with very few 1s. For example - maybe 98% of the rows are normal and 2% are anomalous. Why is this a problem? Suppose we build/train a model that predicts whether a data-point (row) is normal or anomalous. But we decide to cheat - our \"model\" predicts every row is normal (0). What would the accuracy of such a model be?\n",
    "\n",
    "Correct - we got all the target = 0 (98%) predictions right.\n",
    "\n",
    "Incorrect - we got all the target = 1 (2%) predictions wrong.\n",
    "\n",
    "So, our accuracy is 98% which sounds great but we didn't really learn the ability to predict the anomalies!!!\n",
    "\n",
    "There are some common remedies to this *class imbalance* problem:\n",
    "\n",
    "1. Use a different metric:\n",
    "\n",
    "Instead of accuracy, use area under curve (see below) or look at the confusion matrix, or precision/recall curves which are all sensitive to the problem described above.\n",
    "\n",
    "2. Resampling: \n",
    "\n",
    "Take all the anomalous rows and randomly sample as many rows from the normal rows. While this leads to a 50-50% label split, we dramatically reduced the size of our dataset (4% of the original). A workaround for the small dataset size is to do this procedure multiple times and train a model on each instance. The outputs from all the models is then combined in a meta-model which often leads to much better results.\n",
    "\n",
    "Another approach is to keep the normal rows but sample with replacement from the anomalous rows. This will lead to a 50-50% split with each anomalous row repeated several times.\n",
    "\n",
    "As with many aspects of practical machine learning, there's no procedure. What you pick depends on the problem, how various modeling techniques work, as well as sometimes just trial and error with careful checking.\n",
    "\n",
    "3. Resampling by weights:\n",
    "\n",
    "A very elegant approach is to apply a weight of 1 to each normal row but a much higher weight (49 = 98/2) to each anomalous row. What does this mean? Most machine learning algorithms can be recast as optimization problems where:\n",
    "\n",
    "$C = \\Sigma_{i=1}^n C[i]$\n",
    "\n",
    "is some *cost* that is to be minimized. Each $C[i]$ is 0 when the prediction for the $i^{th}$ point agrees with the label and is high when it doesn't.\n",
    "\n",
    "This can be modified to:\n",
    "\n",
    "$C = \\Sigma_{i=1}^n w(i) C[i]$\n",
    "\n",
    "where $w(i)$ is a weight that is 1 for the large class (normal) and high for the small class (anomalous).\n",
    "\n",
    "Suppose we have a simple cost function: if the prediction for the ith row is correct, $C[i] = 0$ and if it's wrong, $C[i] = 1$. Without the weights, whether we get an anomalous row prediction incorrect or a normal row prediction incorrect, our cost increases by 1.\n",
    "\n",
    "But with the weights, if we get a normal row prediction incorrect, the cost increases by 1 but if we get an anomalous row prediction incorrect, it increases by $w(i)$ (49 in this case). This forces the algorithm to try and get the anomalous predictions correct too instead of ignoring them and focusing on the majority class of normal rows.\n",
    "\n",
    "**Note on probabilities by scores**\n",
    "\n",
    "For classification problems, most algorithms predict a number (**score**) between 0 and 1. It is very tempting to treat these as probabilities of belonging to target = 1 but this is often incorrect.\n",
    "\n",
    "One way to use these scores is to use them as they are and pick a threshold (see AUC below) t, such that a score > t signifies a prediction of 1 and a score <= t signifies a prediction of 0.\n",
    "\n",
    "In some applications though, we want to intepret the score as a probability. The act of transforming scores to probabilities is called *probability calibration*."
   ]
  },
  {
   "cell_type": "markdown",
   "metadata": {},
   "source": [
    "# Measuring model performance"
   ]
  },
  {
   "cell_type": "markdown",
   "metadata": {},
   "source": [
    "The metric we use for this competition is \"Area under ROC curve\" (AUC = area under curve). This is a number between 0 and 1 where\n",
    "\n",
    "AUC = 0.5 -> random guesses for HasDetections\n",
    "\n",
    "AUC = 1.0 -> perfect predictions\n",
    "\n",
    "The core idea is very simple. Suppose we have a binary classification problem with labels = 0 or 1. We build a model that predicts a score between 0 and 1 and based on some threshold, t, we want to make a hard prediction for each row. More precisely, if the score > t, prediction = 1 and if the score <= t, prediction = 0.\n",
    "\n",
    "$\\begin{array}{ c c c } \n",
    "\\text{row id} & \\text{score} & \\text{threshold=0.45}\\\\ \n",
    "1 & 0.2 & 0\\\\\n",
    "2 & 0.8 & 1 \\\\\n",
    "3 & 0.4 & 0\\\\\n",
    "\\vdots & \\vdots & \\vdots \\\\\n",
    "\\end{array}$\n",
    "\n",
    "What t should we pick? Before answering this question, let's define a **confusion matrix**.\n",
    "\n",
    "$\\begin{array}{ c c c } \n",
    " & \\text{actual 1} & \\text{actual 0}\\\\\n",
    "\\text{predicted 1} & TP & FP \\\\\n",
    "\\text{predicted 0} & FN & TN\\\\\n",
    "\\end{array}$\n",
    "\n",
    "where TP = true positive, FP = false positive, FN = false negative, TN = true negative. The names are confusing and don't matter. The crucial idea is there are two actual labels, two predicted labels, giving 4 categories and we have the number of data observations in each category.\n",
    "\n",
    "A handy way to remember what the various acronyms are:\n",
    "1. Positive and Negative always refers to the predicted category. ?P = all examples that were predicted to be positive, ?N = all examples that were predicted to be negative.\n",
    "\n",
    "2. True and False refers to the correctness of the prediction. So TP = all examples predicted to be positive and the True refers to the fact that these were correct predictions, hence the labels were also positive.\n",
    "\n",
    "For each threshold, we would get a table like the one above. We want as many elements on the diagonal (TP and TN) as possible and as few on the off-diagonal (FP and FN) as possible. Generally as one increases the threshold, the number of TP increase but at the cost of also increases FP.\n",
    "\n",
    "More precisely, define two fractions:\n",
    "\n",
    "$\\text{True Positive Rate} = \\frac{TP}{TP+FN}$\n",
    "\n",
    "$\\text{False Positive Rate} = \\frac{FP}{FP + TN}$\n",
    "\n",
    "In an ideal case, true positive rate would be 1 (only TP and no FN) and false positive rate would be 0 (only TN and no FP). But, there's always a tradeoff. As one increases the threshold, the true positive rate increases (good) but the false positive rate also increases (bad).\n",
    "\n",
    "Operationally, imagine you work in a hospital and have a machine learning model that predicts the probability an incoming patient has the flu. You want to pick a threshold and send every patient with a probability > threshold to a special ward. What threshold should you pick?\n",
    "\n",
    "You don't know the actual values in the table above for the new patients. You only know the predicted ones. You want the maximize the % of patients who actually have the flu among the patients identified by the model. But this co/\n"
   ]
  },
  {
   "cell_type": "markdown",
   "metadata": {},
   "source": [
    "# Validation\n",
    "\n",
    "We cannot just build a model on the train set and submit it. This usually results in overfitting i.e. a model memorizing answers instead of understanding statistical features and their relation to the output.\n",
    "\n",
    "To guard against this, a usual practice is cross-validation.\n",
    "\n",
    "There are a few common approaches:\n",
    "\n",
    "**Simple splits**:\n",
    "\n",
    "Split the data into a \"train\" set and a hold-out \"test\" set - maybe 60% is train and 40% is test. The model will be trained on the 60% and applied to the 40%. Since we know the labels (HasDetections) on both sets, we can evaluate how well we did.\n",
    "\n",
    "**Validation set**:\n",
    "\n",
    "The above approach has a problem. Often machine learning models have so-called hyperparameters i.e. parameters that are not optimized during fitting. Examples: linear regression with regularization have regularization strength, decision trees have tree depth (among others), neural networks have number of hidden layers, number of nodes in each layer, activation functions etc. \n",
    "\n",
    "We want to find the best possible model where \"best\" denotes the model with the highest AUC on the test set.\n",
    "\n",
    "How would one go about this? The straighforward approach is as follows:\n",
    "\n",
    "1. Pick a model class - say, random forests.\n",
    "2. Build the model on the train set and calculate the **test AUC** by applying it to the **test** set.\n",
    "3. Tweak the hyperparameters (say, number of trees) and repeat step 2 till **find maximum test AUC**.\n",
    "\n",
    "While this approach sounds reasonable, it'll also lead to overfitting. In particular, information about the test set \"leaks\" into the training process and the leaker is **us**! By looking at the test AUC, we make the decision to change the hyperparameter in the new model that is trained on the train set. We'll only change the parameters when it results in a better AUC and reject the change when it results in a worse AUC. Without realizing it, we are overfitting to the test dataset.\n",
    "\n",
    "So one will end up with excellent performance on the test set but when new data comes in, the model might suffer a drop in performance.\n",
    "\n",
    "**Golden Rule:** No information about the test set should ever touch the training process. This is called *leakage*.\n",
    "\n",
    "A common work-around this problem is to split the data into *3* pieces - \n",
    "\n",
    "**Train** set - data that the model is trained on\n",
    "\n",
    "**Validation** set - data to which model is applied to tune the hyperparameters\n",
    "\n",
    "**Test** set - once the final model (with the final hyperparameters) is picked, it is applied to the test set to really test performance\n",
    "\n",
    "**k-fold Cross Validation**:\n",
    "\n",
    "A problem with creating the validation set is that the data used for training might be severely diminished. For examples, maybe we'll choose train to be 60%, validation to be 20% and test to be 20% of the full data. Ideally, we would like to train with as much data as possible to get statistically accurate estimation of our model parameters.\n",
    "\n",
    "A work-around this problem is **k-fold cross-validation**.\n",
    "\n",
    "The idea is simple:\n",
    "\n",
    "1. Split the data into k equal pieces.\n",
    "\n",
    "2. Hold one of the pieces out and train on the remaining k-1 pieces.\n",
    "\n",
    "3. Evaluate the performance (AUC) on the 1 piece left out.\n",
    "\n",
    "For each piece that's left out, we'll have one AUC. So we'll eventually end up with k AUC scores. The final AUC is the average of these k AUCs.\n",
    "\n",
    "The advantage of this approach is that we don't need a validation set and we can use more data for training. The major disadvantage is that one now needs k training loops instead of just 1.\n",
    "\n",
    "**WARNING**: The data should be shuffled (and sklearn takes care of that) for all these splitting strategies. It is crucial to have randomly selected data in each set which results in the same probability distributions of the features in each set.\n",
    "\n",
    "Example: we don't want to build a model to control airplane surfaces based on calm wind conditions (train set) and apply it in turbulent situations (test set). Randomization ensures that both train and test have the same mix of calm and turbulent conditions.\n",
    "\n",
    "**WARNING**: Time-series datasets\n",
    "\n",
    "Suppose, one has a time-series dataset i.e. one column is a timestamp. In this case, one cannot randomly sample N% of the data and declare it to be train set. The best approach is to sort by time and pick the first N% to be train and the rest to be test. In particular, each set should be continuous in time with no gaps. This is driven in large part by the fact that time-series data observations are **NOT independent**. Unlike multiple measurements in a static dataset, in time-series, each observation at time t is inextricably linked to the observations at time t-1, t-2, etc. \n",
    "\n",
    "As an example, consider the often attacked problem of predicting a financial time-series, say the S&P 500 index. Suppose, we have data from the year 2000 to 2019 and suppose the train data is from 2000-2010 and test is from 2011-2019. Since the index has hit values in test that were never reached in train, the distributions are fundamentally different in the two datasets. Machine learning techniques assume that the distributions are the same and they are a key assumption in theoretical results. One then has to preprocess the data to align the two distributions. A common approach is to look at percent returns ($V_t$ is the raw S&P 500 time-series):\n",
    "\n",
    "$p_t = \\frac{V_t - V_{t-1}}{V_t}$\n",
    "\n",
    "which to a rough approximation (but not very well), results in normally distributed returns which are more similar in train and test datasets and the task is then to predict these returns. Doing such \"difference\" also creates measurements that are more uncorrelated i.e. $p_t$ and $p_{t-1}$ are more uncorrelated than $V_t$ and $V_{t-1}$."
   ]
  },
  {
   "cell_type": "code",
   "execution_count": null,
   "metadata": {
    "scrolled": true
   },
   "outputs": [],
   "source": [
    "#Rough exploratory analysis\n",
    "from sklearn.model_selection import train_test_split\n",
    "\n",
    "execute = False\n",
    "\n",
    "if execute:\n",
    "    train, test = train_test_split(data, train_size=0.60)\n",
    "\n",
    "    #convert to pandas dataframes\n",
    "    train = pd.DataFrame(train, columns=data.columns)\n",
    "    test = pd.DataFrame(test, columns=data.columns)"
   ]
  },
  {
   "cell_type": "code",
   "execution_count": null,
   "metadata": {},
   "outputs": [],
   "source": [
    "#persist dataframes so don't need to re-run splitting each time\n",
    "train.to_csv('data/cv_train.csv', index=False)\n",
    "test.to_csv('data/cv_test.csv', index=False)"
   ]
  },
  {
   "cell_type": "code",
   "execution_count": null,
   "metadata": {},
   "outputs": [],
   "source": [
    "train = pd.read_csv('data/cv_train.csv')\n",
    "test = pd.read_csv('data/cv_test.csv')"
   ]
  },
  {
   "cell_type": "code",
   "execution_count": null,
   "metadata": {},
   "outputs": [],
   "source": [
    "print('Train:', train.shape)\n",
    "print('Test :', test.shape)"
   ]
  },
  {
   "cell_type": "code",
   "execution_count": null,
   "metadata": {},
   "outputs": [],
   "source": [
    "train.iloc[0]"
   ]
  },
  {
   "cell_type": "markdown",
   "metadata": {},
   "source": [
    "# Exploratory Models"
   ]
  },
  {
   "cell_type": "markdown",
   "metadata": {},
   "source": [
    "Our goal is to predict the column 'HasDetections' with the highest possible accuracy  (used loosely).\n",
    "\n",
    "This is where 'domain knowledge' comes in. Depending on the problem, various factors and their combinations might be most meaningful. For example, while a physicist and a financial trader might both be using random forests, the input data/features will usually be hand-crafted by each one based on his/her understanding of the problem they are solving.\n",
    "\n",
    "Having said that, statistics and machine learning models are not useful just for predicting. They can be used to gain **insight** into the data itself. We'll now start on the first leg of our journey to both predict 'HasDetections' and extract insights about what the markers for an intrusion are."
   ]
  },
  {
   "cell_type": "markdown",
   "metadata": {},
   "source": [
    "### Mutual information\n",
    "\n",
    "We won't go into the details and derivation of mutual information here. For the purpose of this workshop, you can treat mutual information (MI) as a measure of correlation between categorical variables. Given two columns A and B, MI(A,B)=0 -> they are uncorrelated i.e. knowing the value of A says nothing about the value of B and vice-versa. A high MI(A, B) implies that knowing the value of A tells us a lot about the value of B and vice-versa."
   ]
  },
  {
   "cell_type": "code",
   "execution_count": null,
   "metadata": {},
   "outputs": [],
   "source": [
    "mutual_info_score(train['SMode'], train['HasDetections'])"
   ]
  },
  {
   "cell_type": "code",
   "execution_count": null,
   "metadata": {},
   "outputs": [],
   "source": [
    "mi_scores = {} #mutual information scores between columns and target\n",
    "for col in train:\n",
    "    \n",
    "    try:\n",
    "        score = mutual_info_score(train[col].astype(str).fillna('null'), train['HasDetections']) #MI(col, target)\n",
    "        N_unique = len(train[col].unique()) #number of unique elements in col\n",
    "        N_nan = np.sum(train[col].isnull())/float(train.shape[0]) #% of values that are nulls in col\n",
    "    \n",
    "        mi_scores[col] = (score, N_unique, N_nan)\n",
    "        \n",
    "    except:\n",
    "        print(f'Error with col = {col}')"
   ]
  },
  {
   "cell_type": "code",
   "execution_count": null,
   "metadata": {},
   "outputs": [],
   "source": [
    "#INSERT DEBUG THESE COLS - mixed types\n",
    "mi_scores['MachineIdentifier']"
   ]
  },
  {
   "cell_type": "code",
   "execution_count": null,
   "metadata": {},
   "outputs": [],
   "source": [
    "#sort in decreasing order by MI(col, HasDetections)\n",
    "for element in sorted(mi_scores.items(), key=operator.itemgetter(1, 0), reverse=True):\n",
    "    print('{:50} : {:22} : {:8} : {}'.format(element[0], element[1][0], element[1][1], element[1][2]))"
   ]
  },
  {
   "cell_type": "code",
   "execution_count": null,
   "metadata": {},
   "outputs": [],
   "source": [
    "#def mi_score(df, c1, c2):\n",
    "del mi_scores\n",
    "del data\n",
    "import gc\n",
    "gc.collect()"
   ]
  },
  {
   "cell_type": "markdown",
   "metadata": {},
   "source": [
    "# Simple 1-feature models\n",
    "\n",
    "Another way to get intuition about individual columns is by building models that use a *single* feature to predict the output. This will also serve as an introduction to preprocessing and feature engineering. \n",
    "\n",
    "A lot of the work below looks inelegant from a programming perspective. But, while this approach is not scalable to datasets with a large number columns, it often gives a lot of intuition to the data scientist."
   ]
  },
  {
   "cell_type": "code",
   "execution_count": null,
   "metadata": {},
   "outputs": [],
   "source": [
    "#we'll use random forests as a reference model since they need minimal preprocessing\n",
    "#and are flexible non-linear learners\n",
    "\n",
    "from sklearn.ensemble import RandomForestClassifier"
   ]
  },
  {
   "cell_type": "code",
   "execution_count": null,
   "metadata": {},
   "outputs": [],
   "source": [
    "#AUC scoring function\n",
    "\n",
    "from sklearn.metrics import roc_auc_score"
   ]
  },
  {
   "cell_type": "code",
   "execution_count": null,
   "metadata": {},
   "outputs": [],
   "source": [
    "for col in train.columns:\n",
    "    print(col)"
   ]
  },
  {
   "cell_type": "markdown",
   "metadata": {},
   "source": [
    "# Col = MachineIdentifier - index col - unique for each row - not useful for predictions"
   ]
  },
  {
   "cell_type": "markdown",
   "metadata": {},
   "source": [
    "# Col = ProductName (MI = ~6 * 10^-6)"
   ]
  },
  {
   "cell_type": "code",
   "execution_count": null,
   "metadata": {},
   "outputs": [],
   "source": [
    "train['ProductName'].value_counts()"
   ]
  },
  {
   "cell_type": "markdown",
   "metadata": {},
   "source": [
    "### 1-hot encoding\n",
    "\n",
    "The data in a single column we'll usually see will be one of 3 types:\n",
    "\n",
    "1. float - the value matters and there's an ordering implied. E.g. 5 apples > 3 apples\n",
    "\n",
    "2. Discrete (int) - the values are discrete but there's an ordering\n",
    "\n",
    "3. Categorical (int/str) - the values are discrete but there's no ordering implied. E.g. OS = 'Windows' or OS = 'Linux' - one can't compare the two values numerically and there's no ordering Linux > Windows or Windows > Linux (well there IS but mathematically there isn't one)\n",
    "\n",
    "As an example consider 'ProductName' with possible values - 'win8defender', 'mse', 'scep' etc.\n",
    "\n",
    "One could do a group-by this column and get the % of 1s vs 0s in the target variable. But eventually, we'll have several such variables in combination with columns of type 1. and 2. above. So we need a better approach.\n",
    "\n",
    "A commonly used approach is the so-called **one-hot encoding**. The idea is very simple and best illustrated by an example. Suppose we have a column 'X' with 3 unique values in 5 rows:\n",
    "\n",
    "'apple'\n",
    "\n",
    "'mango'\n",
    "\n",
    "'banana'\n",
    "\n",
    "'banana'\n",
    "\n",
    "'mango'\n",
    "\n",
    "We want to convert these to numbers so our statistical techniques can perform mathematical operations and learn something useful. In one-hot encoding, we simply create one column for each unique value and use booleans:\n",
    "\n",
    "'apple' -> [1, 0, 0]\n",
    "\n",
    "'mango' -> [0, 1, 0]\n",
    "\n",
    "'banana' -> [0, 0, 1]\n",
    "\n",
    "'banana' -> [0, 0, 1]\n",
    "\n",
    "'mango' -> [0, 1, 0]\n",
    "\n",
    "Two points:\n",
    "\n",
    "1. Why can't we just map 'apple' -> 0, 'mango' -> 1, 'banana' -> 2. Because then we are imposing an implicit ordering - banana > mango > apple which we don't want to impose on our models.\n",
    "\n",
    "2. If there are N unique values in the column, we create N columns. Clearly, there's a much more compact representation as bit strings of len $\\log_2(N)$. Why not use that with exponentially less memory usage? The answer here is that we want to not have any interactions between the columns we create. For e.g. by looking at the apple column and seeing a 1, a model shouldn't have to look at any other columns to deduce that the value is indeed 'apple'. This wouldn't be true with the more compact representation."
   ]
  },
  {
   "cell_type": "code",
   "execution_count": null,
   "metadata": {},
   "outputs": [],
   "source": [
    "#two ways to 1-hot encode\n",
    "\n",
    "pd.get_dummies(train['ProductName'].head(20), prefix='ProductName') #prefix gets prepended before column name"
   ]
  },
  {
   "cell_type": "code",
   "execution_count": null,
   "metadata": {},
   "outputs": [],
   "source": [
    "from sklearn.preprocessing import OneHotEncoder\n",
    "\n",
    "one_hot = OneHotEncoder()\n",
    "\n",
    "one_hot.fit_transform(train[['ProductName']].head(20)).todense()"
   ]
  },
  {
   "cell_type": "code",
   "execution_count": null,
   "metadata": {},
   "outputs": [],
   "source": [
    "one_hot.transform(train[(train['ProductName']!='win8defender') & (train['ProductName']!='mse')][['ProductName']].head(20))"
   ]
  },
  {
   "cell_type": "markdown",
   "metadata": {},
   "source": [
    "### Problem with one-hot encoding\n",
    "\n",
    "The above error highlights a problem. What if the train set has 3 unique values for a column but the test has a fourth one? This will result in a problem since the shapes of the datasets for train and test will be different and the model expects a certain shape and a certain ordering of columns.\n",
    "\n",
    "One solution to this is to do one-hot encoding on the full dataset before splitting into train and test or to ensure that train and test have the same unique values."
   ]
  },
  {
   "cell_type": "code",
   "execution_count": null,
   "metadata": {},
   "outputs": [],
   "source": [
    "def check_train_test_1hot(train, test, colname):\n",
    "    train_vals = set(train[colname].unique())\n",
    "    test_vals = set(test[colname].unique())\n",
    "    \n",
    "    intersection = train_vals.intersection(test_vals)\n",
    "    union = train_vals.intersection(test_vals)\n",
    "    \n",
    "    if len(union) != len(intersection):\n",
    "        return False\n",
    "\n",
    "    return True"
   ]
  },
  {
   "cell_type": "code",
   "execution_count": null,
   "metadata": {},
   "outputs": [],
   "source": [
    "colname = 'ProductName'\n",
    "\n",
    "assert(check_train_test_1hot(train, test, colname))"
   ]
  },
  {
   "cell_type": "code",
   "execution_count": null,
   "metadata": {},
   "outputs": [],
   "source": [
    "train_df = pd.get_dummies(train[[colname]], dummy_na=True)\n",
    "test_df = pd.get_dummies(test[[colname]], dummy_na=True)"
   ]
  },
  {
   "cell_type": "code",
   "execution_count": null,
   "metadata": {},
   "outputs": [],
   "source": [
    "train_df.head()"
   ]
  },
  {
   "cell_type": "code",
   "execution_count": null,
   "metadata": {},
   "outputs": [],
   "source": [
    "test_df.head()"
   ]
  },
  {
   "cell_type": "code",
   "execution_count": null,
   "metadata": {},
   "outputs": [],
   "source": [
    "#Let's train our first model!!!\n",
    "\n",
    "#select model type and fit - ensure train_df doesn't have 'HasDetections'\n",
    "\n",
    "assert('HasDetections' not in train_df)\n",
    "model = RandomForestClassifier()\n",
    "model.fit(train_df, train['HasDetections'])\n",
    "\n",
    "#predict probabilities of belong to class 1\n",
    "train_pred = model.predict_proba(train_df)[:,1] #prob of belonging to class 1\n",
    "test_pred = model.predict_proba(test_df)[:,1]\n",
    "\n",
    "#actual values\n",
    "train_labels = train['HasDetections']\n",
    "test_labels = test['HasDetections']\n",
    "\n",
    "#compute AUC for train and test score\n",
    "train_score = roc_auc_score(train_labels, train_pred)\n",
    "test_score = roc_auc_score(test_labels, test_pred)\n",
    "\n",
    "print(f'col = {col} : train_score = {train_score} : test_score = {test_score}')"
   ]
  },
  {
   "cell_type": "markdown",
   "metadata": {},
   "source": [
    "As one can see, ProductName gives an AUC of 0.5 which is the same as guessing by chance. We expect this since the mutual information betwen ProductName and HasDetections is ~ 10^-6. Another way to see this is by looking at the % of 1s vs 0s for each distinct product type"
   ]
  },
  {
   "cell_type": "code",
   "execution_count": null,
   "metadata": {},
   "outputs": [],
   "source": [
    "train.groupby(['ProductName', 'HasDetections']).count()['MachineIdentifier']"
   ]
  },
  {
   "cell_type": "markdown",
   "metadata": {},
   "source": [
    "For the statistically large classes, the values are ~50-50% which implies that knowing ProductName's value has no bearing on HasDetections."
   ]
  },
  {
   "cell_type": "markdown",
   "metadata": {},
   "source": [
    "# col = EngineVersion (MI = 8 * 10^-3)"
   ]
  },
  {
   "cell_type": "code",
   "execution_count": null,
   "metadata": {},
   "outputs": [],
   "source": [
    "train['EngineVersion'].value_counts()"
   ]
  },
  {
   "cell_type": "markdown",
   "metadata": {},
   "source": [
    "EngineVersion consist of version strings that encode version numbers. What are our options?\n",
    "\n",
    "**One-hot encoding**: this would result in 67 columns (one for each unique value)\n",
    "\n",
    "**Observations**:\n",
    "1. Most of the values are distributed among ~10 values with a long tail of values with <100 occurrences.\n",
    "2. There's probably an implicit time ordering here. The version numbers increase with time. In particular, if there's a regular release cycle, we can actually impute when malware was detected within $\\pm\\Delta \\text{release cycle time}$. Ignore this time for now but think of how we can exploit this fact.\n",
    "\n",
    "Let's explore this column in more detail"
   ]
  },
  {
   "cell_type": "code",
   "execution_count": null,
   "metadata": {},
   "outputs": [],
   "source": [
    "#histogram of value counts\n",
    "plt.figure(figsize=(10,10))\n",
    "plt.hist(train['EngineVersion'].value_counts())"
   ]
  },
  {
   "cell_type": "code",
   "execution_count": null,
   "metadata": {},
   "outputs": [],
   "source": [
    "#a few (2) columns dominate the counts\n",
    "\n",
    "value_counts = train['EngineVersion'].value_counts()\n",
    "\n",
    "print(\"% of values with top 2 values: \", value_counts[0:2].sum() / float(value_counts.sum())) #% of counts with top 2 values"
   ]
  },
  {
   "cell_type": "code",
   "execution_count": null,
   "metadata": {},
   "outputs": [],
   "source": [
    "plt.figure(figsize=(10,10))\n",
    "plt.hist(value_counts[2:])"
   ]
  },
  {
   "cell_type": "markdown",
   "metadata": {},
   "source": [
    "Out of 67 unique values:\n",
    "\n",
    "~84% of the rows have only one of two values\n",
    "54 unique values each have < 20,000 rows\n",
    "\n",
    "One possibility is to combine the tail into one new value\n",
    "\n",
    "Let's plot the value counts as a time-series to look at which version occur most often"
   ]
  },
  {
   "cell_type": "code",
   "execution_count": null,
   "metadata": {},
   "outputs": [],
   "source": [
    "plt.figure(figsize=(10,10))\n",
    "plt.xticks(rotation=90)\n",
    "plt.plot(value_counts.sort_index(), 'p-')\n",
    "#plt.yscale('log')\n",
    "#plt.title(\"NOTE LOG SCALE\")"
   ]
  },
  {
   "cell_type": "markdown",
   "metadata": {},
   "source": [
    "All the values are of the form \"1.1.X\". Let's strip out the \"1.1\" for convenience"
   ]
  },
  {
   "cell_type": "code",
   "execution_count": null,
   "metadata": {},
   "outputs": [],
   "source": [
    "value_counts.index = [i.split('1.1.')[1] for i in value_counts.index]"
   ]
  },
  {
   "cell_type": "code",
   "execution_count": null,
   "metadata": {},
   "outputs": [],
   "source": [
    "plt.figure(figsize=(10,10))\n",
    "plt.xticks(rotation=90)\n",
    "plt.plot(value_counts.sort_index(), 'p-')\n",
    "#plt.yscale('log')\n",
    "#plt.title(\"NOTE LOG SCALE\")"
   ]
  },
  {
   "cell_type": "markdown",
   "metadata": {},
   "source": [
    "As before, we want to explore the power of \"EngineVersion\" to predict HasDetections. We'll explore 3 ways (2 have already been used before).\n",
    "\n",
    "1. Group bys: Groupby the column of interest and the target column and see if there's a departure from the balance of 50-50% in the target within each group."
   ]
  },
  {
   "cell_type": "code",
   "execution_count": null,
   "metadata": {},
   "outputs": [],
   "source": [
    "print(\"Two dominant classes: \")\n",
    "train[train['EngineVersion'].isin(['1.1.15100.1', '1.1.15200.1'])].groupby(['EngineVersion', 'HasDetections']).count()['MachineIdentifier']"
   ]
  },
  {
   "cell_type": "markdown",
   "metadata": {},
   "source": [
    "This is good news! Overall in the data, we have #HasDetections=1 / #HasDetections=0 = 0.999 ~ 1 i.e. there are as many 0s as 1s.\n",
    "\n",
    "But within the subset of data with EngineVersion == 1.1.15100.1, we have a ratio of 1.23\n",
    "and within the subset of data with EngineVersion == 1.1.15200.1, we have a ratio of 0.96\n",
    "\n",
    "This asymmetry will help us when we build a model. But what about the non-dominant values for EngineVersion. Let's group them all into one category."
   ]
  },
  {
   "cell_type": "code",
   "execution_count": null,
   "metadata": {},
   "outputs": [],
   "source": [
    "train[~train['EngineVersion'].isin(['1.1.15100.1', '1.1.15200.1'])].groupby(['HasDetections']).count()['MachineIdentifier']"
   ]
  },
  {
   "cell_type": "markdown",
   "metadata": {},
   "source": [
    "Here, we get a ratio \n",
    "\n",
    "#HasDetections=1 / #HasDetections=0 = 0.62 \n",
    "\n",
    "This is excellent news. This class of the tail of EngineVersions has a significant departure from the 1:1 ratio. Let's proceed to the other two steps to understand how strong EngineVersion is.\n",
    "\n",
    "2. Mutual information"
   ]
  },
  {
   "cell_type": "code",
   "execution_count": null,
   "metadata": {},
   "outputs": [],
   "source": [
    "mutual_info_score(train['HasDetections'], train['EngineVersion'])"
   ]
  },
  {
   "cell_type": "markdown",
   "metadata": {},
   "source": [
    "3. Simple 1-factor model"
   ]
  },
  {
   "cell_type": "code",
   "execution_count": null,
   "metadata": {},
   "outputs": [],
   "source": [
    "train_df = train[['EngineVersion']].copy()\n",
    "test_df = test[['EngineVersion']].copy()"
   ]
  },
  {
   "cell_type": "code",
   "execution_count": null,
   "metadata": {},
   "outputs": [],
   "source": [
    "train_df[~train_df['EngineVersion'].isin(['1.1.15100.1', '1.1.15200.1'])] = 'rest'\n",
    "test_df[~test_df['EngineVersion'].isin(['1.1.15100.1', '1.1.15200.1'])] = 'rest'"
   ]
  },
  {
   "cell_type": "code",
   "execution_count": null,
   "metadata": {},
   "outputs": [],
   "source": [
    "train_df = pd.get_dummies(train_df[['EngineVersion']], dummy_na=True)\n",
    "test_df = pd.get_dummies(test_df[['EngineVersion']], dummy_na=True)"
   ]
  },
  {
   "cell_type": "code",
   "execution_count": null,
   "metadata": {},
   "outputs": [],
   "source": [
    "model = RandomForestClassifier()\n",
    "model.fit(train_df, train['HasDetections'])\n",
    "\n",
    "train_pred = model.predict_proba(train_df)[:,1] #prob of belonging to class 1\n",
    "test_pred = model.predict_proba(test_df)[:,1]\n",
    "\n",
    "train_labels = train['HasDetections']\n",
    "test_labels = test['HasDetections']\n",
    "\n",
    "train_score = roc_auc_score(train_labels, train_pred)\n",
    "test_score = roc_auc_score(test_labels, test_pred)\n",
    "\n",
    "print(f'train_score = {train_score} : test_score = {test_score}')"
   ]
  },
  {
   "cell_type": "markdown",
   "metadata": {},
   "source": [
    "Ah! much better - we get an AUC = ~0.56 which is better than chance as we expected given the asymmetries in the groupbys.\n",
    "\n",
    "A natural question is wondering whether we should have not grouped everything except the top-2 classes together but had a different arrangement.\n",
    "\n",
    "Let's tackle that question using mutual information.\n",
    "\n",
    "3. Mutual information"
   ]
  },
  {
   "cell_type": "code",
   "execution_count": null,
   "metadata": {},
   "outputs": [],
   "source": [
    "print(\"Mutual information between EngineVersion and HasDetections: \", mutual_info_score(train['EngineVersion'], train_df['HasDetections']))"
   ]
  },
  {
   "cell_type": "markdown",
   "metadata": {},
   "source": [
    "Let's now rank EngineVersion values by how many times they occur (value_counts) and group all the elements from index i to the last one together and see how mutual information is impacted"
   ]
  },
  {
   "cell_type": "code",
   "execution_count": null,
   "metadata": {},
   "outputs": [],
   "source": [
    "value_counts = train['EngineVersion'].value_counts()\n",
    "\n",
    "mi_values = {}\n",
    "for i in range(2, 60): #combine [i, last] -> one category\n",
    "    train_df = train[['EngineVersion']].copy()\n",
    "\n",
    "    top_values = list(value_counts[0:i].index)\n",
    "\n",
    "    train_df[~train_df['EngineVersion'].isin(top_values)] = 'rest'\n",
    "\n",
    "    mi_values[i] = mutual_info_score(train_df['EngineVersion'], train['HasDetections'])"
   ]
  },
  {
   "cell_type": "code",
   "execution_count": null,
   "metadata": {},
   "outputs": [],
   "source": [
    "sorted(mi_values.items(), key=operator.itemgetter(1), reverse=True)"
   ]
  },
  {
   "cell_type": "markdown",
   "metadata": {},
   "source": [
    "The values saturate to around ~0.0082 once we combine all the values from index 10 onwards (incl. 10)"
   ]
  },
  {
   "cell_type": "code",
   "execution_count": null,
   "metadata": {},
   "outputs": [],
   "source": [
    "plt.figure(figsize=(10,10))\n",
    "plt.plot(mi_values.keys(), mi_values.values(), 'p-')\n",
    "plt.plot(mi_values.keys(), [mutual_info_score(train['EngineVersion'], train['HasDetections'])]*len(mi_values), color='black')"
   ]
  },
  {
   "cell_type": "markdown",
   "metadata": {},
   "source": [
    "What this plots tells us is that mutual information goes up in drastic steps till we merge all the values from the 10th onwards into a single category. At that stage, we gain nothing more by adding more categories. So, let's do that!!"
   ]
  },
  {
   "cell_type": "code",
   "execution_count": null,
   "metadata": {},
   "outputs": [],
   "source": [
    "train_df = train[['EngineVersion']].copy()\n",
    "test_df = test[['EngineVersion']].copy()\n",
    "\n",
    "top_values = list(value_counts[0:11].index)\n",
    "\n",
    "train_df[~train_df['EngineVersion'].isin(top_values)] = 'rest'\n",
    "test_df[~test_df['EngineVersion'].isin(top_values)] = 'rest'\n",
    "\n",
    "train_df = pd.get_dummies(train_df[['EngineVersion']], dummy_na=True)\n",
    "test_df = pd.get_dummies(test_df[['EngineVersion']], dummy_na=True)"
   ]
  },
  {
   "cell_type": "code",
   "execution_count": null,
   "metadata": {},
   "outputs": [],
   "source": [
    "model = RandomForestClassifier()\n",
    "model.fit(train_df, train['HasDetections'])\n",
    "\n",
    "train_pred = model.predict_proba(train_df)[:,1] #prob of belonging to class 1\n",
    "test_pred = model.predict_proba(test_df)[:,1]\n",
    "\n",
    "train_labels = train['HasDetections']\n",
    "test_labels = test['HasDetections']\n",
    "\n",
    "train_score = roc_auc_score(train_labels, train_pred)\n",
    "test_score = roc_auc_score(test_labels, test_pred)\n",
    "\n",
    "print(f'col = {col} : train_score = {train_score} : test_score = {test_score}')"
   ]
  },
  {
   "cell_type": "markdown",
   "metadata": {},
   "source": [
    "We get a marginal improvement in our test score from:\n",
    "\n",
    "0.5581229859804917 -> 0.5604804598167951\n",
    "\n",
    "(improvement of 0.42%) but from just one feature and from ensuring we don't throw away too much information by combining all except the top 2 values."
   ]
  },
  {
   "cell_type": "markdown",
   "metadata": {},
   "source": [
    "**Note about cross-validation**:\n",
    "\n",
    "I have been implicitly looking at both train and test scores each time we fit a model. The idea is that they should be comparable. If the train score is far better (higher in the case of AUC) than the test score, then we are overfitting i.e. our model is memorizing the train set, doing very well on it but fails when new data comes in.\n",
    "\n",
    "We are not doing *hyperparameter tuning* yet i.e. we initialize our model as:\n",
    "\n",
    "model = RandomForestClassifier()\n",
    "\n",
    "which uses the default values for all arguments. Eventually, we'll want to vary those arguments to maximize *both* train and test scores till they start diverging. The idea is that with default values, both scores might be pretty low. As we tune or vary them, both scores might improve but if train score improves far more than test score, then we know we are overfitting and we need to undo the change.\n",
    "\n",
    "A common question is: what if the test score is **better** than the train score. This is a fluke! Don't rely on your model to do that systematically. One always wants control over the model i.e. by ensuring that performance on train and test is almost the same.\n",
    "\n",
    "Once we do K-fold cross-validation, this will be even easier to see. We'll have K test scores (one for each fold) and we can look at their variance to get a sense of the effect of randomized dataset selection on our model (at the cost of training many more models)."
   ]
  },
  {
   "cell_type": "markdown",
   "metadata": {},
   "source": [
    "# col = AppVersion (MI = 5.6*10^-3)"
   ]
  },
  {
   "cell_type": "markdown",
   "metadata": {},
   "source": [
    "Now we want to repeat a lot of the work that we did with EngineVersion and this is a good chance to consolidate all our work above."
   ]
  },
  {
   "cell_type": "code",
   "execution_count": null,
   "metadata": {},
   "outputs": [],
   "source": [
    "train['AppVersion'].value_counts()"
   ]
  },
  {
   "cell_type": "code",
   "execution_count": null,
   "metadata": {
    "scrolled": false
   },
   "outputs": [],
   "source": [
    "#histogram of value counts\n",
    "value_counts = train['AppVersion'].value_counts()\n",
    "\n",
    "plt.figure(figsize=(10,10))\n",
    "plt.hist(value_counts)\n",
    "\n",
    "plt.figure(figsize=(10,10))\n",
    "plt.hist(value_counts[1:])\n",
    "\n",
    "plt.figure(figsize=(10,10))\n",
    "plt.xticks(rotation=90)\n",
    "plt.plot(value_counts.sort_index(), 'p-')\n",
    "#plt.yscale('log')\n",
    "#plt.title(\"NOTE LOG SCALE\")"
   ]
  },
  {
   "cell_type": "code",
   "execution_count": null,
   "metadata": {},
   "outputs": [],
   "source": [
    "#Mutual information scan to find best # of value counts to combine\n",
    "#should also parallelize this piece\n",
    "\n",
    "def find_mi_threshold(train, colname, n_low = 1, n_high = None):\n",
    "    '''Since we'll only use this for categorical variables, cast to strings\n",
    "    '''\n",
    "    value_counts = train[colname].value_counts()\n",
    "    value_counts.index = [str(i) for i in value_counts.index]\n",
    "\n",
    "    if n_high is None:\n",
    "        n_high = len(value_counts)\n",
    "    \n",
    "    train_df_orig = train[[colname]].copy() #contains only 1 col\n",
    "    train_df_orig[colname] = train_df_orig[colname].astype(str) #contains only 1 col\n",
    "    \n",
    "    mi_values = {}\n",
    "    for i in range(n_low, n_high+1): #can be made smarter\n",
    "        top_values= list(value_counts[0:i].index)\n",
    "\n",
    "        train_df = train_df_orig.copy() #contains only 1 col\n",
    "        train_df[~train_df[colname].isin(top_values)] = 'rest'\n",
    "\n",
    "        mi_values[i] = mutual_info_score(train_df[colname], train['HasDetections'])\n",
    "        \n",
    "    return mi_values\n",
    "\n",
    "import multiprocessing as mp\n",
    "\n",
    "def find_mi_threshold_parallel(train, colname, n_low = 1, n_high = None, n_jobs=1):\n",
    "    '''Since we'll only use this for categorical variables, cast to strings\n",
    "    '''\n",
    "    \n",
    "    values = train[colname].astype(str).fillna('null')\n",
    "    \n",
    "    value_counts = values.value_counts()\n",
    "\n",
    "    if n_high is None:\n",
    "        n_high = len(value_counts)\n",
    "    \n",
    "    train_df_orig = pd.DataFrame(values)\n",
    "    \n",
    "    manager = mp.Manager()\n",
    "    mi_values = manager.dict()\n",
    "\n",
    "    def calc_mi(value_counts, train_df_orig, colname, mi_values, i):\n",
    "        top_values= list(value_counts[0:i].index)\n",
    "\n",
    "        train_df = train_df_orig.copy()\n",
    "        train_df[~train_df[colname].isin(top_values)] = 'rest'\n",
    "\n",
    "        mi_values[i] = mutual_info_score(train_df[colname], train['HasDetections'])\n",
    "    \n",
    "    proc_list = []\n",
    "    counter = 0\n",
    "    for i in range(n_low, n_high+1): #can be made smarter\n",
    "        proc = mp.Process(target=calc_mi, args=(value_counts, train_df_orig, colname, mi_values, i))\n",
    "        proc.start()\n",
    "        proc_list.append(proc)\n",
    "        counter += 1\n",
    "        \n",
    "        if counter % n_jobs == 0:\n",
    "            [p.join() for p in proc_list]\n",
    "            proc_list = []\n",
    "            \n",
    "    [p.join() for p in proc_list]\n",
    "        \n",
    "    mi_values = dict(mi_values)\n",
    "    \n",
    "    return mi_values"
   ]
  },
  {
   "cell_type": "code",
   "execution_count": null,
   "metadata": {},
   "outputs": [],
   "source": [
    "colname = 'AppVersion'"
   ]
  },
  {
   "cell_type": "code",
   "execution_count": null,
   "metadata": {},
   "outputs": [],
   "source": [
    "%time mi_values = find_mi_threshold(train, colname, n_low=1, n_high=20)"
   ]
  },
  {
   "cell_type": "code",
   "execution_count": null,
   "metadata": {},
   "outputs": [],
   "source": [
    "%time mi_values_parallel = find_mi_threshold_parallel(train, colname, n_low=1, n_high=20, n_jobs=10)"
   ]
  },
  {
   "cell_type": "code",
   "execution_count": null,
   "metadata": {
    "scrolled": false
   },
   "outputs": [],
   "source": [
    "sorted(mi_values.items(), key=operator.itemgetter(1), reverse=True)"
   ]
  },
  {
   "cell_type": "code",
   "execution_count": null,
   "metadata": {},
   "outputs": [],
   "source": [
    "sorted(mi_values_parallel.items(), key=operator.itemgetter(1), reverse=True)"
   ]
  },
  {
   "cell_type": "code",
   "execution_count": null,
   "metadata": {},
   "outputs": [],
   "source": [
    "plt.figure(figsize=(10,10))\n",
    "plt.plot(mi_values.keys(), mi_values.values(), 'p')\n",
    "plt.plot(mi_values_parallel.keys(), mi_values_parallel.values(), 'p', color='r', marker='+', markersize=30)\n",
    "plt.plot(mi_values.keys(), [mutual_info_score(train[colname], train['HasDetections'])]*len(mi_values), color='black')"
   ]
  },
  {
   "cell_type": "markdown",
   "metadata": {},
   "source": [
    "As before we see some saturation once we pick the top 16 values for AppVersion and combine the rest."
   ]
  },
  {
   "cell_type": "code",
   "execution_count": null,
   "metadata": {},
   "outputs": [],
   "source": [
    "assert(colname=='AppVersion')\n",
    "\n",
    "train_df = train[[colname]].copy()\n",
    "test_df = test[[colname]].copy()\n",
    "\n",
    "top_values = list(value_counts[0:17].index)\n",
    "\n",
    "train_df[~train_df[colname].isin(top_values)] = 'rest'\n",
    "test_df[~test_df[colname].isin(top_values)] = 'rest'\n",
    "\n",
    "train_df = pd.get_dummies(train_df[[colname]], dummy_na=True)\n",
    "test_df = pd.get_dummies(test_df[[colname]], dummy_na=True)"
   ]
  },
  {
   "cell_type": "code",
   "execution_count": null,
   "metadata": {},
   "outputs": [],
   "source": [
    "model = RandomForestClassifier()\n",
    "model.fit(train_df, train['HasDetections'])\n",
    "\n",
    "train_pred = model.predict_proba(train_df)[:,1] #prob of belonging to class 1\n",
    "test_pred = model.predict_proba(test_df)[:,1]\n",
    "\n",
    "train_labels = train['HasDetections']\n",
    "test_labels = test['HasDetections']\n",
    "\n",
    "train_score = roc_auc_score(train_labels, train_pred)\n",
    "test_score = roc_auc_score(test_labels, test_pred)\n",
    "\n",
    "print(f'col = {col} : train_score = {train_score} : test_score = {test_score}')"
   ]
  },
  {
   "cell_type": "markdown",
   "metadata": {},
   "source": [
    "At this stage, this might seem trivial. After all, we are doing only slightly better than random (AUC=0.5). But as before, this is just with one feature - AppVersion!\n",
    "\n",
    "## Aside: Models with multiple features\n",
    "\n",
    "Let's take a small detour now that we have explored two columns - EngineVersion (AUC = 0.56) and AppVersion (AUC = 0.54).\n",
    "\n",
    "Ideally, we would like to build a model that uses both values and see how well it does. Let's try that now!"
   ]
  },
  {
   "cell_type": "code",
   "execution_count": null,
   "metadata": {},
   "outputs": [],
   "source": [
    "#Function to create appropriate dataframe\n",
    "\n",
    "def create_one_hot(train, test, colnames, thresholds):\n",
    "    assert(len(colnames)==len(thresholds))\n",
    "    \n",
    "    train_df = train[colnames].astype(str).copy()\n",
    "    test_df = test[colnames].astype(str).copy()\n",
    "\n",
    "    train_list, test_list = [], []\n",
    "    for index, col in enumerate(colnames):\n",
    "        value_counts = train[col].value_counts()\n",
    "        value_counts.index = [str(i) for i in value_counts.index]\n",
    "        \n",
    "        top_values = list(value_counts[0:thresholds[index]].index)\n",
    "        \n",
    "        train_df[~train_df[col].isin(top_values)] = f'rest_{col}'\n",
    "        test_df[~test_df[col].isin(top_values)] = f'rest_{col}'\n",
    "        \n",
    "        train_list.append( pd.get_dummies(train_df[[col]], dummy_na=True) )\n",
    "        test_list.append( pd.get_dummies(test_df[[col]], dummy_na=True) )\n",
    "\n",
    "    train_df = pd.concat(train_list, axis=1)\n",
    "    test_df = pd.concat(test_list, axis=1)\n",
    "    \n",
    "    return train_df, test_df"
   ]
  },
  {
   "cell_type": "code",
   "execution_count": null,
   "metadata": {},
   "outputs": [],
   "source": [
    "train_df, test_df = create_one_hot(train, test, ['EngineVersion', 'AppVersion'], [11, 17])"
   ]
  },
  {
   "cell_type": "code",
   "execution_count": null,
   "metadata": {},
   "outputs": [],
   "source": [
    "print(train_df.shape)\n",
    "print(test_df.shape)"
   ]
  },
  {
   "cell_type": "code",
   "execution_count": null,
   "metadata": {},
   "outputs": [],
   "source": [
    "for col in train_df:\n",
    "    print(col)"
   ]
  },
  {
   "cell_type": "code",
   "execution_count": null,
   "metadata": {},
   "outputs": [],
   "source": [
    "def build_model(model, train_df, test_df):\n",
    "    '''Use train and test as global variables\n",
    "    '''\n",
    "    \n",
    "    model.fit(train_df, train['HasDetections'])\n",
    "\n",
    "    train_pred = model.predict_proba(train_df)[:,1] #prob of belonging to class 1\n",
    "    test_pred = model.predict_proba(test_df)[:,1]\n",
    "\n",
    "    train_labels = train['HasDetections']\n",
    "    test_labels = test['HasDetections']\n",
    "\n",
    "    train_score = roc_auc_score(train_labels, train_pred)\n",
    "    test_score = roc_auc_score(test_labels, test_pred)\n",
    "\n",
    "    print(f'train_score = {train_score} : test_score = {test_score}')\n",
    "    \n",
    "    return model, train_score, test_score"
   ]
  },
  {
   "cell_type": "code",
   "execution_count": null,
   "metadata": {},
   "outputs": [],
   "source": [
    "model = RandomForestClassifier()\n",
    "\n",
    "model,_,_ = build_model(model, train_df, test_df)"
   ]
  },
  {
   "cell_type": "markdown",
   "metadata": {},
   "source": [
    "So combining the two variables into one model gave us a significant boost!\n",
    "\n",
    "EngineVersion - AUC = ~0.560\n",
    "\n",
    "AppVersion - AUC = ~0.545\n",
    "\n",
    "Combine - AUC = ~0.580 (3% improvement over EngineVersion i.e. 0.560)\n",
    "\n",
    "If EngineVersion and AppVersion were perfectly correlated (i.e. in 1-1 correspondence for categorical variables), we would see no improvement by combining them."
   ]
  },
  {
   "cell_type": "markdown",
   "metadata": {},
   "source": [
    "## End of Aside: Models with multiple features"
   ]
  },
  {
   "cell_type": "markdown",
   "metadata": {},
   "source": [
    "# col = SmartScreen (MI = ??)"
   ]
  },
  {
   "cell_type": "markdown",
   "metadata": {},
   "source": [
    "We have our machinery setup so as long as columns are categorical, we can just keep applying it"
   ]
  },
  {
   "cell_type": "code",
   "execution_count": null,
   "metadata": {},
   "outputs": [],
   "source": [
    "colname = 'SmartScreen'\n",
    "\n",
    "value_counts = train[colname].fillna('null').value_counts()\n",
    "\n",
    "print(len(value_counts))\n",
    "value_counts"
   ]
  },
  {
   "cell_type": "code",
   "execution_count": null,
   "metadata": {},
   "outputs": [],
   "source": [
    "#Mutual information scan to find best # of value counts to combine\n",
    "\n",
    "assert(colname=='SmartScreen')\n",
    "\n",
    "mi_values = find_mi_threshold_parallel(train, colname, n_low=2, n_high=19, n_jobs=10)"
   ]
  },
  {
   "cell_type": "code",
   "execution_count": null,
   "metadata": {},
   "outputs": [],
   "source": [
    "sorted(mi_values.items(), key=operator.itemgetter(1), reverse=True)"
   ]
  },
  {
   "cell_type": "code",
   "execution_count": null,
   "metadata": {
    "scrolled": false
   },
   "outputs": [],
   "source": [
    "assert(colname=='SmartScreen')\n",
    "\n",
    "plt.figure(figsize=(10,10))\n",
    "plt.plot(mi_values.keys(), mi_values.values(), 'p')\n",
    "plt.plot(mi_values.keys(), [mutual_info_score(train[colname].astype(str).fillna('null'), train['HasDetections'])]*len(mi_values))"
   ]
  },
  {
   "cell_type": "code",
   "execution_count": null,
   "metadata": {},
   "outputs": [],
   "source": [
    "train_df, test_df = create_one_hot(train, test, ['EngineVersion', 'AppVersion', 'SmartScreen'], [11, 17, 6])"
   ]
  },
  {
   "cell_type": "code",
   "execution_count": null,
   "metadata": {},
   "outputs": [],
   "source": [
    "model = RandomForestClassifier(n_jobs=10)\n",
    "model,_,_ = build_model(model, train_df, test_df)"
   ]
  },
  {
   "cell_type": "markdown",
   "metadata": {},
   "source": [
    "**AUC = 0.635**"
   ]
  },
  {
   "cell_type": "markdown",
   "metadata": {},
   "source": [
    "### Notebooks vs modules\n",
    "\n",
    "This is a highly opinionated comment. Notebooks are great for small examples to be shared but get unwieldy with large amounts of code. One major headache is the presence of global variables that might be initialized with the wrong values. For example, we often use \"colname\" above and have to insert assert statements to ensure we are always working with a single column.\n",
    "\n",
    "In practice, I prefer using a simple text editor like sublime or emacs and ipython on the command line. At this stage in this project, I am putting in all functions in a utils.py file that we'll use from now on.\n",
    "\n",
    "#### Contents of util.py\n",
    "\n",
    "**read_data**: read data\n",
    "return train, test (created)\n",
    "\n",
    "**explore_one_hot**: logic to identify categorical vs float cols (just looks at types for now)\n",
    "return unique, categorical_cols, float_cols\n",
    "\n",
    "**find_threshold(train, colname, n_iter, cutoff)**: binary search to find number of values in colname to bunch together to get mi(colname, target) within cutoff% of full mi\n",
    "return threshold (None if not found) \n",
    "\n",
    "**find_all_thresholds(train, col_list, n_iter, cutoff)**: binary search to find number of values for every col in col_list\n",
    "return threshold_list #same length as col_list\n",
    "\n",
    "**create_one_hot(train, test, colnames, thresholds)**: for each categorical column, bunch low frequency values (using output of find_all_thresholds) together, do 1-hot encoding and create final train and test df\n",
    "return train_df, test_df #only for categorical cols\n",
    "\n",
    "\n",
    "**build_model(model, train_df, test_df, train, test)**: train_df, test_df are a concatenation of categorical 1-hot encoded and float cols.\n",
    "return model, train_score, test_score"
   ]
  },
  {
   "cell_type": "code",
   "execution_count": null,
   "metadata": {},
   "outputs": [],
   "source": [
    "# Example sequence of full flow using functions from utils.py\n",
    "execute=False\n",
    "\n",
    "if execute:\n",
    "    #read data and identify column types\n",
    "    train, test = utils.read_data()\n",
    "    unique, categorical_cols, float_cols = utils.explore_one_hot(train)\n",
    "\n",
    "    #df with float cols\n",
    "    train_df_float = train[float_cols].fillna(0)\n",
    "    test_df_float = test[float_cols].fillna(0)\n",
    "\n",
    "    #get thresholds for categorical columns\n",
    "    thresh_list_20 = utils.find_all_thresholds(train, categorical_cols, 20, 0.20, debug=True)\n",
    "    thresh_list_20_copy = copy.copy(thresh_list_20)\n",
    "    thresh_list_20_copy[0] = 50 #since 0th entry too high\n",
    "\n",
    "    #create 1-hot datasets\n",
    "    train_df_cat, test_df_cat = utils.create_one_hot(train, test, categorical_cols, thresh_list_20_copy)\n",
    "    cols = list(set(train_df_cat.columns).intersection(test_df_cat.columns))\n",
    "\n",
    "    train_df_cat = train_df_cat[cols]\n",
    "    test_df_cat = test_df_cat[cols]\n",
    "\n",
    "    #train model\n",
    "    model = utils.RandomForestClassifier(n_estimators=10, n_jobs=10, max_depth=15)\n",
    "    model, train_score, test_score = utils.build_model(model, train_df_cat, test_df_cat, train, test)"
   ]
  },
  {
   "cell_type": "markdown",
   "metadata": {},
   "source": [
    "## Combining all features\n",
    "\n",
    "Till now we have explored one feature at a time - either by looking at mutual information, building single-factor models or even by looking at groupbys.\n",
    "\n",
    "While this gave us some intuition and helped us clean up the data, it is generally NOT optimal for discovering which features are the most important. While we got decently performing models, our end goal is 1) to build a simple, generalizable, well-performing model, 2) to understand the dynamics of our problem i.e. to understand what the key factors for the presence of malware are.\n",
    "\n",
    "By building models using just one feature, we ignore the **interactions** between features. The features are not independent but affect each other and we want to account for those."
   ]
  },
  {
   "cell_type": "code",
   "execution_count": 6,
   "metadata": {},
   "outputs": [
    {
     "name": "stderr",
     "output_type": "stream",
     "text": [
      "/home/sanjay/.local/lib/python3.6/site-packages/IPython/core/interactiveshell.py:3183: DtypeWarning: Columns (28) have mixed types. Specify dtype option on import or set low_memory=False.\n",
      "  if (yield from self.run_code(code, result)):\n"
     ]
    }
   ],
   "source": [
    "train, test = utils.read_data()"
   ]
  },
  {
   "cell_type": "code",
   "execution_count": 7,
   "metadata": {},
   "outputs": [],
   "source": [
    "unique, categorical_cols, float_cols = utils.explore_one_hot(train)"
   ]
  },
  {
   "cell_type": "code",
   "execution_count": 8,
   "metadata": {},
   "outputs": [],
   "source": [
    "train_df_float = train[float_cols].fillna(0)\n",
    "test_df_float = test[float_cols].fillna(0)"
   ]
  },
  {
   "cell_type": "code",
   "execution_count": 9,
   "metadata": {},
   "outputs": [],
   "source": [
    "#conserve memory\n",
    "train.drop(float_cols, axis=1, inplace=True)\n",
    "test.drop(float_cols, axis=1, inplace=True)"
   ]
  },
  {
   "cell_type": "code",
   "execution_count": null,
   "metadata": {
    "scrolled": true
   },
   "outputs": [],
   "source": [
    "thresh_list_1 = utils.find_all_thresholds(train, categorical_cols, 20, 0.20, debug=True)\n",
    "thresh_list_1_copy = copy.copy(thresh_list_1)"
   ]
  },
  {
   "cell_type": "code",
   "execution_count": null,
   "metadata": {},
   "outputs": [],
   "source": [
    "for i in range(len(thresh_list_1)):\n",
    "    print(categorical_cols[i], thresh_list_1[i])"
   ]
  },
  {
   "cell_type": "code",
   "execution_count": null,
   "metadata": {},
   "outputs": [],
   "source": [
    "train_df_cat, test_df_cat = utils.create_one_hot(train, test, categorical_cols[1:], thresh_list_1[1:])\n",
    "cols = list(set(train_df_cat.columns).intersection(test_df_cat.columns))\n",
    "\n",
    "train_df_cat = train_df_cat[cols]\n",
    "test_df_cat = test_df_cat[cols]"
   ]
  },
  {
   "cell_type": "code",
   "execution_count": null,
   "metadata": {},
   "outputs": [],
   "source": [
    "train_df_cat = sparse.csr_matrix(train_df_cat)\n",
    "test_df_cat = sparse.csr_matrix(test_df_cat)"
   ]
  },
  {
   "cell_type": "code",
   "execution_count": null,
   "metadata": {},
   "outputs": [],
   "source": [
    "#all categorical features\n",
    "model_cat = utils.RandomForestClassifier(n_estimators=15, n_jobs=10, max_depth=15)\n",
    "model_cat, _, _ = utils.build_model(model_cat, train_df_cat, test_df_cat, train, test)"
   ]
  },
  {
   "cell_type": "code",
   "execution_count": null,
   "metadata": {},
   "outputs": [],
   "source": [
    "#all float features\n",
    "model_float = utils.RandomForestClassifier(n_estimators=10, n_jobs=10, max_depth=15)\n",
    "model_float, _, _ = utils.build_model(model_float, train_df_float, test_df_float, train, test)"
   ]
  },
  {
   "cell_type": "code",
   "execution_count": null,
   "metadata": {},
   "outputs": [],
   "source": [
    "print(train_df_float.shape)\n",
    "print(train_df_cat.shape)"
   ]
  },
  {
   "cell_type": "code",
   "execution_count": null,
   "metadata": {},
   "outputs": [],
   "source": [
    "feat_imp_cat = sorted(zip(cols, model_cat.feature_importances_), key=operator.itemgetter(1), reverse=True)"
   ]
  },
  {
   "cell_type": "code",
   "execution_count": null,
   "metadata": {},
   "outputs": [],
   "source": [
    "feat_imp_float = sorted(zip(train_df_float.columns, model_float.feature_importances_), key=operator.itemgetter(1), reverse=True)"
   ]
  },
  {
   "cell_type": "code",
   "execution_count": null,
   "metadata": {},
   "outputs": [],
   "source": [
    "plt.figure(figsize=(10,10))\n",
    "plt.plot([feat_imp_cat[i][1] for i in range(len(feat_imp_cat))], 'p-')\n",
    "plt.xlabel('index')\n",
    "plt.ylabel('feature importance')\n",
    "plt.title('feature importances for categorical features')"
   ]
  },
  {
   "cell_type": "code",
   "execution_count": null,
   "metadata": {},
   "outputs": [],
   "source": [
    "plt.figure(figsize=(10,10))\n",
    "plt.plot([feat_imp_float[i][1] for i in range(len(feat_imp_float))], 'p-')\n",
    "plt.xlabel('index')\n",
    "plt.ylabel('feature importance')\n",
    "plt.title('feature importances for float features')"
   ]
  },
  {
   "cell_type": "code",
   "execution_count": null,
   "metadata": {},
   "outputs": [],
   "source": [
    "float_selected_features = [i[0] for i in feat_imp_float[0:8]]"
   ]
  },
  {
   "cell_type": "code",
   "execution_count": null,
   "metadata": {},
   "outputs": [],
   "source": [
    "float_selected_features"
   ]
  },
  {
   "cell_type": "code",
   "execution_count": null,
   "metadata": {},
   "outputs": [],
   "source": [
    "cat_selected_features = [i[0] for i in feat_imp_cat[0:50]]"
   ]
  },
  {
   "cell_type": "code",
   "execution_count": null,
   "metadata": {},
   "outputs": [],
   "source": [
    "np.unique([i.split('_')[0] for i in cat_selected_features])"
   ]
  },
  {
   "cell_type": "code",
   "execution_count": null,
   "metadata": {},
   "outputs": [],
   "source": [
    "train_df_cat, test_df_cat = utils.create_one_hot(train, test, categorical_cols[1:], thresh_list_1[1:])\n",
    "cols = list(set(train_df_cat.columns).intersection(test_df_cat.columns))\n",
    "\n",
    "train_df_cat = train_df_cat[cat_selected_features]\n",
    "test_df_cat = test_df_cat[cat_selected_features]"
   ]
  },
  {
   "cell_type": "code",
   "execution_count": null,
   "metadata": {},
   "outputs": [],
   "source": [
    "train_df = pd.concat([train_df_cat, train_df_float[float_selected_features]], axis=1)\n",
    "test_df = pd.concat([test_df_cat, test_df_float[float_selected_features]], axis=1)"
   ]
  },
  {
   "cell_type": "code",
   "execution_count": null,
   "metadata": {},
   "outputs": [],
   "source": [
    "model_comb = utils.RandomForestClassifier(n_estimators=10, n_jobs=10, max_depth=15)\n",
    "model_comb,_,_ = utils.build_model(model_comb, train_df, test_df, train, test)"
   ]
  },
  {
   "cell_type": "code",
   "execution_count": null,
   "metadata": {},
   "outputs": [],
   "source": [
    "#Add AvSigVersion back\n",
    "train_avsig, test_avsig = utils.create_one_hot(train, test, ['AvSigVersion'], [200])"
   ]
  },
  {
   "cell_type": "code",
   "execution_count": null,
   "metadata": {},
   "outputs": [],
   "source": [
    "train_df = pd.concat([train_df, train_avsig], axis=1)\n",
    "test_df = pd.concat([test_df, test_avsig], axis=1)"
   ]
  },
  {
   "cell_type": "code",
   "execution_count": null,
   "metadata": {},
   "outputs": [],
   "source": [
    "model_comb = utils.RandomForestClassifier(n_estimators=10, n_jobs=10, max_depth=15)\n",
    "model_comb,_,_ = utils.build_model(model_comb, train_df, test_df, train, test)"
   ]
  },
  {
   "cell_type": "code",
   "execution_count": null,
   "metadata": {},
   "outputs": [],
   "source": []
  },
  {
   "cell_type": "code",
   "execution_count": null,
   "metadata": {},
   "outputs": [],
   "source": [
    "#AppVersion, EngineVersion and Census_TotalPhysicalRAM only\n",
    "train_df, test_df = create_one_hot(train, test, ['AppVersion', 'EngineVersion'], [10, 2])"
   ]
  },
  {
   "cell_type": "code",
   "execution_count": null,
   "metadata": {},
   "outputs": [],
   "source": [
    "train_df['Census_TotalPhysicalRAM'] = train_df_float['Census_TotalPhysicalRAM'].fillna(0)\n",
    "test_df['Census_TotalPhysicalRAM'] = test_df_float['Census_TotalPhysicalRAM'].fillna(0)"
   ]
  },
  {
   "cell_type": "code",
   "execution_count": null,
   "metadata": {},
   "outputs": [],
   "source": [
    "model = utils.RandomForestClassifier(max_depth=20, n_jobs=10)\n",
    "model, train_score, test_score = utils.build_model(model, train_df, test_df, train, test) #fix signature"
   ]
  },
  {
   "cell_type": "code",
   "execution_count": null,
   "metadata": {},
   "outputs": [],
   "source": [
    "train_df['Census_InternalPrimaryDiagonalDisplaySizeInInches'] = train['Census_InternalPrimaryDiagonalDisplaySizeInInches'].fillna(0)\n",
    "test_df['Census_InternalPrimaryDiagonalDisplaySizeInInches'] = test['Census_InternalPrimaryDiagonalDisplaySizeInInches'].fillna(0)"
   ]
  },
  {
   "cell_type": "code",
   "execution_count": null,
   "metadata": {},
   "outputs": [],
   "source": [
    "model = utils.RandomForestClassifier(max_depth=15, n_jobs=10)\n",
    "model, train_score, test_score = utils.build_model(model, train_df, test_df, train, test) #fix signature"
   ]
  },
  {
   "cell_type": "code",
   "execution_count": null,
   "metadata": {},
   "outputs": [],
   "source": [
    "train_df['Census_InternalBatteryNumberOfCharges'] = train['Census_InternalBatteryNumberOfCharges'].fillna(0)\n",
    "test_df['Census_InternalBatteryNumberOfCharges'] = test['Census_InternalBatteryNumberOfCharges'].fillna(0)"
   ]
  },
  {
   "cell_type": "code",
   "execution_count": null,
   "metadata": {},
   "outputs": [],
   "source": [
    "model = utils.RandomForestClassifier(max_depth=15, n_jobs=10)\n",
    "model, train_score, test_score = utils.build_model(model, train_df, test_df, train, test) #fix signature"
   ]
  },
  {
   "cell_type": "markdown",
   "metadata": {},
   "source": [
    "# Alternate Feature Engineering\n",
    "\n",
    "So far we have worked with categorical variables where there's no notion of order or ranking. We dealt with this issue by 1-hot encoding all categorical features and grouping the rarer values together. The risk with such an approach is that we are throwing exactly the values that matter. We looked at mutual information to alleviate this issue but let's now take a different approach.\n",
    "\n",
    "Instead of 1-hot encoding categorical features, we'll get the % of times each value occurs and then replace the value by this %."
   ]
  },
  {
   "cell_type": "code",
   "execution_count": 10,
   "metadata": {},
   "outputs": [],
   "source": [
    "train_df_cat_replace, test_df_cat_replace = utils.replace_by_values(train, test, categorical_cols)"
   ]
  },
  {
   "cell_type": "code",
   "execution_count": 11,
   "metadata": {},
   "outputs": [],
   "source": [
    "train_df = pd.concat([train_df_float, train_df_cat_replace], axis=1)\n",
    "test_df = pd.concat([test_df_float, test_df_cat_replace], axis=1)"
   ]
  },
  {
   "cell_type": "code",
   "execution_count": 12,
   "metadata": {},
   "outputs": [
    {
     "name": "stdout",
     "output_type": "stream",
     "text": [
      "train_score = 0.7223323648742506 : test_score = 0.7059878932134832\n"
     ]
    }
   ],
   "source": [
    "model = utils.RandomForestClassifier(n_estimators=100, max_depth=15, n_jobs=10)\n",
    "model, train_score, test_score = utils.build_model(model, train_df, test_df, train, test) #fix signature"
   ]
  },
  {
   "cell_type": "markdown",
   "metadata": {},
   "source": [
    "This is interesting! Not doing 1-hot encoding and treating this feature as an integer gives much better performance as doing the 1-hot encoding with none of the major preprocessing work. This is natural in model building. A lot of time is spent exploring and experimenting which supplies the intuition for next steps. Someone looking at the final model might find it trivial or straightforward but what gets hidden are the multiple blind alleys."
   ]
  },
  {
   "cell_type": "markdown",
   "metadata": {},
   "source": [
    "## Calibrating with Kaggle\n",
    "\n",
    "This is an important point if you are competing on Kaggle. Kaggle gave us both the train (labels known to us) and test (labels unknown to us but known to Kaggle) datasets. When we make predictions on the test set and submit the answers, Kaggle computes the AUC only on 63% of the test data and displays it on a leaderboard. We don't know which 63% they use! At the end of the competition, Kaggle computes the AUC on the remaining 37% and that's the score that is used to rank competitors.\n",
    "\n",
    "This is done to preven overfitting to the leaderboard i.e. to ensure that the solutions will actually be useful on future new datasets.\n",
    "\n",
    "For a competitor, this means a couple of things:\n",
    "\n",
    "1. Occasionally (at least once), build a model, compute your validation score (on the test set you set aside during training), compute predictions on the actual test set, make the submission to Kaggle and ensure the leaderboard score you get there is similar to your validation score. If not, either there's a bug on your end (biased sampling) or Kaggle has chosen a special 63%.\n",
    "\n",
    "2. Once you have faith in your cross-validation process, seek to improve the score by feature engineering and better models rather than constantly submitting to Kaggle and using improved scores to decide what steps to follow. This will result in overfitting to the leaderboard which can often lead to worse performance on the remaining 37%."
   ]
  },
  {
   "cell_type": "markdown",
   "metadata": {},
   "source": [
    "### Understanding the errors\n",
    "\n",
    "While we have a reasonable model with an AUC of 0.67 on the test set, we want to understand all the errors made by the model. This is a **crucial** step that is often missed but leads to a better understanding of the model."
   ]
  },
  {
   "cell_type": "code",
   "execution_count": null,
   "metadata": {},
   "outputs": [],
   "source": [
    "#predict probabilities of belonging to class 1\n",
    "train_pred = model.predict_proba(train_df)[:,1]\n",
    "test_pred = model.predict_proba(test_df)[:,1]"
   ]
  },
  {
   "cell_type": "code",
   "execution_count": null,
   "metadata": {},
   "outputs": [],
   "source": [
    "#plot probability distribution in train for classes 0 and 1\n",
    "fig = plt.figure(figsize=(10,10))\n",
    "ax = fig.add_subplot(311)\n",
    "n,b,p = plt.hist(train_pred[train['HasDetections']==0], color='b', label='0', bins=20);\n",
    "plt.hist(train_pred[train['HasDetections']==1], color='y', label='1', bins=b);\n",
    "plt.legend()\n",
    "\n",
    "ax = fig.add_subplot(312)\n",
    "plt.hist(train_pred[train['HasDetections']==1], color='y', label='1', bins=b);\n",
    "plt.hist(train_pred[train['HasDetections']==0], color='b', label='0', bins=b);\n",
    "plt.legend()\n",
    "\n",
    "\n",
    "ax = fig.add_subplot(313)\n",
    "plt.hist(train_pred[train['HasDetections']==0], label='0', bins=b, fc=(0,0,1,0.4));\n",
    "plt.hist(train_pred[train['HasDetections']==1], label='1', bins=b, fc=(1,0,0,0.4));\n",
    "plt.legend()"
   ]
  },
  {
   "cell_type": "code",
   "execution_count": null,
   "metadata": {},
   "outputs": [],
   "source": [
    "#plot probability distribution in train for classes 0 and 1\n",
    "fig = plt.figure(figsize=(10,10))\n",
    "ax = fig.add_subplot(311)\n",
    "n,b,p = plt.hist(test_pred[test['HasDetections']==0], color='b', label='0', bins=20);\n",
    "plt.hist(test_pred[test['HasDetections']==1], color='y', label='1', bins=b);\n",
    "plt.legend()\n",
    "\n",
    "ax = fig.add_subplot(312)\n",
    "plt.hist(test_pred[test['HasDetections']==1], color='y', label='1', bins=b);\n",
    "plt.hist(test_pred[test['HasDetections']==0], color='b', label='0', bins=b);\n",
    "plt.legend()\n",
    "\n",
    "\n",
    "ax = fig.add_subplot(313)\n",
    "plt.hist(test_pred[test['HasDetections']==0], label='0', bins=b, fc=(0,0,1,0.4));\n",
    "plt.hist(test_pred[test['HasDetections']==1], label='1', bins=b, fc=(1,0,0,0.4));\n",
    "plt.legend()"
   ]
  },
  {
   "cell_type": "markdown",
   "metadata": {},
   "source": [
    "As one can see, the distribution of scores for both classes (in either train or test) are pretty wide. In partiular, while at the tails, one class dominates, for most examples, the scores are similar in the bulk of the distribution. A better model would separate these two distributions more i.e. class 1 would have systematically higher scores than class 0 and then we could pick a threshold to separate them."
   ]
  },
  {
   "cell_type": "markdown",
   "metadata": {},
   "source": [
    "Let's start by studying the lower tail of the yellow histogram (label = 1 with low probabilities) and the higher tail ofthe blue histogram (label = 0 with high probabilities)"
   ]
  },
  {
   "cell_type": "code",
   "execution_count": null,
   "metadata": {},
   "outputs": [],
   "source": [
    "test_label0_incorrect = test_df[(test['HasDetections']==1) & (test_pred<0.4)]\n",
    "test_label0_correct = test_df[(test['HasDetections']==1) & (test_pred>0.65)]\n",
    "\n",
    "test_label1_incorrect = test_df[(test['HasDetections']==0) & (test_pred>0.6)]\n",
    "test_label1_correct = test_df[(test['HasDetections']==0) & (test_pred<0.4)]"
   ]
  },
  {
   "cell_type": "code",
   "execution_count": null,
   "metadata": {},
   "outputs": [],
   "source": [
    "colname = 'AvSigVersion'\n",
    "\n",
    "fig = plt.figure(figsize=(10,10))\n",
    "plt.hist(test_label0_correct[colname], label='0 c');\n",
    "plt.hist(test_label0_incorrect[colname], label='0 ic');\n",
    "plt.legend()"
   ]
  },
  {
   "cell_type": "markdown",
   "metadata": {},
   "source": [
    "## Aside: Different modeling techniques\n",
    "\n",
    "Let's take a second detour. We have only tried one modeling technique - Random Forests - till now. While they are flexible, we should either try random forests with different parameters or even other techniques.\n",
    "\n",
    "### Exploring Random Forests\n",
    "\n",
    "(This is a cursory introduction - for more details, see slides)\n",
    "\n",
    "Random forests are groups (hence the forest) of decision trees. A decision tree is essentially a sequence of if-else statements that will give us relatively pure (either HasDetections = 1 mostly or HasDetections = 0 mostly) at the end of each branch sequence.\n",
    "\n",
    "Instead of writing the if-else blocks by hand, we learn them in a decision tree. For each if-else block, we need two quantities - what variable to make a decision on and what the threshold should be to decide between the if and else block. \n",
    "\n",
    "A decision tree solves this conundrum in the simplest possible way - greedily. In other words, it loops through every feature/column/variable, and for each one, tries every possible threshold amongs the value the data actually takes and looks at the purity of the sample after the decision. The purity is simply a measure of how many 1s vs 0s the target has before and after the cut. For example, if before the cut, the data has 50% 1s and 50% 0s (like our dataset) and after making a cut, the if-statement gives all 1s and else-statement gives all 0s, then we are done. We have a perfect model. In practice, the algorithm chooses the variable and cut which gives the highest increase in purity.\n",
    "\n",
    "Purity can be measured several ways but one common measure is Gini which for our case would be:\n",
    "\n",
    "$p(1-p)$\n",
    "\n",
    "where p = probability (%) of rows that are labeled HasDetections=1.\n",
    "\n",
    "Another measure of purity is entropy, defined as:\n",
    "\n",
    "$S = -\\Sigma_{i \\in \\text{categories}} p_i \\log(p_i)$\n",
    "\n",
    "These metrics would be averaged over the if-block and the else-block.\n",
    "\n",
    "INSERT MATERIAL ABOUT RANDOM FORESTS"
   ]
  },
  {
   "cell_type": "code",
   "execution_count": 15,
   "metadata": {},
   "outputs": [
    {
     "name": "stdout",
     "output_type": "stream",
     "text": [
      "train_score = 0.722547139223918 : test_score = 0.7060186993033688\n"
     ]
    }
   ],
   "source": [
    "model1 = utils.RandomForestClassifier(n_estimators=100, max_depth=15, criterion='gini', n_jobs=10)\n",
    "model1 = utils.build_model(model1, train_df, test_df, train, test)"
   ]
  },
  {
   "attachments": {
    "image.png": {
     "image/png": "[encoded data removed]"
    }
   },
   "cell_type": "markdown",
   "metadata": {},
   "source": [
    "Another technique often used for classification is **Logistic Regression**. The basic idea is simple:\n",
    "\n",
    "Given N features $x_1, x_2, \\ldots x_n$, compute a linear combination:\n",
    "\n",
    "$a = a_1 x_1 + \\ldots + a_n x_n + b$ \n",
    "\n",
    "and compute a probability of belonging to class 1:\n",
    "\n",
    "$p = \\sigma(a) = \\frac{1}{1 + e^{-a}} \\in [0,1]$\n",
    "\n",
    "where $\\sigma$ is the classic **sigmoid** function.\n",
    "\n",
    "![image.png](attachment:image.png)\n",
    "\n",
    "The $a_i, b$ parameters are found by minimizing cross-entropy loss:\n",
    "\n",
    "$\\mathcal{L} = -\\Sigma_{i=1}^{N} y_i \\log(p_i) + (1-y_i) \\log(1-p_i)$\n",
    "\n",
    "where $y_i$ is the label (either 0 or 1) and $p_i$ is the predicted probability.\n",
    "\n",
    "Logistic regression is a linear method i.e. the linear combination ensures that the methods looks for a plane (a linear surface) in the n-dimensional feature space to separate class 0 from class 1. In the special case, when there are two input features, x and y, the linear combination:\n",
    "\n",
    "$a_1 x + a_2 y + b = 0$ \n",
    "\n",
    "(such that $\\sigma(a_1 x + a_2 y + b) =0.5$)\n",
    "\n",
    "defines the surface called the **decision boundary** which separates the two classes and it's a straight line in the x-y plane.\n",
    "\n",
    "We don't expect logistic regression to do very well on the input data with the alternate featurization (using value counts). This is because by featurizing this way, we are imposing additional constraints on the linear model that are not true. As an example, consider a categorical column D that takes two unique values A (60%), B (30%) and C (10%). We are replacing all instances of A by 60%, all of B by 30% and all of C by 10%. So logistic regression will compute $a$ as follows:\n",
    "\n",
    "D = A: $a_A = b + a_1*0.6$\n",
    "\n",
    "D = B: $a_B = b + a_1*0.3$\n",
    "\n",
    "D = C: $a_C = b + a_1*0.1$\n",
    "\n",
    "If $a_1 > 0$, then we have:\n",
    "\n",
    "$a_A > a_B > a_C \\rightarrow (p_A > p_B > p_C$)\n",
    "\n",
    "If $a_1 < 0$, then we have:\n",
    "\n",
    "$a_A < a_B < a_C \\rightarrow (p_A < p_B < p_C$)\n",
    "\n",
    "Either way the fact that we imposed an order on the features for A, B and C, results in logistic regression always obeying the same order for the probabilities. In general though, there are 3! = 6 permutations or possible orderings of these three factors but instead of learning through data, we are forcefully imposing one of two and logistic regression can at most pick one of two permutations by picking the sign of the weight $a_1$.\n",
    "\n",
    "A solution is to go back to using the 1-hot encoded data here which we leave as an exercise."
   ]
  },
  {
   "cell_type": "code",
   "execution_count": 16,
   "metadata": {},
   "outputs": [
    {
     "name": "stderr",
     "output_type": "stream",
     "text": [
      "/usr/local/lib64/python3.6/site-packages/sklearn/linear_model/logistic.py:432: FutureWarning: Default solver will be changed to 'lbfgs' in 0.22. Specify a solver to silence this warning.\n",
      "  FutureWarning)\n"
     ]
    },
    {
     "name": "stdout",
     "output_type": "stream",
     "text": [
      "train_score = 0.5591157004549895 : test_score = 0.5591913706291913\n"
     ]
    }
   ],
   "source": [
    "from sklearn.linear_model import LogisticRegression\n",
    "\n",
    "model2 = LogisticRegression() #don't worry about normalization right now\n",
    "model2 = utils.build_model(model2, train_df, test_df, train, test)"
   ]
  },
  {
   "cell_type": "code",
   "execution_count": null,
   "metadata": {},
   "outputs": [],
   "source": [
    "train_df = pd.concat([train_df_cat, train_df_float[float_selected_features]], axis=1)\n",
    "test_df = pd.concat([test_df_cat, test_df_float[float_selected_features]], axis=1)"
   ]
  },
  {
   "cell_type": "markdown",
   "metadata": {},
   "source": [
    "So we have two models - using completely different techniques and each gives roughly similar AUCs.\n",
    "\n",
    "What if we just average their predictions?"
   ]
  },
  {
   "cell_type": "code",
   "execution_count": null,
   "metadata": {},
   "outputs": [],
   "source": [
    "model1_train_pred = model1.predict_proba(train_df)[:, 1]\n",
    "model1_test_pred = model1.predict_proba(test_df)[:, 1]\n",
    "\n",
    "model2_train_pred = model2.predict_proba(train_df)[:, 1]\n",
    "model2_test_pred = model2.predict_proba(test_df)[:, 1]\n",
    "\n",
    "mean_train_pred = (model1_train_pred + model2_train_pred) / 2.\n",
    "mean_test_pred = (model1_test_pred + model2_test_pred) / 2."
   ]
  },
  {
   "cell_type": "code",
   "execution_count": null,
   "metadata": {},
   "outputs": [],
   "source": [
    "train_labels = train['HasDetections']\n",
    "test_labels = test['HasDetections']\n",
    "\n",
    "train_score = roc_auc_score(train_labels, mean_train_pred)\n",
    "test_score = roc_auc_score(test_labels, mean_test_pred)\n",
    "\n",
    "print(f'train_score = {train_score} : test_score = {test_score}')"
   ]
  },
  {
   "cell_type": "markdown",
   "metadata": {},
   "source": [
    "# Neural Networks"
   ]
  },
  {
   "cell_type": "code",
   "execution_count": null,
   "metadata": {},
   "outputs": [],
   "source": [
    "import torch.nn as nn\n",
    "import torch\n",
    "\n",
    "device = torch.device(\"cuda:0\" if torch.cuda.is_available() else \"cpu\")\n",
    "\n",
    "class Net(nn.Module):\n",
    "    def __init__(self, N_input=79, N_output=1, N_hidden_layers=1, N_hidden_nodes=100):\n",
    "        super(Net, self).__init__()\n",
    "        \n",
    "        self.linear1 = nn.Linear(N_input, N_hidden_nodes)\n",
    "        \n",
    "        self.hidden = nn.ModuleList([])\n",
    "        for i in range(N_hidden_layers-1):\n",
    "            self.hidden.append(nn.Linear(N_hidden_nodes, N_hidden_nodes))\n",
    "        \n",
    "        self.linear2 = nn.Linear(N_hidden_nodes, N_output)\n",
    "        \n",
    "        self.activation = nn.ReLU()\n",
    "        \n",
    "        self.output_activation = nn.Sigmoid()\n",
    "        \n",
    "    def forward(self, x):\n",
    "        out = self.activation(self.linear1(x))\n",
    "        for layer in self.hidden:\n",
    "            out = self.activation(layer(out))\n",
    "        out = self.output_activation(self.linear2(out))\n",
    "        \n",
    "        return out\n",
    "    \n",
    "def train_nn(features, target, model, learning_rate, N_epochs, N_batch_size):\n",
    "    criterion = nn.BCELoss() #cross-entropy\n",
    "    optimizer = torch.optim.Adam(model.parameters(), lr=learning_rate)\n",
    "    \n",
    "    return model"
   ]
  },
  {
   "cell_type": "code",
   "execution_count": null,
   "metadata": {},
   "outputs": [],
   "source": []
  },
  {
   "cell_type": "code",
   "execution_count": null,
   "metadata": {},
   "outputs": [],
   "source": []
  },
  {
   "cell_type": "code",
   "execution_count": null,
   "metadata": {},
   "outputs": [],
   "source": []
  },
  {
   "cell_type": "markdown",
   "metadata": {},
   "source": [
    "### More topics\n",
    "\n",
    "Probability calibration\n",
    "\n",
    "CV calibration with leaderboard\n",
    "\n",
    "Ensembling\n",
    "\n",
    "Interpretation\n",
    "\n",
    "Notes about kaggle vs real life"
   ]
  },
  {
   "cell_type": "code",
   "execution_count": null,
   "metadata": {},
   "outputs": [],
   "source": []
  }
 ],
 "metadata": {
  "kernelspec": {
   "display_name": "Python 3",
   "language": "python",
   "name": "python3"
  },
  "language_info": {
   "codemirror_mode": {
    "name": "ipython",
    "version": 3
   },
   "file_extension": ".py",
   "mimetype": "text/x-python",
   "name": "python",
   "nbconvert_exporter": "python",
   "pygments_lexer": "ipython3",
   "version": "3.7.2"
  }
 },
 "nbformat": 4,
 "nbformat_minor": 2
}
