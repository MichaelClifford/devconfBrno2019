{
 "cells": [
  {
   "cell_type": "code",
   "execution_count": 1,
   "metadata": {},
   "outputs": [],
   "source": [
    "%load_ext autoreload\n",
    "%autoreload 2"
   ]
  },
  {
   "cell_type": "code",
   "execution_count": 2,
   "metadata": {},
   "outputs": [],
   "source": [
    "import pandas as pd\n",
    "import numpy as np\n",
    "import sys\n",
    "import matplotlib.pylab as plt\n",
    "import operator\n",
    "from sklearn.metrics import mutual_info_score\n",
    "pd.set_option('display.width', 2000)"
   ]
  },
  {
   "cell_type": "code",
   "execution_count": 3,
   "metadata": {},
   "outputs": [
    {
     "data": {
      "text/plain": [
       "'3.6.6 (default, Jul 19 2018, 14:25:17) \\n[GCC 8.1.1 20180712 (Red Hat 8.1.1-5)]'"
      ]
     },
     "execution_count": 3,
     "metadata": {},
     "output_type": "execute_result"
    }
   ],
   "source": [
    "sys.version"
   ]
  },
  {
   "cell_type": "markdown",
   "metadata": {},
   "source": [
    "1. basics - exploratory work etc.\n",
    "2. featurize - write script to do MI work automatically and keep floats unchanged\n",
    "3. first model - combine all features into a single model + calibration with Kaggle\n",
    "4. hyperparameter tuning + k-fold - tune a few features. examples of grid search\n",
    "5. Model introspection - look for wrong predictions, turn into classification problem\n",
    "6. alternate models - logistic regression, SVMs, NN (pytorch - fully connected)\n",
    "7. ensembling\n",
    "8. final notes"
   ]
  },
  {
   "cell_type": "markdown",
   "metadata": {},
   "source": [
    "\n",
    "# Read Data"
   ]
  },
  {
   "cell_type": "code",
   "execution_count": 4,
   "metadata": {},
   "outputs": [
    {
     "name": "stderr",
     "output_type": "stream",
     "text": [
      "/home/sanjay/.local/lib/python3.6/site-packages/IPython/core/interactiveshell.py:3018: DtypeWarning: Columns (28) have mixed types. Specify dtype option on import or set low_memory=False.\n",
      "  interactivity=interactivity, compiler=compiler, result=result)\n"
     ]
    }
   ],
   "source": [
    "#read data\n",
    "data = pd.read_csv('data/MS/train.csv')"
   ]
  },
  {
   "cell_type": "code",
   "execution_count": 5,
   "metadata": {},
   "outputs": [
    {
     "data": {
      "text/plain": [
       "(8921483, 83)"
      ]
     },
     "execution_count": 5,
     "metadata": {},
     "output_type": "execute_result"
    }
   ],
   "source": [
    "#(nrows, ncols)\n",
    "data.shape"
   ]
  },
  {
   "cell_type": "code",
   "execution_count": 6,
   "metadata": {},
   "outputs": [
    {
     "data": {
      "text/html": [
       "<div>\n",
       "<style scoped>\n",
       "    .dataframe tbody tr th:only-of-type {\n",
       "        vertical-align: middle;\n",
       "    }\n",
       "\n",
       "    .dataframe tbody tr th {\n",
       "        vertical-align: top;\n",
       "    }\n",
       "\n",
       "    .dataframe thead th {\n",
       "        text-align: right;\n",
       "    }\n",
       "</style>\n",
       "<table border=\"1\" class=\"dataframe\">\n",
       "  <thead>\n",
       "    <tr style=\"text-align: right;\">\n",
       "      <th></th>\n",
       "      <th>MachineIdentifier</th>\n",
       "      <th>ProductName</th>\n",
       "      <th>EngineVersion</th>\n",
       "      <th>AppVersion</th>\n",
       "      <th>AvSigVersion</th>\n",
       "      <th>IsBeta</th>\n",
       "      <th>RtpStateBitfield</th>\n",
       "      <th>IsSxsPassiveMode</th>\n",
       "      <th>DefaultBrowsersIdentifier</th>\n",
       "      <th>AVProductStatesIdentifier</th>\n",
       "      <th>...</th>\n",
       "      <th>Census_FirmwareVersionIdentifier</th>\n",
       "      <th>Census_IsSecureBootEnabled</th>\n",
       "      <th>Census_IsWIMBootEnabled</th>\n",
       "      <th>Census_IsVirtualDevice</th>\n",
       "      <th>Census_IsTouchEnabled</th>\n",
       "      <th>Census_IsPenCapable</th>\n",
       "      <th>Census_IsAlwaysOnAlwaysConnectedCapable</th>\n",
       "      <th>Wdft_IsGamer</th>\n",
       "      <th>Wdft_RegionIdentifier</th>\n",
       "      <th>HasDetections</th>\n",
       "    </tr>\n",
       "  </thead>\n",
       "  <tbody>\n",
       "    <tr>\n",
       "      <th>0</th>\n",
       "      <td>0000028988387b115f69f31a3bf04f09</td>\n",
       "      <td>win8defender</td>\n",
       "      <td>1.1.15100.1</td>\n",
       "      <td>4.18.1807.18075</td>\n",
       "      <td>1.273.1735.0</td>\n",
       "      <td>0</td>\n",
       "      <td>7.0</td>\n",
       "      <td>0</td>\n",
       "      <td>NaN</td>\n",
       "      <td>53447.0</td>\n",
       "      <td>...</td>\n",
       "      <td>36144.0</td>\n",
       "      <td>0</td>\n",
       "      <td>NaN</td>\n",
       "      <td>0.0</td>\n",
       "      <td>0</td>\n",
       "      <td>0</td>\n",
       "      <td>0.0</td>\n",
       "      <td>0.0</td>\n",
       "      <td>10.0</td>\n",
       "      <td>0</td>\n",
       "    </tr>\n",
       "    <tr>\n",
       "      <th>1</th>\n",
       "      <td>000007535c3f730efa9ea0b7ef1bd645</td>\n",
       "      <td>win8defender</td>\n",
       "      <td>1.1.14600.4</td>\n",
       "      <td>4.13.17134.1</td>\n",
       "      <td>1.263.48.0</td>\n",
       "      <td>0</td>\n",
       "      <td>7.0</td>\n",
       "      <td>0</td>\n",
       "      <td>NaN</td>\n",
       "      <td>53447.0</td>\n",
       "      <td>...</td>\n",
       "      <td>57858.0</td>\n",
       "      <td>0</td>\n",
       "      <td>NaN</td>\n",
       "      <td>0.0</td>\n",
       "      <td>0</td>\n",
       "      <td>0</td>\n",
       "      <td>0.0</td>\n",
       "      <td>0.0</td>\n",
       "      <td>8.0</td>\n",
       "      <td>0</td>\n",
       "    </tr>\n",
       "    <tr>\n",
       "      <th>2</th>\n",
       "      <td>000007905a28d863f6d0d597892cd692</td>\n",
       "      <td>win8defender</td>\n",
       "      <td>1.1.15100.1</td>\n",
       "      <td>4.18.1807.18075</td>\n",
       "      <td>1.273.1341.0</td>\n",
       "      <td>0</td>\n",
       "      <td>7.0</td>\n",
       "      <td>0</td>\n",
       "      <td>NaN</td>\n",
       "      <td>53447.0</td>\n",
       "      <td>...</td>\n",
       "      <td>52682.0</td>\n",
       "      <td>0</td>\n",
       "      <td>NaN</td>\n",
       "      <td>0.0</td>\n",
       "      <td>0</td>\n",
       "      <td>0</td>\n",
       "      <td>0.0</td>\n",
       "      <td>0.0</td>\n",
       "      <td>3.0</td>\n",
       "      <td>0</td>\n",
       "    </tr>\n",
       "    <tr>\n",
       "      <th>3</th>\n",
       "      <td>00000b11598a75ea8ba1beea8459149f</td>\n",
       "      <td>win8defender</td>\n",
       "      <td>1.1.15100.1</td>\n",
       "      <td>4.18.1807.18075</td>\n",
       "      <td>1.273.1527.0</td>\n",
       "      <td>0</td>\n",
       "      <td>7.0</td>\n",
       "      <td>0</td>\n",
       "      <td>NaN</td>\n",
       "      <td>53447.0</td>\n",
       "      <td>...</td>\n",
       "      <td>20050.0</td>\n",
       "      <td>0</td>\n",
       "      <td>NaN</td>\n",
       "      <td>0.0</td>\n",
       "      <td>0</td>\n",
       "      <td>0</td>\n",
       "      <td>0.0</td>\n",
       "      <td>0.0</td>\n",
       "      <td>3.0</td>\n",
       "      <td>1</td>\n",
       "    </tr>\n",
       "    <tr>\n",
       "      <th>4</th>\n",
       "      <td>000014a5f00daa18e76b81417eeb99fc</td>\n",
       "      <td>win8defender</td>\n",
       "      <td>1.1.15100.1</td>\n",
       "      <td>4.18.1807.18075</td>\n",
       "      <td>1.273.1379.0</td>\n",
       "      <td>0</td>\n",
       "      <td>7.0</td>\n",
       "      <td>0</td>\n",
       "      <td>NaN</td>\n",
       "      <td>53447.0</td>\n",
       "      <td>...</td>\n",
       "      <td>19844.0</td>\n",
       "      <td>0</td>\n",
       "      <td>0.0</td>\n",
       "      <td>0.0</td>\n",
       "      <td>0</td>\n",
       "      <td>0</td>\n",
       "      <td>0.0</td>\n",
       "      <td>0.0</td>\n",
       "      <td>1.0</td>\n",
       "      <td>1</td>\n",
       "    </tr>\n",
       "    <tr>\n",
       "      <th>5</th>\n",
       "      <td>000016191b897145d069102325cab760</td>\n",
       "      <td>win8defender</td>\n",
       "      <td>1.1.15100.1</td>\n",
       "      <td>4.18.1807.18075</td>\n",
       "      <td>1.273.1094.0</td>\n",
       "      <td>0</td>\n",
       "      <td>7.0</td>\n",
       "      <td>0</td>\n",
       "      <td>NaN</td>\n",
       "      <td>53447.0</td>\n",
       "      <td>...</td>\n",
       "      <td>51039.0</td>\n",
       "      <td>0</td>\n",
       "      <td>0.0</td>\n",
       "      <td>0.0</td>\n",
       "      <td>0</td>\n",
       "      <td>0</td>\n",
       "      <td>0.0</td>\n",
       "      <td>0.0</td>\n",
       "      <td>15.0</td>\n",
       "      <td>1</td>\n",
       "    </tr>\n",
       "    <tr>\n",
       "      <th>6</th>\n",
       "      <td>0000161e8abf8d8b89c5ab8787fd712b</td>\n",
       "      <td>win8defender</td>\n",
       "      <td>1.1.15100.1</td>\n",
       "      <td>4.18.1807.18075</td>\n",
       "      <td>1.273.845.0</td>\n",
       "      <td>0</td>\n",
       "      <td>7.0</td>\n",
       "      <td>0</td>\n",
       "      <td>NaN</td>\n",
       "      <td>43927.0</td>\n",
       "      <td>...</td>\n",
       "      <td>63175.0</td>\n",
       "      <td>1</td>\n",
       "      <td>NaN</td>\n",
       "      <td>0.0</td>\n",
       "      <td>0</td>\n",
       "      <td>0</td>\n",
       "      <td>0.0</td>\n",
       "      <td>0.0</td>\n",
       "      <td>10.0</td>\n",
       "      <td>1</td>\n",
       "    </tr>\n",
       "    <tr>\n",
       "      <th>7</th>\n",
       "      <td>000019515bc8f95851aff6de873405e8</td>\n",
       "      <td>win8defender</td>\n",
       "      <td>1.1.15100.1</td>\n",
       "      <td>4.18.1807.18075</td>\n",
       "      <td>1.273.1393.0</td>\n",
       "      <td>0</td>\n",
       "      <td>7.0</td>\n",
       "      <td>0</td>\n",
       "      <td>NaN</td>\n",
       "      <td>53447.0</td>\n",
       "      <td>...</td>\n",
       "      <td>63122.0</td>\n",
       "      <td>0</td>\n",
       "      <td>0.0</td>\n",
       "      <td>0.0</td>\n",
       "      <td>0</td>\n",
       "      <td>0</td>\n",
       "      <td>0.0</td>\n",
       "      <td>0.0</td>\n",
       "      <td>15.0</td>\n",
       "      <td>0</td>\n",
       "    </tr>\n",
       "    <tr>\n",
       "      <th>8</th>\n",
       "      <td>00001a027a0ab970c408182df8484fce</td>\n",
       "      <td>win8defender</td>\n",
       "      <td>1.1.15200.1</td>\n",
       "      <td>4.18.1807.18075</td>\n",
       "      <td>1.275.988.0</td>\n",
       "      <td>0</td>\n",
       "      <td>7.0</td>\n",
       "      <td>0</td>\n",
       "      <td>NaN</td>\n",
       "      <td>53447.0</td>\n",
       "      <td>...</td>\n",
       "      <td>15510.0</td>\n",
       "      <td>0</td>\n",
       "      <td>0.0</td>\n",
       "      <td>0.0</td>\n",
       "      <td>0</td>\n",
       "      <td>0</td>\n",
       "      <td>0.0</td>\n",
       "      <td>0.0</td>\n",
       "      <td>15.0</td>\n",
       "      <td>0</td>\n",
       "    </tr>\n",
       "    <tr>\n",
       "      <th>9</th>\n",
       "      <td>00001a18d69bb60bda9779408dcf02ac</td>\n",
       "      <td>win8defender</td>\n",
       "      <td>1.1.15100.1</td>\n",
       "      <td>4.18.1807.18075</td>\n",
       "      <td>1.273.973.0</td>\n",
       "      <td>0</td>\n",
       "      <td>7.0</td>\n",
       "      <td>0</td>\n",
       "      <td>NaN</td>\n",
       "      <td>46413.0</td>\n",
       "      <td>...</td>\n",
       "      <td>63555.0</td>\n",
       "      <td>1</td>\n",
       "      <td>0.0</td>\n",
       "      <td>0.0</td>\n",
       "      <td>0</td>\n",
       "      <td>0</td>\n",
       "      <td>0.0</td>\n",
       "      <td>1.0</td>\n",
       "      <td>8.0</td>\n",
       "      <td>1</td>\n",
       "    </tr>\n",
       "  </tbody>\n",
       "</table>\n",
       "<p>10 rows × 83 columns</p>\n",
       "</div>"
      ],
      "text/plain": [
       "                  MachineIdentifier   ProductName EngineVersion       AppVersion  AvSigVersion  IsBeta  RtpStateBitfield  IsSxsPassiveMode  DefaultBrowsersIdentifier  AVProductStatesIdentifier      ...       Census_FirmwareVersionIdentifier  Census_IsSecureBootEnabled  Census_IsWIMBootEnabled  Census_IsVirtualDevice  Census_IsTouchEnabled  Census_IsPenCapable  Census_IsAlwaysOnAlwaysConnectedCapable  Wdft_IsGamer Wdft_RegionIdentifier HasDetections\n",
       "0  0000028988387b115f69f31a3bf04f09  win8defender   1.1.15100.1  4.18.1807.18075  1.273.1735.0       0               7.0                 0                        NaN                    53447.0      ...                                36144.0                           0                      NaN                     0.0                      0                    0                                      0.0           0.0                  10.0             0\n",
       "1  000007535c3f730efa9ea0b7ef1bd645  win8defender   1.1.14600.4     4.13.17134.1    1.263.48.0       0               7.0                 0                        NaN                    53447.0      ...                                57858.0                           0                      NaN                     0.0                      0                    0                                      0.0           0.0                   8.0             0\n",
       "2  000007905a28d863f6d0d597892cd692  win8defender   1.1.15100.1  4.18.1807.18075  1.273.1341.0       0               7.0                 0                        NaN                    53447.0      ...                                52682.0                           0                      NaN                     0.0                      0                    0                                      0.0           0.0                   3.0             0\n",
       "3  00000b11598a75ea8ba1beea8459149f  win8defender   1.1.15100.1  4.18.1807.18075  1.273.1527.0       0               7.0                 0                        NaN                    53447.0      ...                                20050.0                           0                      NaN                     0.0                      0                    0                                      0.0           0.0                   3.0             1\n",
       "4  000014a5f00daa18e76b81417eeb99fc  win8defender   1.1.15100.1  4.18.1807.18075  1.273.1379.0       0               7.0                 0                        NaN                    53447.0      ...                                19844.0                           0                      0.0                     0.0                      0                    0                                      0.0           0.0                   1.0             1\n",
       "5  000016191b897145d069102325cab760  win8defender   1.1.15100.1  4.18.1807.18075  1.273.1094.0       0               7.0                 0                        NaN                    53447.0      ...                                51039.0                           0                      0.0                     0.0                      0                    0                                      0.0           0.0                  15.0             1\n",
       "6  0000161e8abf8d8b89c5ab8787fd712b  win8defender   1.1.15100.1  4.18.1807.18075   1.273.845.0       0               7.0                 0                        NaN                    43927.0      ...                                63175.0                           1                      NaN                     0.0                      0                    0                                      0.0           0.0                  10.0             1\n",
       "7  000019515bc8f95851aff6de873405e8  win8defender   1.1.15100.1  4.18.1807.18075  1.273.1393.0       0               7.0                 0                        NaN                    53447.0      ...                                63122.0                           0                      0.0                     0.0                      0                    0                                      0.0           0.0                  15.0             0\n",
       "8  00001a027a0ab970c408182df8484fce  win8defender   1.1.15200.1  4.18.1807.18075   1.275.988.0       0               7.0                 0                        NaN                    53447.0      ...                                15510.0                           0                      0.0                     0.0                      0                    0                                      0.0           0.0                  15.0             0\n",
       "9  00001a18d69bb60bda9779408dcf02ac  win8defender   1.1.15100.1  4.18.1807.18075   1.273.973.0       0               7.0                 0                        NaN                    46413.0      ...                                63555.0                           1                      0.0                     0.0                      0                    0                                      0.0           1.0                   8.0             1\n",
       "\n",
       "[10 rows x 83 columns]"
      ]
     },
     "execution_count": 6,
     "metadata": {},
     "output_type": "execute_result"
    }
   ],
   "source": [
    "#first 10 rows\n",
    "data.head(10)"
   ]
  },
  {
   "cell_type": "code",
   "execution_count": 7,
   "metadata": {},
   "outputs": [
    {
     "data": {
      "text/plain": [
       "0    0000028988387b115f69f31a3bf04f09\n",
       "1    000007535c3f730efa9ea0b7ef1bd645\n",
       "2    000007905a28d863f6d0d597892cd692\n",
       "3    00000b11598a75ea8ba1beea8459149f\n",
       "4    000014a5f00daa18e76b81417eeb99fc\n",
       "5    000016191b897145d069102325cab760\n",
       "6    0000161e8abf8d8b89c5ab8787fd712b\n",
       "7    000019515bc8f95851aff6de873405e8\n",
       "8    00001a027a0ab970c408182df8484fce\n",
       "9    00001a18d69bb60bda9779408dcf02ac\n",
       "Name: MachineIdentifier, dtype: object"
      ]
     },
     "execution_count": 7,
     "metadata": {},
     "output_type": "execute_result"
    }
   ],
   "source": [
    "#access column's first 10 rows\n",
    "data['MachineIdentifier'].head(10)"
   ]
  },
  {
   "cell_type": "code",
   "execution_count": 8,
   "metadata": {},
   "outputs": [
    {
     "name": "stdout",
     "output_type": "stream",
     "text": [
      "MachineIdentifier : 8921483\n",
      "ProductName : 6\n",
      "EngineVersion : 70\n",
      "AppVersion : 110\n",
      "AvSigVersion : 8531\n",
      "IsBeta : 2\n",
      "RtpStateBitfield : 8\n",
      "IsSxsPassiveMode : 2\n",
      "DefaultBrowsersIdentifier : 2018\n",
      "AVProductStatesIdentifier : 28971\n",
      "AVProductsInstalled : 9\n",
      "AVProductsEnabled : 7\n",
      "HasTpm : 2\n",
      "CountryIdentifier : 222\n",
      "CityIdentifier : 107367\n",
      "OrganizationIdentifier : 50\n",
      "GeoNameIdentifier : 293\n",
      "LocaleEnglishNameIdentifier : 276\n",
      "Platform : 4\n",
      "Processor : 3\n",
      "OsVer : 58\n",
      "OsBuild : 76\n",
      "OsSuite : 14\n",
      "OsPlatformSubRelease : 9\n",
      "OsBuildLab : 664\n",
      "SkuEdition : 8\n",
      "IsProtected : 3\n",
      "AutoSampleOptIn : 2\n",
      "PuaMode : 3\n",
      "SMode : 3\n",
      "IeVerIdentifier : 304\n",
      "SmartScreen : 22\n",
      "Firewall : 3\n",
      "UacLuaenable : 12\n",
      "Census_MDC2FormFactor : 13\n",
      "Census_DeviceFamily : 3\n",
      "Census_OEMNameIdentifier : 3833\n",
      "Census_OEMModelIdentifier : 175366\n",
      "Census_ProcessorCoreCount : 46\n",
      "Census_ProcessorManufacturerIdentifier : 8\n",
      "Census_ProcessorModelIdentifier : 3429\n",
      "Census_ProcessorClass : 4\n",
      "Census_PrimaryDiskTotalCapacity : 5736\n",
      "Census_PrimaryDiskTypeName : 5\n",
      "Census_SystemVolumeTotalCapacity : 536849\n",
      "Census_HasOpticalDiskDrive : 2\n",
      "Census_TotalPhysicalRAM : 3447\n",
      "Census_ChassisTypeName : 53\n",
      "Census_InternalPrimaryDiagonalDisplaySizeInInches : 786\n",
      "Census_InternalPrimaryDisplayResolutionHorizontal : 2181\n",
      "Census_InternalPrimaryDisplayResolutionVertical : 1561\n",
      "Census_PowerPlatformRoleName : 11\n",
      "Census_InternalBatteryType : 79\n",
      "Census_InternalBatteryNumberOfCharges : 41089\n",
      "Census_OSVersion : 469\n",
      "Census_OSArchitecture : 3\n",
      "Census_OSBranch : 32\n",
      "Census_OSBuildNumber : 165\n",
      "Census_OSBuildRevision : 285\n",
      "Census_OSEdition : 33\n",
      "Census_OSSkuName : 30\n",
      "Census_OSInstallTypeName : 9\n",
      "Census_OSInstallLanguageIdentifier : 40\n",
      "Census_OSUILocaleIdentifier : 147\n",
      "Census_OSWUAutoUpdateOptionsName : 6\n",
      "Census_IsPortableOperatingSystem : 2\n",
      "Census_GenuineStateName : 5\n",
      "Census_ActivationChannel : 6\n",
      "Census_IsFlightingInternal : 3\n",
      "Census_IsFlightsDisabled : 3\n",
      "Census_FlightRing : 10\n",
      "Census_ThresholdOptIn : 3\n",
      "Census_FirmwareManufacturerIdentifier : 713\n",
      "Census_FirmwareVersionIdentifier : 50495\n",
      "Census_IsSecureBootEnabled : 2\n",
      "Census_IsWIMBootEnabled : 3\n",
      "Census_IsVirtualDevice : 3\n",
      "Census_IsTouchEnabled : 2\n",
      "Census_IsPenCapable : 2\n",
      "Census_IsAlwaysOnAlwaysConnectedCapable : 3\n",
      "Wdft_IsGamer : 3\n",
      "Wdft_RegionIdentifier : 16\n",
      "HasDetections : 2\n"
     ]
    }
   ],
   "source": [
    "#number of unique values for each column\n",
    "for col in data.columns:\n",
    "    print(f'{col} : {len(data[col].unique())}')"
   ]
  },
  {
   "cell_type": "markdown",
   "metadata": {},
   "source": [
    "Notes:\n",
    "\n",
    "   * No time-stamps - technically, one would expect a sequence of events before a machine is infected but this is data is a flat snapshot.\n",
    "    \n",
    "   * MachineIdentifier - primary key/index\n",
    "    \n",
    "   * HasDetections - binary target to predict (0 - not infected, 1 - infected) "
   ]
  },
  {
   "cell_type": "code",
   "execution_count": 9,
   "metadata": {},
   "outputs": [
    {
     "data": {
      "text/plain": [
       "0    4462591\n",
       "1    4458892\n",
       "Name: HasDetections, dtype: int64"
      ]
     },
     "execution_count": 9,
     "metadata": {},
     "output_type": "execute_result"
    }
   ],
   "source": [
    "#Distribution of target\n",
    "data['HasDetections'].value_counts()"
   ]
  },
  {
   "cell_type": "markdown",
   "metadata": {},
   "source": [
    "**Labels have an even distributions (~50-50%)**\n",
    "\n",
    "The column we are predicting is often called the \"label\" or the \"target\". Targets can be of many kinds:\n",
    "\n",
    "1. Real (float) values - such machine learning problems are called **regression** problems. Examples - predict the value of homes based on neighborhood and macroeconomic quantities, predict the angle through which a steering wheel should be turned on a self-driving car based on environment inputs.\n",
    "\n",
    "2. Discrete values - these problems are called **classification** problems. In this case, we have two labels - 0 or 1. A key distinction from regression is that while numerically 1 > 0, in terms of class there's no meaning to the statement class 1 > class 0 and this has to get reflected in the type of model chosen. If there are two classes or categories to be predicted, the problems are often called **binary classfication** problems as opposed to **multi-class classification** problems consisting of > 2 categories. Examples - is a check fake or not based on the image, image labels based on pixels.\n",
    "\n",
    "For binary classification problems, a concern is the balance of the two labels i.e.the % of rows with 0s with 1s. If they are roughly equally distributed, then there's no problem. But what if they are not? Let's look at an extreme example.\n",
    "\n",
    "For many (supervised) anomaly/outlier detection problems (target = 0 is normal, target = 1 is anomalous), most of the dataset consists of 0s with very few 1s. For example - maybe 98% of the rows are normal and 2% are anomalous. Why is this a problem? Suppose we build/train a model that predicts whether a data-point (row) is normal or anomalous. But we decide to cheat - our \"model\" predicts every row is normal (0). What would the accuracy of such a model be?\n",
    "\n",
    "Correct - we got all the target = 0 (98%) predictions right.\n",
    "\n",
    "Incorrect - we got all the target = 1 (2%) predictions wrong.\n",
    "\n",
    "So, our accuracy is 98% which sounds great but we didn't really learn the ability to predict the anomalies!!!\n",
    "\n",
    "There are some common remedies to this *class imbalance* problem:\n",
    "\n",
    "1. Use a different metric:\n",
    "\n",
    "Instead of accuracy, use area under curve (see below) or look at the confusion matrix, or precision/recall curves which are all sensitive to the problem described above.\n",
    "\n",
    "2. Resampling: \n",
    "\n",
    "Take all the anomalous rows and randomly sample as many rows from the normal rows. While this leads to a 50-50% label split, we dramatically reduced the size of our dataset (4% of the original). A workaround for the small dataset size is to do this procedure multiple times and train a model on each instance. The outputs from all the models is then combined in a meta-model which often leads to much better results.\n",
    "\n",
    "Another approach is to keep the normal rows but sample with replacement from the anomalous rows. This will lead to a 50-50% split with each anomalous row repeated several times.\n",
    "\n",
    "As with many aspects of practical machine learning, there's no procedure. What you pick depends on the problem, how various modeling techniques work, as well as sometimes just trial and error with careful checking.\n",
    "\n",
    "3. Resampling by weights:\n",
    "\n",
    "A very elegant approach is to apply a weight of 1 to each normal row but a much higher weight (49 = 98/2) to each anomalous row. What does this mean? Most machine learning algorithms can be recast as optimization problems where:\n",
    "\n",
    "$C = \\Sigma_{i=1}^n C[i]$\n",
    "\n",
    "is some *cost* that is to be minimized. Each $C[i]$ is 0 when the prediction for the $i^{th}$ point agrees with the label and is high when it doesn't.\n",
    "\n",
    "This can be modified to:\n",
    "\n",
    "$C = \\Sigma_{i=1}^n w(i) C[i]$\n",
    "\n",
    "where $w(i)$ is a weight that is 1 for the large class (normal) and high for the small class (anomalous).\n",
    "\n",
    "Suppose we have a simple cost function: if the prediction for the ith row is correct, $C[i] = 0$ and if it's wrong, $C[i] = 1$. Without the weights, whether we get an anomalous row prediction incorrect or a normal row prediction incorrect, our cost increases by 1.\n",
    "\n",
    "But with the weights, if we get a normal row prediction incorrect, the cost increases by 1 but if we get an anomalous row prediction incorrect, it increases by $w(i)$ (49 in this case). This forces the algorithm to try and get the anomalous predictions correct too instead of ignoring them and focusing on the majority class of normal rows.\n",
    "\n",
    "**Note on probabilities by scores**\n",
    "\n",
    "For classification problems, most algorithms predict a number (**score**) between 0 and 1. It is very tempting to treat these as probabilities of belonging to target = 1 but this is often incorrect.\n",
    "\n",
    "One way to use these scores is to use them as they are and pick a threshold (see AUC below) t, such that a score > t signifies a prediction of 1 and a score <= t signifies a prediction of 0.\n",
    "\n",
    "In some applications though, we want to intepret the score as a probability. The act of transforming scores to probabilities is called *probability calibration*.\n",
    "\n",
    "One scenario where this occurs is precisely the resampling mentioned above. "
   ]
  },
  {
   "cell_type": "markdown",
   "metadata": {},
   "source": [
    "# Measuring model performance"
   ]
  },
  {
   "cell_type": "markdown",
   "metadata": {},
   "source": [
    "The metric we use for this competition is \"Area under ROV curve\" (AUC = area under curve). This is a number between 0 and 1 where\n",
    "\n",
    "AUC = 0.5 -> random guesses for HasDetections\n",
    "\n",
    "AUC = 1.0 -> perfect predictions\n",
    "\n",
    "The core idea is very simple. Suppose we have a binary classification problem with labels = 0 or 1. We build a model that predicts a score between 0 and 1 and based on some threshold, t, we want to make a hard prediction for each row. More precisely, if the score > t -> prediction = 1 and if the score <= t -> prediction = 0.\n",
    "\n",
    "What t should we pick? Before answering this question, let's define a **confusion matrix**.\n",
    "\n",
    "Given a picked threshold t, we can make a prediction 0/1 for each row with labels 0/1. This lets us write a matrix\n",
    "\n",
    "INSERT MATERIAL"
   ]
  },
  {
   "cell_type": "markdown",
   "metadata": {},
   "source": [
    "# Validation\n",
    "\n",
    "We cannot just build a model on the train set and submit it. This usually results in overfitting i.e. a model memorizing answers instead of understanding statistical features and their relation to the output.\n",
    "\n",
    "To guard against this, a usual practice is cross-validation.\n",
    "\n",
    "We'll use a few common approaches:\n",
    "\n",
    "**Simple splits**:\n",
    "\n",
    "Split the data into a \"train\" set and a hold-out \"test\" set - maybe 60% is train and 40% is test. The model will be trained on the 60% and applied to the 40%. Since we know the labels (HasDetections) on both sets, we can evaluate how well we did.\n",
    "\n",
    "**Validation set**:\n",
    "\n",
    "The above approach has a problem. Often machine learning models have so-called hyperparameters i.e. parameters that are not optimized during fitting. Examples: linear regression with regularization - regularization strength, decision trees - tree depth (among others), neural networks - number of hidden layers, number of nodes in each layer, activation functions etc. In the process of finding\n",
    "\n",
    "We want to find the best possible model where \"best\" denotes the model with the highest AUC on the test set.\n",
    "\n",
    "How would one go about this? The straighforward approach is as follows:\n",
    "\n",
    "1. Pick a model class - say, random forests.\n",
    "2. Build the model on the train set and calculate the **test AUC** by applying it to the **test** set.\n",
    "3. Tweak the hyperparameters (say, number of trees) and repeat step 2 till **find maximum test AUC**.\n",
    "\n",
    "While this approach sounds reasonable, it'll also lead to overfitting. In particular, information about the test set \"leaks\" into the training process and the leaker is **us**! By looking at the test AUC, we make the decision to change the hyperparameter in the new model that is trained on the train set.\n",
    "\n",
    "So one will end up with excellent performance on the test set but when new data comes in, the model might suffer a drop in performance.\n",
    "\n",
    "**Golden Rule:** No information about the test set should ever touch the training process. This is called *leakage*.\n",
    "\n",
    "A common work-around this problem is to split the data into *3* pieces - \n",
    "\n",
    "**Train** set - data that the model is trained on\n",
    "\n",
    "**Validation** set - data to which model is applied to tune the hyperparameters\n",
    "\n",
    "**Test** set - once the final model (with the final hyperparameters) is picked, it is applied to the test set to really test performance\n",
    "\n",
    "**k-fold Cross Validation**:\n",
    "\n",
    "A problem with creating the validation set is that the data used for training might be severely diminished. For examples, maybe we'll choose train to be 60%, validation to be 20% and test to be 20% of the full data. Ideally, we would like to train with as much data as possible to get statistically accurate estimation of our model parameters.\n",
    "\n",
    "A work-around this problem is **k-fold cross-validation**.\n",
    "\n",
    "The idea is simple:\n",
    "\n",
    "1. Split the data into k equal pieces.\n",
    "\n",
    "2. Hold one of the pieces out and train on the remaining k-1 pieces.\n",
    "\n",
    "3. Evaluate the performance (AUC) on the 1 piece left out.\n",
    "\n",
    "For each piece that's left out, we'll have one AUC to give k AUCs. The final AUC is the average of these k AUCs.\n",
    "\n",
    "The advantage of this approach is that we don't need a validation set and we can use more data for training. The major disadvantage is that one now needs k training loops instead of just 1.\n",
    "\n",
    "**WARNING**: The data should be shuffled (and sklearn takes care of that) for all these splitting strategies. It is crucial to have randomly selected data in each set which results in the same probability distributions of the features in each set.\n",
    "\n",
    "Example: we don't want to build a model to control airplane surfaces based on calm wind conditions (train set) and apply it in turbulent situations (test set). Randomization ensures that both train and test have the same mix of calm and turbulent conditions.\n",
    "\n",
    "INSERT NOTE ABOUT TIME-SERIES VALIDATION"
   ]
  },
  {
   "cell_type": "code",
   "execution_count": 10,
   "metadata": {},
   "outputs": [
    {
     "name": "stderr",
     "output_type": "stream",
     "text": [
      "/usr/local/lib64/python3.6/site-packages/sklearn/model_selection/_split.py:2069: FutureWarning: From version 0.21, test_size will always complement train_size unless both are specified.\n",
      "  FutureWarning)\n"
     ]
    },
    {
     "ename": "KeyboardInterrupt",
     "evalue": "",
     "output_type": "error",
     "traceback": [
      "\u001b[0;31m---------------------------------------------------------------------------\u001b[0m",
      "\u001b[0;31mKeyboardInterrupt\u001b[0m                         Traceback (most recent call last)",
      "\u001b[0;32m<ipython-input-10-d46d54c590b3>\u001b[0m in \u001b[0;36m<module>\u001b[0;34m\u001b[0m\n\u001b[1;32m      2\u001b[0m \u001b[0;32mfrom\u001b[0m \u001b[0msklearn\u001b[0m\u001b[0;34m.\u001b[0m\u001b[0mmodel_selection\u001b[0m \u001b[0;32mimport\u001b[0m \u001b[0mtrain_test_split\u001b[0m\u001b[0;34m\u001b[0m\u001b[0m\n\u001b[1;32m      3\u001b[0m \u001b[0;34m\u001b[0m\u001b[0m\n\u001b[0;32m----> 4\u001b[0;31m \u001b[0mtrain\u001b[0m\u001b[0;34m,\u001b[0m \u001b[0mtest\u001b[0m \u001b[0;34m=\u001b[0m \u001b[0mtrain_test_split\u001b[0m\u001b[0;34m(\u001b[0m\u001b[0mdata\u001b[0m\u001b[0;34m,\u001b[0m \u001b[0mtrain_size\u001b[0m\u001b[0;34m=\u001b[0m\u001b[0;36m0.60\u001b[0m\u001b[0;34m)\u001b[0m\u001b[0;34m\u001b[0m\u001b[0m\n\u001b[0m\u001b[1;32m      5\u001b[0m \u001b[0;34m\u001b[0m\u001b[0m\n\u001b[1;32m      6\u001b[0m \u001b[0;31m#convert to pandas dataframes\u001b[0m\u001b[0;34m\u001b[0m\u001b[0;34m\u001b[0m\u001b[0m\n",
      "\u001b[0;32m/usr/local/lib64/python3.6/site-packages/sklearn/model_selection/_split.py\u001b[0m in \u001b[0;36mtrain_test_split\u001b[0;34m(*arrays, **options)\u001b[0m\n\u001b[1;32m   2100\u001b[0m \u001b[0;34m\u001b[0m\u001b[0m\n\u001b[1;32m   2101\u001b[0m     return list(chain.from_iterable((safe_indexing(a, train),\n\u001b[0;32m-> 2102\u001b[0;31m                                      safe_indexing(a, test)) for a in arrays))\n\u001b[0m\u001b[1;32m   2103\u001b[0m \u001b[0;34m\u001b[0m\u001b[0m\n\u001b[1;32m   2104\u001b[0m \u001b[0;34m\u001b[0m\u001b[0m\n",
      "\u001b[0;32m/usr/local/lib64/python3.6/site-packages/sklearn/model_selection/_split.py\u001b[0m in \u001b[0;36m<genexpr>\u001b[0;34m(.0)\u001b[0m\n\u001b[1;32m   2100\u001b[0m \u001b[0;34m\u001b[0m\u001b[0m\n\u001b[1;32m   2101\u001b[0m     return list(chain.from_iterable((safe_indexing(a, train),\n\u001b[0;32m-> 2102\u001b[0;31m                                      safe_indexing(a, test)) for a in arrays))\n\u001b[0m\u001b[1;32m   2103\u001b[0m \u001b[0;34m\u001b[0m\u001b[0m\n\u001b[1;32m   2104\u001b[0m \u001b[0;34m\u001b[0m\u001b[0m\n",
      "\u001b[0;32m/usr/local/lib64/python3.6/site-packages/sklearn/utils/__init__.py\u001b[0m in \u001b[0;36msafe_indexing\u001b[0;34m(X, indices)\u001b[0m\n\u001b[1;32m    172\u001b[0m         \u001b[0;31m# Pandas Dataframes and Series\u001b[0m\u001b[0;34m\u001b[0m\u001b[0;34m\u001b[0m\u001b[0m\n\u001b[1;32m    173\u001b[0m         \u001b[0;32mtry\u001b[0m\u001b[0;34m:\u001b[0m\u001b[0;34m\u001b[0m\u001b[0m\n\u001b[0;32m--> 174\u001b[0;31m             \u001b[0;32mreturn\u001b[0m \u001b[0mX\u001b[0m\u001b[0;34m.\u001b[0m\u001b[0miloc\u001b[0m\u001b[0;34m[\u001b[0m\u001b[0mindices\u001b[0m\u001b[0;34m]\u001b[0m\u001b[0;34m\u001b[0m\u001b[0m\n\u001b[0m\u001b[1;32m    175\u001b[0m         \u001b[0;32mexcept\u001b[0m \u001b[0mValueError\u001b[0m\u001b[0;34m:\u001b[0m\u001b[0;34m\u001b[0m\u001b[0m\n\u001b[1;32m    176\u001b[0m             \u001b[0;31m# Cython typed memoryviews internally used in pandas do not support\u001b[0m\u001b[0;34m\u001b[0m\u001b[0;34m\u001b[0m\u001b[0m\n",
      "\u001b[0;32m/usr/local/lib64/python3.6/site-packages/pandas/core/indexing.py\u001b[0m in \u001b[0;36m__getitem__\u001b[0;34m(self, key)\u001b[0m\n\u001b[1;32m   1476\u001b[0m \u001b[0;34m\u001b[0m\u001b[0m\n\u001b[1;32m   1477\u001b[0m             \u001b[0mmaybe_callable\u001b[0m \u001b[0;34m=\u001b[0m \u001b[0mcom\u001b[0m\u001b[0;34m.\u001b[0m\u001b[0m_apply_if_callable\u001b[0m\u001b[0;34m(\u001b[0m\u001b[0mkey\u001b[0m\u001b[0;34m,\u001b[0m \u001b[0mself\u001b[0m\u001b[0;34m.\u001b[0m\u001b[0mobj\u001b[0m\u001b[0;34m)\u001b[0m\u001b[0;34m\u001b[0m\u001b[0m\n\u001b[0;32m-> 1478\u001b[0;31m             \u001b[0;32mreturn\u001b[0m \u001b[0mself\u001b[0m\u001b[0;34m.\u001b[0m\u001b[0m_getitem_axis\u001b[0m\u001b[0;34m(\u001b[0m\u001b[0mmaybe_callable\u001b[0m\u001b[0;34m,\u001b[0m \u001b[0maxis\u001b[0m\u001b[0;34m=\u001b[0m\u001b[0maxis\u001b[0m\u001b[0;34m)\u001b[0m\u001b[0;34m\u001b[0m\u001b[0m\n\u001b[0m\u001b[1;32m   1479\u001b[0m \u001b[0;34m\u001b[0m\u001b[0m\n\u001b[1;32m   1480\u001b[0m     \u001b[0;32mdef\u001b[0m \u001b[0m_is_scalar_access\u001b[0m\u001b[0;34m(\u001b[0m\u001b[0mself\u001b[0m\u001b[0;34m,\u001b[0m \u001b[0mkey\u001b[0m\u001b[0;34m)\u001b[0m\u001b[0;34m:\u001b[0m\u001b[0;34m\u001b[0m\u001b[0m\n",
      "\u001b[0;32m/usr/local/lib64/python3.6/site-packages/pandas/core/indexing.py\u001b[0m in \u001b[0;36m_getitem_axis\u001b[0;34m(self, key, axis)\u001b[0m\n\u001b[1;32m   2089\u001b[0m         \u001b[0;31m# a list of integers\u001b[0m\u001b[0;34m\u001b[0m\u001b[0;34m\u001b[0m\u001b[0m\n\u001b[1;32m   2090\u001b[0m         \u001b[0;32melif\u001b[0m \u001b[0mis_list_like_indexer\u001b[0m\u001b[0;34m(\u001b[0m\u001b[0mkey\u001b[0m\u001b[0;34m)\u001b[0m\u001b[0;34m:\u001b[0m\u001b[0;34m\u001b[0m\u001b[0m\n\u001b[0;32m-> 2091\u001b[0;31m             \u001b[0;32mreturn\u001b[0m \u001b[0mself\u001b[0m\u001b[0;34m.\u001b[0m\u001b[0m_get_list_axis\u001b[0m\u001b[0;34m(\u001b[0m\u001b[0mkey\u001b[0m\u001b[0;34m,\u001b[0m \u001b[0maxis\u001b[0m\u001b[0;34m=\u001b[0m\u001b[0maxis\u001b[0m\u001b[0;34m)\u001b[0m\u001b[0;34m\u001b[0m\u001b[0m\n\u001b[0m\u001b[1;32m   2092\u001b[0m \u001b[0;34m\u001b[0m\u001b[0m\n\u001b[1;32m   2093\u001b[0m         \u001b[0;31m# a single integer\u001b[0m\u001b[0;34m\u001b[0m\u001b[0;34m\u001b[0m\u001b[0m\n",
      "\u001b[0;32m/usr/local/lib64/python3.6/site-packages/pandas/core/indexing.py\u001b[0m in \u001b[0;36m_get_list_axis\u001b[0;34m(self, key, axis)\u001b[0m\n\u001b[1;32m   2068\u001b[0m             \u001b[0maxis\u001b[0m \u001b[0;34m=\u001b[0m \u001b[0mself\u001b[0m\u001b[0;34m.\u001b[0m\u001b[0maxis\u001b[0m \u001b[0;32mor\u001b[0m \u001b[0;36m0\u001b[0m\u001b[0;34m\u001b[0m\u001b[0m\n\u001b[1;32m   2069\u001b[0m         \u001b[0;32mtry\u001b[0m\u001b[0;34m:\u001b[0m\u001b[0;34m\u001b[0m\u001b[0m\n\u001b[0;32m-> 2070\u001b[0;31m             \u001b[0;32mreturn\u001b[0m \u001b[0mself\u001b[0m\u001b[0;34m.\u001b[0m\u001b[0mobj\u001b[0m\u001b[0;34m.\u001b[0m\u001b[0m_take\u001b[0m\u001b[0;34m(\u001b[0m\u001b[0mkey\u001b[0m\u001b[0;34m,\u001b[0m \u001b[0maxis\u001b[0m\u001b[0;34m=\u001b[0m\u001b[0maxis\u001b[0m\u001b[0;34m)\u001b[0m\u001b[0;34m\u001b[0m\u001b[0m\n\u001b[0m\u001b[1;32m   2071\u001b[0m         \u001b[0;32mexcept\u001b[0m \u001b[0mIndexError\u001b[0m\u001b[0;34m:\u001b[0m\u001b[0;34m\u001b[0m\u001b[0m\n\u001b[1;32m   2072\u001b[0m             \u001b[0;31m# re-raise with different error message\u001b[0m\u001b[0;34m\u001b[0m\u001b[0;34m\u001b[0m\u001b[0m\n",
      "\u001b[0;32m/usr/local/lib64/python3.6/site-packages/pandas/core/generic.py\u001b[0m in \u001b[0;36m_take\u001b[0;34m(self, indices, axis, is_copy)\u001b[0m\n\u001b[1;32m   2787\u001b[0m         new_data = self._data.take(indices,\n\u001b[1;32m   2788\u001b[0m                                    \u001b[0maxis\u001b[0m\u001b[0;34m=\u001b[0m\u001b[0mself\u001b[0m\u001b[0;34m.\u001b[0m\u001b[0m_get_block_manager_axis\u001b[0m\u001b[0;34m(\u001b[0m\u001b[0maxis\u001b[0m\u001b[0;34m)\u001b[0m\u001b[0;34m,\u001b[0m\u001b[0;34m\u001b[0m\u001b[0m\n\u001b[0;32m-> 2789\u001b[0;31m                                    verify=True)\n\u001b[0m\u001b[1;32m   2790\u001b[0m         \u001b[0mresult\u001b[0m \u001b[0;34m=\u001b[0m \u001b[0mself\u001b[0m\u001b[0;34m.\u001b[0m\u001b[0m_constructor\u001b[0m\u001b[0;34m(\u001b[0m\u001b[0mnew_data\u001b[0m\u001b[0;34m)\u001b[0m\u001b[0;34m.\u001b[0m\u001b[0m__finalize__\u001b[0m\u001b[0;34m(\u001b[0m\u001b[0mself\u001b[0m\u001b[0;34m)\u001b[0m\u001b[0;34m\u001b[0m\u001b[0m\n\u001b[1;32m   2791\u001b[0m \u001b[0;34m\u001b[0m\u001b[0m\n",
      "\u001b[0;32m/usr/local/lib64/python3.6/site-packages/pandas/core/internals.py\u001b[0m in \u001b[0;36mtake\u001b[0;34m(self, indexer, axis, verify, convert)\u001b[0m\n\u001b[1;32m   4537\u001b[0m         \u001b[0mnew_labels\u001b[0m \u001b[0;34m=\u001b[0m \u001b[0mself\u001b[0m\u001b[0;34m.\u001b[0m\u001b[0maxes\u001b[0m\u001b[0;34m[\u001b[0m\u001b[0maxis\u001b[0m\u001b[0;34m]\u001b[0m\u001b[0;34m.\u001b[0m\u001b[0mtake\u001b[0m\u001b[0;34m(\u001b[0m\u001b[0mindexer\u001b[0m\u001b[0;34m)\u001b[0m\u001b[0;34m\u001b[0m\u001b[0m\n\u001b[1;32m   4538\u001b[0m         return self.reindex_indexer(new_axis=new_labels, indexer=indexer,\n\u001b[0;32m-> 4539\u001b[0;31m                                     axis=axis, allow_dups=True)\n\u001b[0m\u001b[1;32m   4540\u001b[0m \u001b[0;34m\u001b[0m\u001b[0m\n\u001b[1;32m   4541\u001b[0m     \u001b[0;32mdef\u001b[0m \u001b[0mmerge\u001b[0m\u001b[0;34m(\u001b[0m\u001b[0mself\u001b[0m\u001b[0;34m,\u001b[0m \u001b[0mother\u001b[0m\u001b[0;34m,\u001b[0m \u001b[0mlsuffix\u001b[0m\u001b[0;34m=\u001b[0m\u001b[0;34m''\u001b[0m\u001b[0;34m,\u001b[0m \u001b[0mrsuffix\u001b[0m\u001b[0;34m=\u001b[0m\u001b[0;34m''\u001b[0m\u001b[0;34m)\u001b[0m\u001b[0;34m:\u001b[0m\u001b[0;34m\u001b[0m\u001b[0m\n",
      "\u001b[0;32m/usr/local/lib64/python3.6/site-packages/pandas/core/internals.py\u001b[0m in \u001b[0;36mreindex_indexer\u001b[0;34m(self, new_axis, indexer, axis, fill_value, allow_dups, copy)\u001b[0m\n\u001b[1;32m   4423\u001b[0m             new_blocks = [blk.take_nd(indexer, axis=axis, fill_tuple=(\n\u001b[1;32m   4424\u001b[0m                 fill_value if fill_value is not None else blk.fill_value,))\n\u001b[0;32m-> 4425\u001b[0;31m                 for blk in self.blocks]\n\u001b[0m\u001b[1;32m   4426\u001b[0m \u001b[0;34m\u001b[0m\u001b[0m\n\u001b[1;32m   4427\u001b[0m         \u001b[0mnew_axes\u001b[0m \u001b[0;34m=\u001b[0m \u001b[0mlist\u001b[0m\u001b[0;34m(\u001b[0m\u001b[0mself\u001b[0m\u001b[0;34m.\u001b[0m\u001b[0maxes\u001b[0m\u001b[0;34m)\u001b[0m\u001b[0;34m\u001b[0m\u001b[0m\n",
      "\u001b[0;32m/usr/local/lib64/python3.6/site-packages/pandas/core/internals.py\u001b[0m in \u001b[0;36m<listcomp>\u001b[0;34m(.0)\u001b[0m\n\u001b[1;32m   4423\u001b[0m             new_blocks = [blk.take_nd(indexer, axis=axis, fill_tuple=(\n\u001b[1;32m   4424\u001b[0m                 fill_value if fill_value is not None else blk.fill_value,))\n\u001b[0;32m-> 4425\u001b[0;31m                 for blk in self.blocks]\n\u001b[0m\u001b[1;32m   4426\u001b[0m \u001b[0;34m\u001b[0m\u001b[0m\n\u001b[1;32m   4427\u001b[0m         \u001b[0mnew_axes\u001b[0m \u001b[0;34m=\u001b[0m \u001b[0mlist\u001b[0m\u001b[0;34m(\u001b[0m\u001b[0mself\u001b[0m\u001b[0;34m.\u001b[0m\u001b[0maxes\u001b[0m\u001b[0;34m)\u001b[0m\u001b[0;34m\u001b[0m\u001b[0m\n",
      "\u001b[0;32m/usr/local/lib64/python3.6/site-packages/pandas/core/internals.py\u001b[0m in \u001b[0;36mtake_nd\u001b[0;34m(self, indexer, axis, new_mgr_locs, fill_tuple)\u001b[0m\n\u001b[1;32m   1256\u001b[0m             \u001b[0mfill_value\u001b[0m \u001b[0;34m=\u001b[0m \u001b[0mfill_tuple\u001b[0m\u001b[0;34m[\u001b[0m\u001b[0;36m0\u001b[0m\u001b[0;34m]\u001b[0m\u001b[0;34m\u001b[0m\u001b[0m\n\u001b[1;32m   1257\u001b[0m             new_values = algos.take_nd(values, indexer, axis=axis,\n\u001b[0;32m-> 1258\u001b[0;31m                                        allow_fill=True, fill_value=fill_value)\n\u001b[0m\u001b[1;32m   1259\u001b[0m \u001b[0;34m\u001b[0m\u001b[0m\n\u001b[1;32m   1260\u001b[0m         \u001b[0;32mif\u001b[0m \u001b[0mnew_mgr_locs\u001b[0m \u001b[0;32mis\u001b[0m \u001b[0;32mNone\u001b[0m\u001b[0;34m:\u001b[0m\u001b[0;34m\u001b[0m\u001b[0m\n",
      "\u001b[0;32m/usr/local/lib64/python3.6/site-packages/pandas/core/algorithms.py\u001b[0m in \u001b[0;36mtake_nd\u001b[0;34m(arr, indexer, axis, out, fill_value, mask_info, allow_fill)\u001b[0m\n\u001b[1;32m   1657\u001b[0m     func = _get_take_nd_function(arr.ndim, arr.dtype, out.dtype, axis=axis,\n\u001b[1;32m   1658\u001b[0m                                  mask_info=mask_info)\n\u001b[0;32m-> 1659\u001b[0;31m     \u001b[0mfunc\u001b[0m\u001b[0;34m(\u001b[0m\u001b[0marr\u001b[0m\u001b[0;34m,\u001b[0m \u001b[0mindexer\u001b[0m\u001b[0;34m,\u001b[0m \u001b[0mout\u001b[0m\u001b[0;34m,\u001b[0m \u001b[0mfill_value\u001b[0m\u001b[0;34m)\u001b[0m\u001b[0;34m\u001b[0m\u001b[0m\n\u001b[0m\u001b[1;32m   1660\u001b[0m \u001b[0;34m\u001b[0m\u001b[0m\n\u001b[1;32m   1661\u001b[0m     \u001b[0;32mif\u001b[0m \u001b[0mflip_order\u001b[0m\u001b[0;34m:\u001b[0m\u001b[0;34m\u001b[0m\u001b[0m\n",
      "\u001b[0;31mKeyboardInterrupt\u001b[0m: "
     ]
    }
   ],
   "source": [
    "#Rough exploratory analysis\n",
    "from sklearn.model_selection import train_test_split\n",
    "\n",
    "train, test = train_test_split(data, train_size=0.60)\n",
    "\n",
    "#convert to pandas dataframes\n",
    "train = pd.DataFrame(train, columns=data.columns)\n",
    "test = pd.DataFrame(test, columns=data.columns)"
   ]
  },
  {
   "cell_type": "code",
   "execution_count": 19,
   "metadata": {},
   "outputs": [],
   "source": [
    "#persist dataframes so don't need to re-run splitting each time\n",
    "train.to_csv('data/cv_train.csv', index=False)\n",
    "test.to_csv('data/cv_test.csv', index=False)"
   ]
  },
  {
   "cell_type": "code",
   "execution_count": 4,
   "metadata": {},
   "outputs": [
    {
     "name": "stderr",
     "output_type": "stream",
     "text": [
      "/home/sanjay/.local/lib/python3.6/site-packages/IPython/core/interactiveshell.py:3018: DtypeWarning: Columns (28) have mixed types. Specify dtype option on import or set low_memory=False.\n",
      "  interactivity=interactivity, compiler=compiler, result=result)\n"
     ]
    }
   ],
   "source": [
    "train = pd.read_csv('data/cv_train.csv')\n",
    "test = pd.read_csv('data/cv_test.csv')"
   ]
  },
  {
   "cell_type": "code",
   "execution_count": 5,
   "metadata": {},
   "outputs": [
    {
     "name": "stdout",
     "output_type": "stream",
     "text": [
      "Train: (5352889, 83)\n",
      "Test : (3568594, 83)\n"
     ]
    }
   ],
   "source": [
    "print('Train:', train.shape)\n",
    "print('Test :', test.shape)"
   ]
  },
  {
   "cell_type": "code",
   "execution_count": 6,
   "metadata": {},
   "outputs": [
    {
     "data": {
      "text/plain": [
       "MachineIdentifier                                  16616b4d3b230f626e7b80be72994eb3\n",
       "ProductName                                                            win8defender\n",
       "EngineVersion                                                           1.1.15200.1\n",
       "AppVersion                                                          4.18.1807.18075\n",
       "AvSigVersion                                                            1.275.727.0\n",
       "IsBeta                                                                            0\n",
       "RtpStateBitfield                                                                  7\n",
       "IsSxsPassiveMode                                                                  0\n",
       "DefaultBrowsersIdentifier                                                       NaN\n",
       "AVProductStatesIdentifier                                                     53447\n",
       "AVProductsInstalled                                                               1\n",
       "AVProductsEnabled                                                                 1\n",
       "HasTpm                                                                            1\n",
       "CountryIdentifier                                                               141\n",
       "CityIdentifier                                                                56198\n",
       "OrganizationIdentifier                                                           27\n",
       "GeoNameIdentifier                                                               167\n",
       "LocaleEnglishNameIdentifier                                                     227\n",
       "Platform                                                                  windows10\n",
       "Processor                                                                       x64\n",
       "OsVer                                                                      10.0.0.0\n",
       "OsBuild                                                                       17134\n",
       "OsSuite                                                                         768\n",
       "OsPlatformSubRelease                                                            rs4\n",
       "OsBuildLab                                 17134.1.amd64fre.rs4_release.180410-1804\n",
       "SkuEdition                                                                     Home\n",
       "IsProtected                                                                       1\n",
       "AutoSampleOptIn                                                                   0\n",
       "PuaMode                                                                         NaN\n",
       "SMode                                                                             0\n",
       "                                                             ...                   \n",
       "Census_InternalBatteryNumberOfCharges                                           155\n",
       "Census_OSVersion                                                     10.0.17134.112\n",
       "Census_OSArchitecture                                                         amd64\n",
       "Census_OSBranch                                                         rs4_release\n",
       "Census_OSBuildNumber                                                          17134\n",
       "Census_OSBuildRevision                                                          112\n",
       "Census_OSEdition                                                 CoreSingleLanguage\n",
       "Census_OSSkuName                                                CORE_SINGLELANGUAGE\n",
       "Census_OSInstallTypeName                                                 UUPUpgrade\n",
       "Census_OSInstallLanguageIdentifier                                               10\n",
       "Census_OSUILocaleIdentifier                                                      35\n",
       "Census_OSWUAutoUpdateOptionsName                                            UNKNOWN\n",
       "Census_IsPortableOperatingSystem                                                  0\n",
       "Census_GenuineStateName                                                  IS_GENUINE\n",
       "Census_ActivationChannel                                                     Retail\n",
       "Census_IsFlightingInternal                                                      NaN\n",
       "Census_IsFlightsDisabled                                                          0\n",
       "Census_FlightRing                                                            Retail\n",
       "Census_ThresholdOptIn                                                           NaN\n",
       "Census_FirmwareManufacturerIdentifier                                           807\n",
       "Census_FirmwareVersionIdentifier                                              52184\n",
       "Census_IsSecureBootEnabled                                                        0\n",
       "Census_IsWIMBootEnabled                                                         NaN\n",
       "Census_IsVirtualDevice                                                            0\n",
       "Census_IsTouchEnabled                                                             0\n",
       "Census_IsPenCapable                                                               0\n",
       "Census_IsAlwaysOnAlwaysConnectedCapable                                           0\n",
       "Wdft_IsGamer                                                                      0\n",
       "Wdft_RegionIdentifier                                                            10\n",
       "HasDetections                                                                     0\n",
       "Name: 0, Length: 83, dtype: object"
      ]
     },
     "execution_count": 6,
     "metadata": {},
     "output_type": "execute_result"
    }
   ],
   "source": [
    "train.iloc[0]"
   ]
  },
  {
   "cell_type": "markdown",
   "metadata": {},
   "source": [
    "# Exploratory Models"
   ]
  },
  {
   "cell_type": "markdown",
   "metadata": {},
   "source": [
    "Our goal is to predict the column 'HasDetections' with the highest possible accuracy.\n",
    "\n",
    "This is where 'domain knowledge' comes in. Depending on the problem, various factors and their combinations might be most meaningful. For example, while a physicist and a financial trader might both be using random forests, the input data/features will usually be hand-crafted by each one based on his/her understanding of the problem they are solving.\n",
    "\n",
    "Having said that, statistics and machine learning models are not useful just for predicting. They can be used to gain **insight** into the data itself. We'll now start on the first leg of our journey to both predict 'HasDetections' and extract insights about what the markers for an intrusion are."
   ]
  },
  {
   "cell_type": "markdown",
   "metadata": {},
   "source": [
    "### Mutual information\n",
    "\n",
    "We won't go into the details and derivation of mutual information here. For the purpose of this workshop, you can treat mutual information (MI) as a measure of correlation between categorical variables. Given two columns A and B, MI(A,B)=0 -> they are uncorrelated i.e. knowing the value of A says nothing about the value of B and vice-versa. A high MI(A, B) implies that knowing the value of A tells us a lot about the value of B and vice-versa."
   ]
  },
  {
   "cell_type": "code",
   "execution_count": 15,
   "metadata": {},
   "outputs": [
    {
     "data": {
      "text/plain": [
       "0.04196236673107308"
      ]
     },
     "execution_count": 15,
     "metadata": {},
     "output_type": "execute_result"
    }
   ],
   "source": [
    "mutual_info_score(train['SMode'], train['HasDetections'])"
   ]
  },
  {
   "cell_type": "code",
   "execution_count": 84,
   "metadata": {},
   "outputs": [],
   "source": [
    "mi_scores = {} #mutual information scores between columns and target\n",
    "for col in train:\n",
    "    \n",
    "    try:\n",
    "        score = mutual_info_score(train[col].astype(str).fillna('null'), train['HasDetections']) #MI(col, target)\n",
    "        N_unique = len(train[col].unique()) #number of unique elements in col\n",
    "        N_nan = np.sum(train[col].isnull())/float(train.shape[0]) #% of values that are nulls in col\n",
    "    \n",
    "        mi_scores[col] = (score, N_unique, N_nan)\n",
    "        \n",
    "    except:\n",
    "        print(f'Error with col = {col}')"
   ]
  },
  {
   "cell_type": "code",
   "execution_count": 85,
   "metadata": {},
   "outputs": [
    {
     "data": {
      "text/plain": [
       "(0.6931470846023761, 5352889, 0.0)"
      ]
     },
     "execution_count": 85,
     "metadata": {},
     "output_type": "execute_result"
    }
   ],
   "source": [
    "#INSERT DEBUG THESE COLS - mixed types\n",
    "mi_scores['MachineIdentifier']"
   ]
  },
  {
   "cell_type": "code",
   "execution_count": 86,
   "metadata": {},
   "outputs": [
    {
     "name": "stdout",
     "output_type": "stream",
     "text": [
      "HasDetections                                      :     0.6931470846023765 :        2 : 0.0\n",
      "MachineIdentifier                                  :     0.6931470846023761 :  5352889 : 0.0\n",
      "Census_SystemVolumeTotalCapacity                   :    0.06301806463296625 :   454043 : 0.005971354907602231\n",
      "Census_OEMModelIdentifier                          :    0.02923570951963776 :   139304 : 0.011482958081140858\n",
      "SmartScreen                                        :    0.02816486570974574 :       20 : 0.35608416315002983\n",
      "AVProductStatesIdentifier                          :   0.023580225821684918 :    21672 : 0.004076677099039416\n",
      "CityIdentifier                                     :   0.015660346942019124 :    93099 : 0.03654157596019645\n",
      "Census_FirmwareVersionIdentifier                   :   0.012972551805742525 :    44979 : 0.017961702549781997\n",
      "AvSigVersion                                       :    0.01191353919909979 :     8401 : 0.0\n",
      "AVProductsInstalled                                :   0.011540495413341012 :        8 : 0.004076677099039416\n",
      "Census_ProcessorModelIdentifier                    :   0.008521928350554875 :     3168 : 0.004624792331767014\n",
      "EngineVersion                                      :   0.008227876480824993 :       67 : 0.0\n",
      "Census_PrimaryDiskTotalCapacity                    :   0.006558417290515415 :     4192 : 0.005973036242671948\n",
      "AppVersion                                         :   0.005777819323077013 :      108 : 0.0\n",
      "Census_TotalPhysicalRAM                            :   0.005661010396390637 :     2558 : 0.00905286846037719\n",
      "Census_InternalPrimaryDiagonalDisplaySizeInInches  :   0.005294657630122079 :      749 : 0.005322546385699386\n",
      "Census_OEMNameIdentifier                           :   0.005053556409602559 :     3295 : 0.010722247369597987\n",
      "Census_InternalBatteryNumberOfCharges              :   0.004902101171592915 :    30483 : 0.03016427204076154\n",
      "OsBuildLab                                         :   0.004513994298202593 :      622 : 2.0549650852091275e-06\n",
      "Census_InternalPrimaryDisplayResolutionVertical    :   0.003988954951803016 :     1383 : 0.005306667110040951\n",
      "CountryIdentifier                                  :  0.0036763155140073014 :      222 : 0.0\n",
      "Census_OSVersion                                   :    0.00311009954199887 :      431 : 0.0\n",
      "Census_OSBuildRevision                             :  0.0030462391108021887 :      274 : 0.0\n",
      "Processor                                          :  0.0027455010435492953 :        3 : 0.0\n",
      "Census_OSArchitecture                              :  0.0026990690173110624 :        3 : 0.0\n",
      "GeoNameIdentifier                                  :   0.002680996564274513 :      290 : 2.5033211038002095e-05\n",
      "Census_MDC2FormFactor                              :   0.002678561725953061 :       13 : 0.0\n",
      "Census_InternalPrimaryDisplayResolutionHorizontal  :  0.0026703669376561536 :     1847 : 0.005306667110040951\n",
      "Census_ProcessorCoreCount                          :   0.002430820820144731 :       41 : 0.004621242846619834\n",
      "Census_PowerPlatformRoleName                       :   0.002308396369032616 :       11 : 5.978080247881098e-06\n",
      "LocaleEnglishNameIdentifier                        :  0.0023078538924338845 :      273 : 0.0\n",
      "Census_ChassisTypeName                             :   0.002282825348418242 :       49 : 7.229740799781202e-05\n",
      "Census_FirmwareManufacturerIdentifier              :  0.0022259313290391085 :      621 : 0.020548529962044794\n",
      "Census_IsAlwaysOnAlwaysConnectedCapable            :  0.0019825283096159795 :        3 : 0.00800614397197476\n",
      "IsProtected                                        :   0.001762922134817305 :        3 : 0.004057061523226056\n",
      "RtpStateBitfield                                   :  0.0016649025153800388 :        8 : 0.0036262661153631244\n",
      "IeVerIdentifier                                    :  0.0016537881801468144 :      281 : 0.006605031413877627\n",
      "AVProductsEnabled                                  :   0.001549875660828215 :        7 : 0.004076677099039416\n",
      "Census_OSBranch                                    :   0.001445701226126238 :       28 : 0.0\n",
      "Census_IsVirtualDevice                             :  0.0014390316946180821 :        3 : 0.0017704458284115362\n",
      "Wdft_IsGamer                                       :  0.0014362750187899842 :        3 : 0.03409560706377435\n",
      "Census_OSUILocaleIdentifier                        :  0.0012465738723057983 :      142 : 0.0\n",
      "Census_OSEdition                                   :  0.0012205843286632895 :       31 : 0.0\n",
      "Census_OSInstallTypeName                           :  0.0012087553007501493 :        9 : 0.0\n",
      "Census_OSSkuName                                   :  0.0012035110384037797 :       30 : 0.0\n",
      "Census_OSInstallLanguageIdentifier                 :  0.0011998182959900283 :       40 : 0.006779329816104911\n",
      "Census_ActivationChannel                           :  0.0010677145595807264 :        6 : 0.0\n",
      "DefaultBrowsersIdentifier                          :  0.0010202996026558904 :     1625 : 0.9513328223320154\n",
      "SMode                                              :  0.0010149615650311633 :        3 : 0.060312851620872396\n",
      "Census_OSBuildNumber                               :  0.0009510782705311844 :      145 : 0.0\n",
      "OsBuild                                            :  0.0009072315973672048 :       70 : 0.0\n",
      "OsPlatformSubRelease                               :  0.0008709273922483558 :        9 : 0.0\n",
      "Wdft_RegionIdentifier                              :  0.0008638283019214395 :       16 : 0.03409560706377435\n",
      "Census_IsTouchEnabled                              :   0.000817661926416885 :        2 : 0.0\n",
      "IsSxsPassiveMode                                   :  0.0006267141504993495 :        2 : 0.0\n",
      "Census_OSWUAutoUpdateOptionsName                   :     0.0005955346486175 :        6 : 0.0\n",
      "Census_PrimaryDiskTypeName                         :  0.0004301815125722589 :        5 : 0.0014341788144682246\n",
      "Census_InternalBatteryType                         :  0.0003064666465176067 :       67 : 0.710353044869789\n",
      "OsSuite                                            :  0.0003047339378132966 :       12 : 0.0\n",
      "SkuEdition                                         :  0.0002878223620203552 :        8 : 0.0\n",
      "Census_GenuineStateName                            : 0.00022510890849059234 :        5 : 0.0\n",
      "Census_HasOpticalDiskDrive                         : 0.00022470427325646525 :        2 : 0.0\n",
      "OrganizationIdentifier                             : 0.00021661852154791208 :       48 : 0.3084431603195956\n",
      "Census_IsPenCapable                                : 0.00014682896756006147 :        2 : 0.0\n",
      "Census_FlightRing                                  :  8.703501489872565e-05 :        9 : 0.0\n",
      "Platform                                           :  8.028211769145477e-05 :        4 : 0.0\n",
      "Census_DeviceFamily                                :  7.413570267822352e-05 :        3 : 0.0\n",
      "Census_ProcessorManufacturerIdentifier             :  7.214737578990836e-05 :        7 : 0.0046219901066508196\n",
      "Census_IsWIMBootEnabled                            :  7.206773910964186e-05 :        3 : 0.6342261160281859\n",
      "Census_ThresholdOptIn                              :  6.965664982064865e-05 :        3 : 0.6350791133535554\n",
      "Census_IsFlightingInternal                         :   6.30394057686218e-05 :        3 : 0.8304635123201696\n",
      "Census_ProcessorClass                              : 2.9508755348468807e-05 :        4 : 0.9958736301089001\n",
      "PuaMode                                            : 2.7826404815324153e-05 :        3 : 0.9997446238844109\n",
      "HasTpm                                             : 1.4100459814165439e-05 :        2 : 0.0\n",
      "OsVer                                              : 1.2928736125669292e-05 :       45 : 0.0\n",
      "UacLuaenable                                       :  6.297946363092896e-06 :       11 : 0.001224946005792386\n",
      "ProductName                                        :  5.960725795135124e-06 :        6 : 0.0\n",
      "Census_IsFlightsDisabled                           :  5.124458476599852e-06 :        3 : 0.018062209023949498\n",
      "Firewall                                           :  4.620049678369376e-06 :        3 : 0.010253902145178052\n",
      "Census_IsPortableOperatingSystem                   : 3.4927966210372696e-06 :        2 : 0.0\n",
      "Census_IsSecureBootEnabled                         :  1.780183642940969e-06 :        2 : 0.0\n",
      "AutoSampleOptIn                                    :  6.151985044484812e-08 :        2 : 0.0\n",
      "IsBeta                                             :  5.668978529430025e-08 :        2 : 0.0\n"
     ]
    }
   ],
   "source": [
    "#sort in decreasing order by MI(col, HasDetections)\n",
    "for element in sorted(mi_scores.items(), key=operator.itemgetter(1, 0), reverse=True):\n",
    "    print('{:50} : {:22} : {:8} : {}'.format(element[0], element[1][0], element[1][1], element[1][2]))"
   ]
  },
  {
   "cell_type": "code",
   "execution_count": 24,
   "metadata": {},
   "outputs": [
    {
     "data": {
      "text/plain": [
       "837"
      ]
     },
     "execution_count": 24,
     "metadata": {},
     "output_type": "execute_result"
    }
   ],
   "source": [
    "#def mi_score(df, c1, c2):\n",
    "del mi_scores\n",
    "del data\n",
    "import gc\n",
    "gc.collect()"
   ]
  },
  {
   "cell_type": "markdown",
   "metadata": {},
   "source": [
    "# Simple 1-feature models\n",
    "\n",
    "Another way to get intuition about individual columns is by building models that use a *single* feature to predict the output. This will also serve as an introduction to preprocessing and feature engineering. \n",
    "\n",
    "A lot of the work below looks inelegant from a programming perspective. But, while this approach is not scalable to datasets with a large number columns, it often gives a lot of intuition to the data scientist."
   ]
  },
  {
   "cell_type": "code",
   "execution_count": 56,
   "metadata": {},
   "outputs": [],
   "source": [
    "#we'll use random forests as a reference model since they need minimal preprocessing\n",
    "#and are flexible non-linear learners\n",
    "\n",
    "from sklearn.ensemble import RandomForestClassifier"
   ]
  },
  {
   "cell_type": "code",
   "execution_count": 58,
   "metadata": {},
   "outputs": [],
   "source": [
    "#AUC scoring function\n",
    "\n",
    "from sklearn.metrics import roc_auc_score"
   ]
  },
  {
   "cell_type": "code",
   "execution_count": 27,
   "metadata": {},
   "outputs": [
    {
     "name": "stdout",
     "output_type": "stream",
     "text": [
      "MachineIdentifier\n",
      "ProductName\n",
      "EngineVersion\n",
      "AppVersion\n",
      "AvSigVersion\n",
      "IsBeta\n",
      "RtpStateBitfield\n",
      "IsSxsPassiveMode\n",
      "DefaultBrowsersIdentifier\n",
      "AVProductStatesIdentifier\n",
      "AVProductsInstalled\n",
      "AVProductsEnabled\n",
      "HasTpm\n",
      "CountryIdentifier\n",
      "CityIdentifier\n",
      "OrganizationIdentifier\n",
      "GeoNameIdentifier\n",
      "LocaleEnglishNameIdentifier\n",
      "Platform\n",
      "Processor\n",
      "OsVer\n",
      "OsBuild\n",
      "OsSuite\n",
      "OsPlatformSubRelease\n",
      "OsBuildLab\n",
      "SkuEdition\n",
      "IsProtected\n",
      "AutoSampleOptIn\n",
      "PuaMode\n",
      "SMode\n",
      "IeVerIdentifier\n",
      "SmartScreen\n",
      "Firewall\n",
      "UacLuaenable\n",
      "Census_MDC2FormFactor\n",
      "Census_DeviceFamily\n",
      "Census_OEMNameIdentifier\n",
      "Census_OEMModelIdentifier\n",
      "Census_ProcessorCoreCount\n",
      "Census_ProcessorManufacturerIdentifier\n",
      "Census_ProcessorModelIdentifier\n",
      "Census_ProcessorClass\n",
      "Census_PrimaryDiskTotalCapacity\n",
      "Census_PrimaryDiskTypeName\n",
      "Census_SystemVolumeTotalCapacity\n",
      "Census_HasOpticalDiskDrive\n",
      "Census_TotalPhysicalRAM\n",
      "Census_ChassisTypeName\n",
      "Census_InternalPrimaryDiagonalDisplaySizeInInches\n",
      "Census_InternalPrimaryDisplayResolutionHorizontal\n",
      "Census_InternalPrimaryDisplayResolutionVertical\n",
      "Census_PowerPlatformRoleName\n",
      "Census_InternalBatteryType\n",
      "Census_InternalBatteryNumberOfCharges\n",
      "Census_OSVersion\n",
      "Census_OSArchitecture\n",
      "Census_OSBranch\n",
      "Census_OSBuildNumber\n",
      "Census_OSBuildRevision\n",
      "Census_OSEdition\n",
      "Census_OSSkuName\n",
      "Census_OSInstallTypeName\n",
      "Census_OSInstallLanguageIdentifier\n",
      "Census_OSUILocaleIdentifier\n",
      "Census_OSWUAutoUpdateOptionsName\n",
      "Census_IsPortableOperatingSystem\n",
      "Census_GenuineStateName\n",
      "Census_ActivationChannel\n",
      "Census_IsFlightingInternal\n",
      "Census_IsFlightsDisabled\n",
      "Census_FlightRing\n",
      "Census_ThresholdOptIn\n",
      "Census_FirmwareManufacturerIdentifier\n",
      "Census_FirmwareVersionIdentifier\n",
      "Census_IsSecureBootEnabled\n",
      "Census_IsWIMBootEnabled\n",
      "Census_IsVirtualDevice\n",
      "Census_IsTouchEnabled\n",
      "Census_IsPenCapable\n",
      "Census_IsAlwaysOnAlwaysConnectedCapable\n",
      "Wdft_IsGamer\n",
      "Wdft_RegionIdentifier\n",
      "HasDetections\n"
     ]
    }
   ],
   "source": [
    "for col in train.columns:\n",
    "    print(col)"
   ]
  },
  {
   "cell_type": "markdown",
   "metadata": {},
   "source": [
    "# Col = MachineIdentifier - index col - unique for each row - not useful for predictions"
   ]
  },
  {
   "cell_type": "markdown",
   "metadata": {},
   "source": [
    "# Col = ProductName (MI = ~6 * 10^-6)"
   ]
  },
  {
   "cell_type": "code",
   "execution_count": 28,
   "metadata": {},
   "outputs": [
    {
     "data": {
      "text/plain": [
       "win8defender     5295870\n",
       "mse                56962\n",
       "mseprerelease         34\n",
       "scep                  13\n",
       "fep                    5\n",
       "windowsintune          5\n",
       "Name: ProductName, dtype: int64"
      ]
     },
     "execution_count": 28,
     "metadata": {},
     "output_type": "execute_result"
    }
   ],
   "source": [
    "train['ProductName'].value_counts()"
   ]
  },
  {
   "cell_type": "markdown",
   "metadata": {},
   "source": [
    "### 1-hot encoding\n",
    "\n",
    "The data in a single column we'll usually see will be one of 3 types:\n",
    "\n",
    "1. float - the value matters and there's an ordering implied. E.g. 5 apples > 3 apples\n",
    "\n",
    "2. Discrete (int) - the values are discrete but there's an ordering\n",
    "\n",
    "3. Categorical (int/str) - the values are discrete but there's no ordering implied. E.g. OS = 'Windows' or OS = 'Linux' - one can't compare the two values numerically and there's no ordering Linux > Windows or Windows > Linux (well there IS but mathematically there isn't one)\n",
    "\n",
    "As an example consider 'ProductName' with possible values - 'win8defender', 'mse', 'scep' etc.\n",
    "\n",
    "One could do a group-by this column and get the % of 1s vs 0s in the target variable. But eventually, we'll have several such variables in combination with columns of type 1. and 2. above. So we need a better approach.\n",
    "\n",
    "A commonly used approach is the so-called **one-hot encoding**. The idea is very simple and best illustrated by an example. Suppose we have a column 'X' with 3 unique values in 5 rows:\n",
    "\n",
    "'apple'\n",
    "\n",
    "'mango'\n",
    "\n",
    "'banana'\n",
    "\n",
    "'banana'\n",
    "\n",
    "'mango'\n",
    "\n",
    "We want to convert these to numbers so our statistical techniques can perform mathematical operations and learn something useful. In one-hot encoding, we simply create one column for each unique value and use booleans:\n",
    "\n",
    "'apple' -> [1, 0, 0]\n",
    "\n",
    "'mango' -> [0, 1, 0]\n",
    "\n",
    "'banana' -> [0, 0, 1]\n",
    "\n",
    "'banana' -> [0, 0, 1]\n",
    "\n",
    "'mango' -> [0, 1, 0]\n",
    "\n",
    "Two points:\n",
    "\n",
    "1. Why can't we just map 'apple' -> 0, 'mango' -> 1, 'banana' -> 2. Because then we are imposing an implicit ordering - banana > mango > apple which we don't want to impose on our models.\n",
    "\n",
    "2. If there are N unique values in the column, we create N columns. Clearly, there's a much more compact representation as bit strings of len $\\log_2(N)$. Why not use that with exponentially less memory usage? The answer here is that we want to not have any interactions between the columns we create. For e.g. by looking at the apple column and seeing a 1, a model shouldn't have to look at any other columns to deduce that the value is indeed 'apple'. This wouldn't be true with the more compact representation."
   ]
  },
  {
   "cell_type": "code",
   "execution_count": 29,
   "metadata": {},
   "outputs": [
    {
     "data": {
      "text/html": [
       "<div>\n",
       "<style scoped>\n",
       "    .dataframe tbody tr th:only-of-type {\n",
       "        vertical-align: middle;\n",
       "    }\n",
       "\n",
       "    .dataframe tbody tr th {\n",
       "        vertical-align: top;\n",
       "    }\n",
       "\n",
       "    .dataframe thead th {\n",
       "        text-align: right;\n",
       "    }\n",
       "</style>\n",
       "<table border=\"1\" class=\"dataframe\">\n",
       "  <thead>\n",
       "    <tr style=\"text-align: right;\">\n",
       "      <th></th>\n",
       "      <th>ProductName_mse</th>\n",
       "      <th>ProductName_win8defender</th>\n",
       "    </tr>\n",
       "  </thead>\n",
       "  <tbody>\n",
       "    <tr>\n",
       "      <th>0</th>\n",
       "      <td>0</td>\n",
       "      <td>1</td>\n",
       "    </tr>\n",
       "    <tr>\n",
       "      <th>1</th>\n",
       "      <td>0</td>\n",
       "      <td>1</td>\n",
       "    </tr>\n",
       "    <tr>\n",
       "      <th>2</th>\n",
       "      <td>0</td>\n",
       "      <td>1</td>\n",
       "    </tr>\n",
       "    <tr>\n",
       "      <th>3</th>\n",
       "      <td>0</td>\n",
       "      <td>1</td>\n",
       "    </tr>\n",
       "    <tr>\n",
       "      <th>4</th>\n",
       "      <td>0</td>\n",
       "      <td>1</td>\n",
       "    </tr>\n",
       "    <tr>\n",
       "      <th>5</th>\n",
       "      <td>0</td>\n",
       "      <td>1</td>\n",
       "    </tr>\n",
       "    <tr>\n",
       "      <th>6</th>\n",
       "      <td>0</td>\n",
       "      <td>1</td>\n",
       "    </tr>\n",
       "    <tr>\n",
       "      <th>7</th>\n",
       "      <td>0</td>\n",
       "      <td>1</td>\n",
       "    </tr>\n",
       "    <tr>\n",
       "      <th>8</th>\n",
       "      <td>0</td>\n",
       "      <td>1</td>\n",
       "    </tr>\n",
       "    <tr>\n",
       "      <th>9</th>\n",
       "      <td>1</td>\n",
       "      <td>0</td>\n",
       "    </tr>\n",
       "    <tr>\n",
       "      <th>10</th>\n",
       "      <td>0</td>\n",
       "      <td>1</td>\n",
       "    </tr>\n",
       "    <tr>\n",
       "      <th>11</th>\n",
       "      <td>0</td>\n",
       "      <td>1</td>\n",
       "    </tr>\n",
       "    <tr>\n",
       "      <th>12</th>\n",
       "      <td>0</td>\n",
       "      <td>1</td>\n",
       "    </tr>\n",
       "    <tr>\n",
       "      <th>13</th>\n",
       "      <td>0</td>\n",
       "      <td>1</td>\n",
       "    </tr>\n",
       "    <tr>\n",
       "      <th>14</th>\n",
       "      <td>0</td>\n",
       "      <td>1</td>\n",
       "    </tr>\n",
       "    <tr>\n",
       "      <th>15</th>\n",
       "      <td>0</td>\n",
       "      <td>1</td>\n",
       "    </tr>\n",
       "    <tr>\n",
       "      <th>16</th>\n",
       "      <td>0</td>\n",
       "      <td>1</td>\n",
       "    </tr>\n",
       "    <tr>\n",
       "      <th>17</th>\n",
       "      <td>0</td>\n",
       "      <td>1</td>\n",
       "    </tr>\n",
       "    <tr>\n",
       "      <th>18</th>\n",
       "      <td>0</td>\n",
       "      <td>1</td>\n",
       "    </tr>\n",
       "    <tr>\n",
       "      <th>19</th>\n",
       "      <td>0</td>\n",
       "      <td>1</td>\n",
       "    </tr>\n",
       "  </tbody>\n",
       "</table>\n",
       "</div>"
      ],
      "text/plain": [
       "    ProductName_mse  ProductName_win8defender\n",
       "0                 0                         1\n",
       "1                 0                         1\n",
       "2                 0                         1\n",
       "3                 0                         1\n",
       "4                 0                         1\n",
       "5                 0                         1\n",
       "6                 0                         1\n",
       "7                 0                         1\n",
       "8                 0                         1\n",
       "9                 1                         0\n",
       "10                0                         1\n",
       "11                0                         1\n",
       "12                0                         1\n",
       "13                0                         1\n",
       "14                0                         1\n",
       "15                0                         1\n",
       "16                0                         1\n",
       "17                0                         1\n",
       "18                0                         1\n",
       "19                0                         1"
      ]
     },
     "execution_count": 29,
     "metadata": {},
     "output_type": "execute_result"
    }
   ],
   "source": [
    "#two ways to 1-hot encode\n",
    "\n",
    "pd.get_dummies(train['ProductName'].head(20), prefix='ProductName') #prefix gets prepended before column name"
   ]
  },
  {
   "cell_type": "code",
   "execution_count": 30,
   "metadata": {},
   "outputs": [
    {
     "data": {
      "text/plain": [
       "matrix([[0., 1.],\n",
       "        [0., 1.],\n",
       "        [0., 1.],\n",
       "        [0., 1.],\n",
       "        [0., 1.],\n",
       "        [0., 1.],\n",
       "        [0., 1.],\n",
       "        [0., 1.],\n",
       "        [0., 1.],\n",
       "        [1., 0.],\n",
       "        [0., 1.],\n",
       "        [0., 1.],\n",
       "        [0., 1.],\n",
       "        [0., 1.],\n",
       "        [0., 1.],\n",
       "        [0., 1.],\n",
       "        [0., 1.],\n",
       "        [0., 1.],\n",
       "        [0., 1.],\n",
       "        [0., 1.]])"
      ]
     },
     "execution_count": 30,
     "metadata": {},
     "output_type": "execute_result"
    }
   ],
   "source": [
    "from sklearn.preprocessing import OneHotEncoder\n",
    "\n",
    "one_hot = OneHotEncoder()\n",
    "\n",
    "one_hot.fit_transform(train[['ProductName']].head(20)).todense()"
   ]
  },
  {
   "cell_type": "code",
   "execution_count": 31,
   "metadata": {},
   "outputs": [
    {
     "ename": "ValueError",
     "evalue": "Found unknown categories ['mseprerelease', 'scep', 'fep', 'windowsintune'] in column 0 during transform",
     "output_type": "error",
     "traceback": [
      "\u001b[0;31m---------------------------------------------------------------------------\u001b[0m",
      "\u001b[0;31mValueError\u001b[0m                                Traceback (most recent call last)",
      "\u001b[0;32m<ipython-input-31-0e9d397e40f2>\u001b[0m in \u001b[0;36m<module>\u001b[0;34m\u001b[0m\n\u001b[0;32m----> 1\u001b[0;31m \u001b[0mone_hot\u001b[0m\u001b[0;34m.\u001b[0m\u001b[0mtransform\u001b[0m\u001b[0;34m(\u001b[0m\u001b[0mtrain\u001b[0m\u001b[0;34m[\u001b[0m\u001b[0;34m(\u001b[0m\u001b[0mtrain\u001b[0m\u001b[0;34m[\u001b[0m\u001b[0;34m'ProductName'\u001b[0m\u001b[0;34m]\u001b[0m\u001b[0;34m!=\u001b[0m\u001b[0;34m'win8defender'\u001b[0m\u001b[0;34m)\u001b[0m \u001b[0;34m&\u001b[0m \u001b[0;34m(\u001b[0m\u001b[0mtrain\u001b[0m\u001b[0;34m[\u001b[0m\u001b[0;34m'ProductName'\u001b[0m\u001b[0;34m]\u001b[0m\u001b[0;34m!=\u001b[0m\u001b[0;34m'mse'\u001b[0m\u001b[0;34m)\u001b[0m\u001b[0;34m]\u001b[0m\u001b[0;34m[\u001b[0m\u001b[0;34m[\u001b[0m\u001b[0;34m'ProductName'\u001b[0m\u001b[0;34m]\u001b[0m\u001b[0;34m]\u001b[0m\u001b[0;34m.\u001b[0m\u001b[0mhead\u001b[0m\u001b[0;34m(\u001b[0m\u001b[0;36m20\u001b[0m\u001b[0;34m)\u001b[0m\u001b[0;34m)\u001b[0m\u001b[0;34m\u001b[0m\u001b[0m\n\u001b[0m",
      "\u001b[0;32m/usr/local/lib64/python3.6/site-packages/sklearn/preprocessing/_encoders.py\u001b[0m in \u001b[0;36mtransform\u001b[0;34m(self, X)\u001b[0m\n\u001b[1;32m    589\u001b[0m                                        copy=True)\n\u001b[1;32m    590\u001b[0m         \u001b[0;32melse\u001b[0m\u001b[0;34m:\u001b[0m\u001b[0;34m\u001b[0m\u001b[0m\n\u001b[0;32m--> 591\u001b[0;31m             \u001b[0;32mreturn\u001b[0m \u001b[0mself\u001b[0m\u001b[0;34m.\u001b[0m\u001b[0m_transform_new\u001b[0m\u001b[0;34m(\u001b[0m\u001b[0mX\u001b[0m\u001b[0;34m)\u001b[0m\u001b[0;34m\u001b[0m\u001b[0m\n\u001b[0m\u001b[1;32m    592\u001b[0m \u001b[0;34m\u001b[0m\u001b[0m\n\u001b[1;32m    593\u001b[0m     \u001b[0;32mdef\u001b[0m \u001b[0minverse_transform\u001b[0m\u001b[0;34m(\u001b[0m\u001b[0mself\u001b[0m\u001b[0;34m,\u001b[0m \u001b[0mX\u001b[0m\u001b[0;34m)\u001b[0m\u001b[0;34m:\u001b[0m\u001b[0;34m\u001b[0m\u001b[0m\n",
      "\u001b[0;32m/usr/local/lib64/python3.6/site-packages/sklearn/preprocessing/_encoders.py\u001b[0m in \u001b[0;36m_transform_new\u001b[0;34m(self, X)\u001b[0m\n\u001b[1;32m    551\u001b[0m         \u001b[0mn_samples\u001b[0m\u001b[0;34m,\u001b[0m \u001b[0mn_features\u001b[0m \u001b[0;34m=\u001b[0m \u001b[0mX\u001b[0m\u001b[0;34m.\u001b[0m\u001b[0mshape\u001b[0m\u001b[0;34m\u001b[0m\u001b[0m\n\u001b[1;32m    552\u001b[0m \u001b[0;34m\u001b[0m\u001b[0m\n\u001b[0;32m--> 553\u001b[0;31m         \u001b[0mX_int\u001b[0m\u001b[0;34m,\u001b[0m \u001b[0mX_mask\u001b[0m \u001b[0;34m=\u001b[0m \u001b[0mself\u001b[0m\u001b[0;34m.\u001b[0m\u001b[0m_transform\u001b[0m\u001b[0;34m(\u001b[0m\u001b[0mX\u001b[0m\u001b[0;34m,\u001b[0m \u001b[0mhandle_unknown\u001b[0m\u001b[0;34m=\u001b[0m\u001b[0mself\u001b[0m\u001b[0;34m.\u001b[0m\u001b[0mhandle_unknown\u001b[0m\u001b[0;34m)\u001b[0m\u001b[0;34m\u001b[0m\u001b[0m\n\u001b[0m\u001b[1;32m    554\u001b[0m \u001b[0;34m\u001b[0m\u001b[0m\n\u001b[1;32m    555\u001b[0m         \u001b[0mmask\u001b[0m \u001b[0;34m=\u001b[0m \u001b[0mX_mask\u001b[0m\u001b[0;34m.\u001b[0m\u001b[0mravel\u001b[0m\u001b[0;34m(\u001b[0m\u001b[0;34m)\u001b[0m\u001b[0;34m\u001b[0m\u001b[0m\n",
      "\u001b[0;32m/usr/local/lib64/python3.6/site-packages/sklearn/preprocessing/_encoders.py\u001b[0m in \u001b[0;36m_transform\u001b[0;34m(self, X, handle_unknown)\u001b[0m\n\u001b[1;32m    107\u001b[0m                     msg = (\"Found unknown categories {0} in column {1}\"\n\u001b[1;32m    108\u001b[0m                            \" during transform\".format(diff, i))\n\u001b[0;32m--> 109\u001b[0;31m                     \u001b[0;32mraise\u001b[0m \u001b[0mValueError\u001b[0m\u001b[0;34m(\u001b[0m\u001b[0mmsg\u001b[0m\u001b[0;34m)\u001b[0m\u001b[0;34m\u001b[0m\u001b[0m\n\u001b[0m\u001b[1;32m    110\u001b[0m                 \u001b[0;32melse\u001b[0m\u001b[0;34m:\u001b[0m\u001b[0;34m\u001b[0m\u001b[0m\n\u001b[1;32m    111\u001b[0m                     \u001b[0;31m# Set the problematic rows to an acceptable value and\u001b[0m\u001b[0;34m\u001b[0m\u001b[0;34m\u001b[0m\u001b[0m\n",
      "\u001b[0;31mValueError\u001b[0m: Found unknown categories ['mseprerelease', 'scep', 'fep', 'windowsintune'] in column 0 during transform"
     ]
    }
   ],
   "source": [
    "one_hot.transform(train[(train['ProductName']!='win8defender') & (train['ProductName']!='mse')][['ProductName']].head(20))"
   ]
  },
  {
   "cell_type": "markdown",
   "metadata": {},
   "source": [
    "### Problem with one-hot encoding\n",
    "\n",
    "The above error highlights a problem. What if the train set has 3 unique values for a column but the test has a fourth one? This will result in a problem since the shapes of the datasets for train and test will be different and the model expects a certain shape and a certain ordering of columns.\n",
    "\n",
    "One solution to this is to do one-hot encoding on the full dataset before splitting into train and test or to ensure that train and test have the same unique values."
   ]
  },
  {
   "cell_type": "code",
   "execution_count": 10,
   "metadata": {},
   "outputs": [],
   "source": [
    "def check_train_test_1hot(train, test, colname):\n",
    "    train_vals = set(train[colname].unique())\n",
    "    test_vals = set(test[colname].unique())\n",
    "    \n",
    "    intersection = train_vals.intersection(test_vals)\n",
    "    union = train_vals.intersection(test_vals)\n",
    "    \n",
    "    if len(union) != len(intersection):\n",
    "        return False\n",
    "\n",
    "    return True"
   ]
  },
  {
   "cell_type": "code",
   "execution_count": 11,
   "metadata": {},
   "outputs": [],
   "source": [
    "colname = 'ProductName'\n",
    "\n",
    "assert(check_train_test_1hot(train, test, colname))"
   ]
  },
  {
   "cell_type": "code",
   "execution_count": 12,
   "metadata": {},
   "outputs": [],
   "source": [
    "train_df = pd.get_dummies(train[[colname]], dummy_na=True)\n",
    "test_df = pd.get_dummies(test[[colname]], dummy_na=True)"
   ]
  },
  {
   "cell_type": "code",
   "execution_count": 13,
   "metadata": {},
   "outputs": [
    {
     "data": {
      "text/html": [
       "<div>\n",
       "<style scoped>\n",
       "    .dataframe tbody tr th:only-of-type {\n",
       "        vertical-align: middle;\n",
       "    }\n",
       "\n",
       "    .dataframe tbody tr th {\n",
       "        vertical-align: top;\n",
       "    }\n",
       "\n",
       "    .dataframe thead th {\n",
       "        text-align: right;\n",
       "    }\n",
       "</style>\n",
       "<table border=\"1\" class=\"dataframe\">\n",
       "  <thead>\n",
       "    <tr style=\"text-align: right;\">\n",
       "      <th></th>\n",
       "      <th>ProductName_fep</th>\n",
       "      <th>ProductName_mse</th>\n",
       "      <th>ProductName_mseprerelease</th>\n",
       "      <th>ProductName_scep</th>\n",
       "      <th>ProductName_win8defender</th>\n",
       "      <th>ProductName_windowsintune</th>\n",
       "      <th>ProductName_nan</th>\n",
       "    </tr>\n",
       "  </thead>\n",
       "  <tbody>\n",
       "    <tr>\n",
       "      <th>0</th>\n",
       "      <td>0</td>\n",
       "      <td>0</td>\n",
       "      <td>0</td>\n",
       "      <td>0</td>\n",
       "      <td>1</td>\n",
       "      <td>0</td>\n",
       "      <td>0</td>\n",
       "    </tr>\n",
       "    <tr>\n",
       "      <th>1</th>\n",
       "      <td>0</td>\n",
       "      <td>0</td>\n",
       "      <td>0</td>\n",
       "      <td>0</td>\n",
       "      <td>1</td>\n",
       "      <td>0</td>\n",
       "      <td>0</td>\n",
       "    </tr>\n",
       "    <tr>\n",
       "      <th>2</th>\n",
       "      <td>0</td>\n",
       "      <td>0</td>\n",
       "      <td>0</td>\n",
       "      <td>0</td>\n",
       "      <td>1</td>\n",
       "      <td>0</td>\n",
       "      <td>0</td>\n",
       "    </tr>\n",
       "    <tr>\n",
       "      <th>3</th>\n",
       "      <td>0</td>\n",
       "      <td>0</td>\n",
       "      <td>0</td>\n",
       "      <td>0</td>\n",
       "      <td>1</td>\n",
       "      <td>0</td>\n",
       "      <td>0</td>\n",
       "    </tr>\n",
       "    <tr>\n",
       "      <th>4</th>\n",
       "      <td>0</td>\n",
       "      <td>0</td>\n",
       "      <td>0</td>\n",
       "      <td>0</td>\n",
       "      <td>1</td>\n",
       "      <td>0</td>\n",
       "      <td>0</td>\n",
       "    </tr>\n",
       "  </tbody>\n",
       "</table>\n",
       "</div>"
      ],
      "text/plain": [
       "   ProductName_fep  ProductName_mse  ProductName_mseprerelease  ProductName_scep  ProductName_win8defender  ProductName_windowsintune  ProductName_nan\n",
       "0                0                0                          0                 0                         1                          0                0\n",
       "1                0                0                          0                 0                         1                          0                0\n",
       "2                0                0                          0                 0                         1                          0                0\n",
       "3                0                0                          0                 0                         1                          0                0\n",
       "4                0                0                          0                 0                         1                          0                0"
      ]
     },
     "execution_count": 13,
     "metadata": {},
     "output_type": "execute_result"
    }
   ],
   "source": [
    "train_df.head()"
   ]
  },
  {
   "cell_type": "code",
   "execution_count": 14,
   "metadata": {},
   "outputs": [
    {
     "data": {
      "text/html": [
       "<div>\n",
       "<style scoped>\n",
       "    .dataframe tbody tr th:only-of-type {\n",
       "        vertical-align: middle;\n",
       "    }\n",
       "\n",
       "    .dataframe tbody tr th {\n",
       "        vertical-align: top;\n",
       "    }\n",
       "\n",
       "    .dataframe thead th {\n",
       "        text-align: right;\n",
       "    }\n",
       "</style>\n",
       "<table border=\"1\" class=\"dataframe\">\n",
       "  <thead>\n",
       "    <tr style=\"text-align: right;\">\n",
       "      <th></th>\n",
       "      <th>ProductName_fep</th>\n",
       "      <th>ProductName_mse</th>\n",
       "      <th>ProductName_mseprerelease</th>\n",
       "      <th>ProductName_scep</th>\n",
       "      <th>ProductName_win8defender</th>\n",
       "      <th>ProductName_windowsintune</th>\n",
       "      <th>ProductName_nan</th>\n",
       "    </tr>\n",
       "  </thead>\n",
       "  <tbody>\n",
       "    <tr>\n",
       "      <th>0</th>\n",
       "      <td>0</td>\n",
       "      <td>0</td>\n",
       "      <td>0</td>\n",
       "      <td>0</td>\n",
       "      <td>1</td>\n",
       "      <td>0</td>\n",
       "      <td>0</td>\n",
       "    </tr>\n",
       "    <tr>\n",
       "      <th>1</th>\n",
       "      <td>0</td>\n",
       "      <td>0</td>\n",
       "      <td>0</td>\n",
       "      <td>0</td>\n",
       "      <td>1</td>\n",
       "      <td>0</td>\n",
       "      <td>0</td>\n",
       "    </tr>\n",
       "    <tr>\n",
       "      <th>2</th>\n",
       "      <td>0</td>\n",
       "      <td>0</td>\n",
       "      <td>0</td>\n",
       "      <td>0</td>\n",
       "      <td>1</td>\n",
       "      <td>0</td>\n",
       "      <td>0</td>\n",
       "    </tr>\n",
       "    <tr>\n",
       "      <th>3</th>\n",
       "      <td>0</td>\n",
       "      <td>0</td>\n",
       "      <td>0</td>\n",
       "      <td>0</td>\n",
       "      <td>1</td>\n",
       "      <td>0</td>\n",
       "      <td>0</td>\n",
       "    </tr>\n",
       "    <tr>\n",
       "      <th>4</th>\n",
       "      <td>0</td>\n",
       "      <td>0</td>\n",
       "      <td>0</td>\n",
       "      <td>0</td>\n",
       "      <td>1</td>\n",
       "      <td>0</td>\n",
       "      <td>0</td>\n",
       "    </tr>\n",
       "  </tbody>\n",
       "</table>\n",
       "</div>"
      ],
      "text/plain": [
       "   ProductName_fep  ProductName_mse  ProductName_mseprerelease  ProductName_scep  ProductName_win8defender  ProductName_windowsintune  ProductName_nan\n",
       "0                0                0                          0                 0                         1                          0                0\n",
       "1                0                0                          0                 0                         1                          0                0\n",
       "2                0                0                          0                 0                         1                          0                0\n",
       "3                0                0                          0                 0                         1                          0                0\n",
       "4                0                0                          0                 0                         1                          0                0"
      ]
     },
     "execution_count": 14,
     "metadata": {},
     "output_type": "execute_result"
    }
   ],
   "source": [
    "test_df.head()"
   ]
  },
  {
   "cell_type": "code",
   "execution_count": 37,
   "metadata": {},
   "outputs": [
    {
     "name": "stderr",
     "output_type": "stream",
     "text": [
      "/usr/local/lib64/python3.6/site-packages/sklearn/ensemble/forest.py:248: FutureWarning: The default value of n_estimators will change from 10 in version 0.20 to 100 in 0.22.\n",
      "  \"10 in version 0.20 to 100 in 0.22.\", FutureWarning)\n"
     ]
    },
    {
     "name": "stdout",
     "output_type": "stream",
     "text": [
      "col = HasDetections : train_score = 0.5003258436674305 : test_score = 0.500329960964148\n"
     ]
    }
   ],
   "source": [
    "#Let's train our first model!!!\n",
    "\n",
    "#select model type and fit - ensure train_df doesn't have 'HasDetections'\n",
    "\n",
    "assert('HasDetections' not in train_df)\n",
    "model = RandomForestClassifier()\n",
    "model.fit(train_df, train['HasDetections'])\n",
    "\n",
    "#predict probabilities of belong to class 1\n",
    "train_pred = model.predict_proba(train_df)[:,1] #prob of belonging to class 1\n",
    "test_pred = model.predict_proba(test_df)[:,1]\n",
    "\n",
    "#actual values\n",
    "train_labels = train['HasDetections']\n",
    "test_labels = test['HasDetections']\n",
    "\n",
    "#compute AUC for train and test score\n",
    "train_score = roc_auc_score(train_labels, train_pred)\n",
    "test_score = roc_auc_score(test_labels, test_pred)\n",
    "\n",
    "print(f'col = {col} : train_score = {train_score} : test_score = {test_score}')"
   ]
  },
  {
   "cell_type": "markdown",
   "metadata": {},
   "source": [
    "As one can see, ProductName gives an AUC of 0.5 which is the same as guessing by chance. We expect this since the mutual information betwen ProductName and HasDetections is ~ 10^-6. Another way to see this is by looking at the % of 1s vs 0s for each distinct product type"
   ]
  },
  {
   "cell_type": "code",
   "execution_count": 38,
   "metadata": {},
   "outputs": [
    {
     "data": {
      "text/plain": [
       "ProductName    HasDetections\n",
       "fep            0                      3\n",
       "               1                      2\n",
       "mse            0                  29356\n",
       "               1                  27606\n",
       "mseprerelease  0                     21\n",
       "               1                     13\n",
       "scep           0                      9\n",
       "               1                      4\n",
       "win8defender   0                2648223\n",
       "               1                2647647\n",
       "windowsintune  0                      5\n",
       "Name: MachineIdentifier, dtype: int64"
      ]
     },
     "execution_count": 38,
     "metadata": {},
     "output_type": "execute_result"
    }
   ],
   "source": [
    "train.groupby(['ProductName', 'HasDetections']).count()['MachineIdentifier']"
   ]
  },
  {
   "cell_type": "markdown",
   "metadata": {},
   "source": [
    "For the statistically large classes, the values are ~50-50% which implies that knowing ProductName's value has no bearing on HasDetections."
   ]
  },
  {
   "cell_type": "markdown",
   "metadata": {},
   "source": [
    "# col = EngineVersion (MI = 8 * 10^-3)"
   ]
  },
  {
   "cell_type": "code",
   "execution_count": 42,
   "metadata": {},
   "outputs": [
    {
     "data": {
      "text/plain": [
       "1.1.15200.1    2307649\n",
       "1.1.15100.1    2205121\n",
       "1.1.15000.2     159123\n",
       "1.1.14901.4     127026\n",
       "1.1.14600.4      96564\n",
       "1.1.14800.3      82031\n",
       "1.1.15300.6      72123\n",
       "1.1.14104.0      56453\n",
       "1.1.13504.0      42605\n",
       "1.1.15300.5      41134\n",
       "1.1.14700.5      28160\n",
       "1.1.14500.5      27255\n",
       "1.1.14405.2      21674\n",
       "1.1.14306.0      14392\n",
       "1.1.14202.0       9189\n",
       "1.1.14003.0       8694\n",
       "1.1.13903.0       5880\n",
       "1.1.13804.0       5674\n",
       "1.1.13303.0       5612\n",
       "1.1.13407.0       5313\n",
       "1.1.13601.0       4313\n",
       "1.1.12902.0       3198\n",
       "1.1.14305.0       3037\n",
       "1.1.13701.0       2976\n",
       "1.1.13704.0       2896\n",
       "1.1.13202.0       2826\n",
       "1.1.13103.0       2581\n",
       "1.1.13000.0       2451\n",
       "1.1.12805.0       1521\n",
       "1.1.15000.1       1496\n",
       "                ...   \n",
       "1.1.14002.0         48\n",
       "1.1.11701.0         48\n",
       "1.1.12101.0         46\n",
       "1.1.14103.0         45\n",
       "1.1.13902.0         42\n",
       "1.1.14102.0         38\n",
       "1.1.14001.0         28\n",
       "1.1.13802.0         25\n",
       "1.1.12400.0         23\n",
       "1.1.13803.0         15\n",
       "1.1.13406.0         14\n",
       "1.1.12603.0         11\n",
       "1.1.12706.0         11\n",
       "1.1.12804.0         11\n",
       "1.1.11903.0          9\n",
       "1.1.12505.0          8\n",
       "1.1.9700.0           7\n",
       "1.1.11602.0          6\n",
       "1.1.12002.0          6\n",
       "1.1.12205.0          6\n",
       "1.1.11502.0          5\n",
       "1.1.11804.0          3\n",
       "1.1.11400.0          3\n",
       "1.1.10401.0          2\n",
       "1.1.13102.0          2\n",
       "1.1.13301.0          1\n",
       "1.1.13503.0          1\n",
       "1.1.11104.0          1\n",
       "1.1.11202.0          1\n",
       "1.1.12300.0          1\n",
       "Name: EngineVersion, Length: 67, dtype: int64"
      ]
     },
     "execution_count": 42,
     "metadata": {},
     "output_type": "execute_result"
    }
   ],
   "source": [
    "train['EngineVersion'].value_counts()"
   ]
  },
  {
   "cell_type": "markdown",
   "metadata": {},
   "source": [
    "EngineVersion consist of version strings that encode version numbers. What are our options?\n",
    "\n",
    "**One-hot encoding**: this would result in 67 columns (one for each unique value)\n",
    "\n",
    "**Observations**:\n",
    "1. Most of the values are distributed among ~10 values with a long tail of values with <100 occurrences.\n",
    "2. There's probably an implicit time ordering here. The version numbers increase with time. In particular, if there's a regular release cycle, we can actually impute when malware was detected within $\\pm\\Delta \\text{release cycle time}$. Ignore this time for now but think of how we can exploit this fact.\n",
    "\n",
    "Let's explore this column in more detail"
   ]
  },
  {
   "cell_type": "code",
   "execution_count": 43,
   "metadata": {},
   "outputs": [
    {
     "data": {
      "text/plain": [
       "(array([65.,  0.,  0.,  0.,  0.,  0.,  0.,  0.,  0.,  2.]),\n",
       " array([1.0000000e+00, 2.3076580e+05, 4.6153060e+05, 6.9229540e+05,\n",
       "        9.2306020e+05, 1.1538250e+06, 1.3845898e+06, 1.6153546e+06,\n",
       "        1.8461194e+06, 2.0768842e+06, 2.3076490e+06]),\n",
       " <a list of 10 Patch objects>)"
      ]
     },
     "execution_count": 43,
     "metadata": {},
     "output_type": "execute_result"
    },
    {
     "data": {
      "image/png": "[encoded data removed]",
      "text/plain": [
       "<Figure size 720x720 with 1 Axes>"
      ]
     },
     "metadata": {
      "needs_background": "light"
     },
     "output_type": "display_data"
    }
   ],
   "source": [
    "#histogram of value counts\n",
    "plt.figure(figsize=(10,10))\n",
    "plt.hist(train['EngineVersion'].value_counts())"
   ]
  },
  {
   "cell_type": "code",
   "execution_count": 44,
   "metadata": {},
   "outputs": [
    {
     "name": "stdout",
     "output_type": "stream",
     "text": [
      "% of values with top 2 values:  0.8430531625071994\n"
     ]
    }
   ],
   "source": [
    "#a few (2) columns dominate the counts\n",
    "\n",
    "value_counts = train['EngineVersion'].value_counts()\n",
    "\n",
    "print(\"% of values with top 2 values: \", value_counts[0:2].sum() / float(value_counts.sum())) #% of counts with top 2 values"
   ]
  },
  {
   "cell_type": "code",
   "execution_count": 45,
   "metadata": {},
   "outputs": [
    {
     "data": {
      "text/plain": [
       "(array([54.,  3.,  2.,  1.,  1.,  1.,  1.,  1.,  0.,  1.]),\n",
       " array([1.000000e+00, 1.591320e+04, 3.182540e+04, 4.773760e+04,\n",
       "        6.364980e+04, 7.956200e+04, 9.547420e+04, 1.113864e+05,\n",
       "        1.272986e+05, 1.432108e+05, 1.591230e+05]),\n",
       " <a list of 10 Patch objects>)"
      ]
     },
     "execution_count": 45,
     "metadata": {},
     "output_type": "execute_result"
    },
    {
     "data": {
      "image/png": "[encoded data removed]",
      "text/plain": [
       "<Figure size 720x720 with 1 Axes>"
      ]
     },
     "metadata": {
      "needs_background": "light"
     },
     "output_type": "display_data"
    }
   ],
   "source": [
    "plt.figure(figsize=(10,10))\n",
    "plt.hist(value_counts[2:])"
   ]
  },
  {
   "cell_type": "markdown",
   "metadata": {},
   "source": [
    "Out of 67 unique values:\n",
    "\n",
    "~84% of the rows have only one of two values\n",
    "54 unique values each have < 20,000 rows\n",
    "\n",
    "One possibility is to combine the tail into one new value\n",
    "\n",
    "Let's plot the value counts as a time-series to look at which version occur most often"
   ]
  },
  {
   "cell_type": "code",
   "execution_count": 46,
   "metadata": {},
   "outputs": [
    {
     "data": {
      "text/plain": [
       "[<matplotlib.lines.Line2D at 0x7f50af02b898>]"
      ]
     },
     "execution_count": 46,
     "metadata": {},
     "output_type": "execute_result"
    },
    {
     "data": {
      "image/png": "[encoded data removed]",
      "text/plain": [
       "<Figure size 720x720 with 1 Axes>"
      ]
     },
     "metadata": {
      "needs_background": "light"
     },
     "output_type": "display_data"
    }
   ],
   "source": [
    "plt.figure(figsize=(10,10))\n",
    "plt.xticks(rotation=90)\n",
    "plt.plot(value_counts.sort_index(), 'p-')\n",
    "#plt.yscale('log')\n",
    "#plt.title(\"NOTE LOG SCALE\")"
   ]
  },
  {
   "cell_type": "markdown",
   "metadata": {},
   "source": [
    "All the values are of the form \"1.1.X\". Let's strip out the \"1.1\" for convenience"
   ]
  },
  {
   "cell_type": "code",
   "execution_count": 47,
   "metadata": {},
   "outputs": [],
   "source": [
    "value_counts.index = [i.split('1.1.')[1] for i in value_counts.index]"
   ]
  },
  {
   "cell_type": "code",
   "execution_count": 48,
   "metadata": {},
   "outputs": [
    {
     "data": {
      "text/plain": [
       "[<matplotlib.lines.Line2D at 0x7f50c1d03240>]"
      ]
     },
     "execution_count": 48,
     "metadata": {},
     "output_type": "execute_result"
    },
    {
     "data": {
      "image/png": "[encoded data removed]",
      "text/plain": [
       "<Figure size 720x720 with 1 Axes>"
      ]
     },
     "metadata": {
      "needs_background": "light"
     },
     "output_type": "display_data"
    }
   ],
   "source": [
    "plt.figure(figsize=(10,10))\n",
    "plt.xticks(rotation=90)\n",
    "plt.plot(value_counts.sort_index(), 'p-')\n",
    "#plt.yscale('log')\n",
    "#plt.title(\"NOTE LOG SCALE\")"
   ]
  },
  {
   "cell_type": "markdown",
   "metadata": {},
   "source": [
    "As before, we want to explore the power of \"EngineVersion\" to predict HasDetections. We'll explore 3 ways (2 have already been used before).\n",
    "\n",
    "1. Group bys: Groupby the column of interest and the target column and see if there's a departure from the balance of 50-50% in the target within each group."
   ]
  },
  {
   "cell_type": "code",
   "execution_count": 49,
   "metadata": {},
   "outputs": [
    {
     "name": "stdout",
     "output_type": "stream",
     "text": [
      "Two dominant classes: \n"
     ]
    },
    {
     "data": {
      "text/plain": [
       "EngineVersion  HasDetections\n",
       "1.1.15100.1    0                 985882\n",
       "               1                1219239\n",
       "1.1.15200.1    0                1173611\n",
       "               1                1134038\n",
       "Name: MachineIdentifier, dtype: int64"
      ]
     },
     "execution_count": 49,
     "metadata": {},
     "output_type": "execute_result"
    }
   ],
   "source": [
    "print(\"Two dominant classes: \")\n",
    "train[train['EngineVersion'].isin(['1.1.15100.1', '1.1.15200.1'])].groupby(['EngineVersion', 'HasDetections']).count()['MachineIdentifier']"
   ]
  },
  {
   "cell_type": "markdown",
   "metadata": {},
   "source": [
    "This is good news! Overall in the data, we have #HasDetections=1 / #HasDetections=0 = 0.999 ~ 1 i.e. there are as many 0s as 1s.\n",
    "\n",
    "But within the subset of data with EngineVersion == 1.1.15100.1, we have a ratio of 1.23\n",
    "and within the subset of data with EngineVersion == 1.1.15200.1, we have a ratio of 0.96\n",
    "\n",
    "This asymmetry will help us when we build a model. But what about the non-dominant values for EngineVersion. Let's group them all into one category."
   ]
  },
  {
   "cell_type": "code",
   "execution_count": 50,
   "metadata": {},
   "outputs": [
    {
     "data": {
      "text/plain": [
       "HasDetections\n",
       "0    518124\n",
       "1    321995\n",
       "Name: MachineIdentifier, dtype: int64"
      ]
     },
     "execution_count": 50,
     "metadata": {},
     "output_type": "execute_result"
    }
   ],
   "source": [
    "train[~train['EngineVersion'].isin(['1.1.15100.1', '1.1.15200.1'])].groupby(['HasDetections']).count()['MachineIdentifier']"
   ]
  },
  {
   "cell_type": "markdown",
   "metadata": {},
   "source": [
    "Here, we get a ratio \n",
    "\n",
    "#HasDetections=1 / #HasDetections=0 = 0.62 \n",
    "\n",
    "This is excellent news. This class of the tail of EngineVersions has a significant departure from the 1:1 ratio. Let's proceed to the other two steps to understand how strong EngineVersion is.\n",
    "\n",
    "2. Mutual information"
   ]
  },
  {
   "cell_type": "code",
   "execution_count": 51,
   "metadata": {},
   "outputs": [
    {
     "data": {
      "text/plain": [
       "0.008227876480825"
      ]
     },
     "execution_count": 51,
     "metadata": {},
     "output_type": "execute_result"
    }
   ],
   "source": [
    "mutual_info_score(train['HasDetections'], train['EngineVersion'])"
   ]
  },
  {
   "cell_type": "markdown",
   "metadata": {},
   "source": [
    "3. Simple 1-factor model"
   ]
  },
  {
   "cell_type": "code",
   "execution_count": 52,
   "metadata": {},
   "outputs": [],
   "source": [
    "train_df = train[['EngineVersion']].copy()\n",
    "test_df = test[['EngineVersion']].copy()"
   ]
  },
  {
   "cell_type": "code",
   "execution_count": 53,
   "metadata": {},
   "outputs": [],
   "source": [
    "train_df[~train_df['EngineVersion'].isin(['1.1.15100.1', '1.1.15200.1'])] = 'rest'\n",
    "test_df[~test_df['EngineVersion'].isin(['1.1.15100.1', '1.1.15200.1'])] = 'rest'"
   ]
  },
  {
   "cell_type": "code",
   "execution_count": 54,
   "metadata": {},
   "outputs": [],
   "source": [
    "train_df = pd.get_dummies(train_df[['EngineVersion']], dummy_na=True)\n",
    "test_df = pd.get_dummies(test_df[['EngineVersion']], dummy_na=True)"
   ]
  },
  {
   "cell_type": "code",
   "execution_count": 60,
   "metadata": {},
   "outputs": [
    {
     "name": "stderr",
     "output_type": "stream",
     "text": [
      "/usr/local/lib64/python3.6/site-packages/sklearn/ensemble/forest.py:248: FutureWarning: The default value of n_estimators will change from 10 in version 0.20 to 100 in 0.22.\n",
      "  \"10 in version 0.20 to 100 in 0.22.\", FutureWarning)\n"
     ]
    },
    {
     "name": "stdout",
     "output_type": "stream",
     "text": [
      "train_score = 0.5584103493439923 : test_score = 0.5581229859804917\n"
     ]
    }
   ],
   "source": [
    "model = RandomForestClassifier()\n",
    "model.fit(train_df, train['HasDetections'])\n",
    "\n",
    "train_pred = model.predict_proba(train_df)[:,1] #prob of belonging to class 1\n",
    "test_pred = model.predict_proba(test_df)[:,1]\n",
    "\n",
    "train_labels = train['HasDetections']\n",
    "test_labels = test['HasDetections']\n",
    "\n",
    "train_score = roc_auc_score(train_labels, train_pred)\n",
    "test_score = roc_auc_score(test_labels, test_pred)\n",
    "\n",
    "print(f'train_score = {train_score} : test_score = {test_score}')"
   ]
  },
  {
   "cell_type": "markdown",
   "metadata": {},
   "source": [
    "Ah! much better - we get an AUC = ~0.56 which is better than chance as we expected given the asymmetries in the groupbys.\n",
    "\n",
    "A natural question is wondering whether we should have not grouped everything except the top-2 classes together but had a different arrangement.\n",
    "\n",
    "Let's tackle that question using mutual information.\n",
    "\n",
    "3. Mutual information"
   ]
  },
  {
   "cell_type": "code",
   "execution_count": 61,
   "metadata": {},
   "outputs": [
    {
     "name": "stdout",
     "output_type": "stream",
     "text": [
      "Mutual information between EngineVersion and HasDetections:  0.008227876480824993\n"
     ]
    }
   ],
   "source": [
    "print(\"Mutual information between EngineVersion and HasDetections: \", mutual_info_score(train['EngineVersion'], train['HasDetections']))"
   ]
  },
  {
   "cell_type": "markdown",
   "metadata": {},
   "source": [
    "Let's now rank EngineVersion values by how many times they occur (value_counts) and group all the elements from index i to the last one together and see how mutual information is impacted"
   ]
  },
  {
   "cell_type": "code",
   "execution_count": 62,
   "metadata": {},
   "outputs": [],
   "source": [
    "value_counts = train['EngineVersion'].value_counts()\n",
    "\n",
    "mi_values = {}\n",
    "for i in range(2, 60): #combine [i, last] -> one category\n",
    "    train_df = train[['EngineVersion']].copy()\n",
    "\n",
    "    top_values = list(value_counts[0:i].index)\n",
    "\n",
    "    train_df[~train_df['EngineVersion'].isin(top_values)] = 'rest'\n",
    "\n",
    "    mi_values[i] = mutual_info_score(train_df['EngineVersion'], train['HasDetections'])"
   ]
  },
  {
   "cell_type": "code",
   "execution_count": 63,
   "metadata": {},
   "outputs": [
    {
     "data": {
      "text/plain": [
       "[(59, 0.008227065267823287),\n",
       " (58, 0.008227065267823283),\n",
       " (57, 0.008227058512233688),\n",
       " (56, 0.00822705798090321),\n",
       " (55, 0.008227057647860003),\n",
       " (54, 0.0082268558242503),\n",
       " (53, 0.008226786058068456),\n",
       " (52, 0.008226780179606728),\n",
       " (51, 0.008226723020557887),\n",
       " (50, 0.008226704346894863),\n",
       " (49, 0.008226690499618466),\n",
       " (48, 0.00822668518185769),\n",
       " (47, 0.00822658141544121),\n",
       " (46, 0.008226573201419368),\n",
       " (45, 0.008226515155887603),\n",
       " (44, 0.00822648335061588),\n",
       " (43, 0.008226081336286904),\n",
       " (42, 0.008225882437770423),\n",
       " (41, 0.00822571874529524),\n",
       " (40, 0.008225183229691723),\n",
       " (39, 0.008223528943518568),\n",
       " (38, 0.00822261448879368),\n",
       " (37, 0.00822258764289043),\n",
       " (36, 0.00822234115649246),\n",
       " (35, 0.008222287780524626),\n",
       " (34, 0.008221984256597432),\n",
       " (33, 0.008221632678918617),\n",
       " (32, 0.008220927932721575),\n",
       " (31, 0.008220908571890149),\n",
       " (30, 0.008220762316962863),\n",
       " (29, 0.008219354836915091),\n",
       " (28, 0.008216856819915117),\n",
       " (27, 0.008216363015051084),\n",
       " (26, 0.00821595803109123),\n",
       " (25, 0.008215926989185957),\n",
       " (24, 0.008215426549542638),\n",
       " (23, 0.008215318061651822),\n",
       " (22, 0.00821159292306318),\n",
       " (21, 0.008211579817369976),\n",
       " (20, 0.008211010629046887),\n",
       " (19, 0.008210622513844577),\n",
       " (18, 0.00820964142466727),\n",
       " (17, 0.00820913508039226),\n",
       " (16, 0.008208540724845302),\n",
       " (15, 0.008207483135859575),\n",
       " (14, 0.008203529417495555),\n",
       " (13, 0.008203210631049796),\n",
       " (12, 0.008203207270727656),\n",
       " (11, 0.0082028349183067),\n",
       " (10, 0.008172675534332444),\n",
       " (9, 0.007883192304076879),\n",
       " (8, 0.00786919311367082),\n",
       " (7, 0.007851658748329333),\n",
       " (6, 0.007719267772854081),\n",
       " (5, 0.007332509623225347),\n",
       " (4, 0.0073106455860786),\n",
       " (3, 0.00680694426219608),\n",
       " (2, 0.006690896544220448)]"
      ]
     },
     "execution_count": 63,
     "metadata": {},
     "output_type": "execute_result"
    }
   ],
   "source": [
    "sorted(mi_values.items(), key=operator.itemgetter(1), reverse=True)"
   ]
  },
  {
   "cell_type": "markdown",
   "metadata": {},
   "source": [
    "The values saturate to around ~0.0082 once we combine all the values from index 10 onwards (incl. 10)"
   ]
  },
  {
   "cell_type": "code",
   "execution_count": 64,
   "metadata": {},
   "outputs": [
    {
     "data": {
      "text/plain": [
       "[<matplotlib.lines.Line2D at 0x7f50ac0ef160>]"
      ]
     },
     "execution_count": 64,
     "metadata": {},
     "output_type": "execute_result"
    },
    {
     "data": {
      "image/png": "[encoded data removed]",
      "text/plain": [
       "<Figure size 720x720 with 1 Axes>"
      ]
     },
     "metadata": {
      "needs_background": "light"
     },
     "output_type": "display_data"
    }
   ],
   "source": [
    "plt.figure(figsize=(10,10))\n",
    "plt.plot(mi_values.keys(), mi_values.values(), 'p-')\n",
    "plt.plot(mi_values.keys(), [mutual_info_score(train['EngineVersion'], train['HasDetections'])]*len(mi_values), color='black')"
   ]
  },
  {
   "cell_type": "markdown",
   "metadata": {},
   "source": [
    "What this plots tells us is that mutual information goes up in drastic steps till we merge all the values from the 10th onwards into a single category. At that stage, we gain nothing more by adding more categories. So, let's do that!!"
   ]
  },
  {
   "cell_type": "code",
   "execution_count": 54,
   "metadata": {},
   "outputs": [],
   "source": [
    "train_df = train[['EngineVersion']].copy()\n",
    "test_df = test[['EngineVersion']].copy()\n",
    "\n",
    "top_values = list(value_counts[0:11].index)\n",
    "\n",
    "train_df[~train_df['EngineVersion'].isin(top_values)] = 'rest'\n",
    "test_df[~test_df['EngineVersion'].isin(top_values)] = 'rest'\n",
    "\n",
    "train_df = pd.get_dummies(train_df[['EngineVersion']], dummy_na=True)\n",
    "test_df = pd.get_dummies(test_df[['EngineVersion']], dummy_na=True)"
   ]
  },
  {
   "cell_type": "code",
   "execution_count": 55,
   "metadata": {},
   "outputs": [
    {
     "name": "stderr",
     "output_type": "stream",
     "text": [
      "/usr/local/lib64/python3.6/site-packages/sklearn/ensemble/forest.py:248: FutureWarning: The default value of n_estimators will change from 10 in version 0.20 to 100 in 0.22.\n",
      "  \"10 in version 0.20 to 100 in 0.22.\", FutureWarning)\n"
     ]
    },
    {
     "name": "stdout",
     "output_type": "stream",
     "text": [
      "col = HasDetections : train_score = 0.560734100549694 : test_score = 0.5604783682073644\n"
     ]
    }
   ],
   "source": [
    "model = RandomForestClassifier()\n",
    "model.fit(train_df, train['HasDetections'])\n",
    "\n",
    "train_pred = model.predict_proba(train_df)[:,1] #prob of belonging to class 1\n",
    "test_pred = model.predict_proba(test_df)[:,1]\n",
    "\n",
    "train_labels = train['HasDetections']\n",
    "test_labels = test['HasDetections']\n",
    "\n",
    "train_score = roc_auc_score(train_labels, train_pred)\n",
    "test_score = roc_auc_score(test_labels, test_pred)\n",
    "\n",
    "print(f'col = {col} : train_score = {train_score} : test_score = {test_score}')"
   ]
  },
  {
   "cell_type": "markdown",
   "metadata": {},
   "source": [
    "We get a marginal improvement in our test score from:\n",
    "\n",
    "0.5581229859804917 -> 0.5604804598167951\n",
    "\n",
    "(improvement of 0.42%) but from just one feature and from ensuring we don't throw away too much information by combining all except the top 2 values."
   ]
  },
  {
   "cell_type": "markdown",
   "metadata": {},
   "source": [
    "**Note about cross-validation**:\n",
    "\n",
    "I have been implicitly looking at both train and test scores each time we fit a model. The idea is that they should be comparable. If the train score is far better (higher in the case of AUC) than the test score, then we are overfitting i.e. our model is memorizing the train set, doing very well on it but fails when new data comes in.\n",
    "\n",
    "We are not doing *hyperparameter tuning* yet i.e. we initialize our model as:\n",
    "\n",
    "model = RandomForestClassifier()\n",
    "\n",
    "which uses the default values for all arguments. Eventually, we'll want to vary those arguments to maximize *both* train and test scores till they start diverging. The idea is that with default values, both scores might be pretty low. As we tune or vary them, both scores might improve but if train score improves far more than test score, then we know we are overfitting and we need to undo the change.\n",
    "\n",
    "A common question is: what if the test score is **better** than the train score. This is a fluke! Don't rely on your model to do that systematically. One always wants control over the model i.e. by ensuring that performance on train and test is almost the same.\n",
    "\n",
    "Once we do K-fold cross-validation, this will be even easier to see. We'll have K test scores (one for each fold) and we can look at their variance to get a sense of the effect of randomized dataset selection on our model (at the cost of training many more models)."
   ]
  },
  {
   "cell_type": "markdown",
   "metadata": {},
   "source": [
    "# col = AppVersion (MI = 5.6*10^-3)"
   ]
  },
  {
   "cell_type": "markdown",
   "metadata": {},
   "source": [
    "Now we want to repeat a lot of the work that we did with EngineVersion and this is a good chance to consolidate all our work above."
   ]
  },
  {
   "cell_type": "code",
   "execution_count": 29,
   "metadata": {},
   "outputs": [
    {
     "data": {
      "text/plain": [
       "4.18.1807.18075     3082514\n",
       "4.18.1806.18062      510575\n",
       "4.12.16299.15        216287\n",
       "4.10.209.0           163695\n",
       "4.13.17134.1         154505\n",
       "4.16.17656.18052     140966\n",
       "4.13.17134.228       136031\n",
       "4.8.10240.17443      123102\n",
       "4.9.10586.1106       121868\n",
       "4.14.17639.18041     116919\n",
       "4.12.17007.18022      71002\n",
       "4.9.10586.0           67076\n",
       "4.11.15063.447        55086\n",
       "4.10.14393.0          46409\n",
       "4.11.15063.0          41662\n",
       "4.12.17007.18011      36834\n",
       "4.14.17613.18039      31806\n",
       "4.8.10240.16384       27395\n",
       "4.11.15063.1155       26719\n",
       "4.10.14393.1794       26441\n",
       "4.9.10586.494         14857\n",
       "4.10.14393.1198       14221\n",
       "4.9.10586.672         13457\n",
       "4.13.17134.191        12309\n",
       "4.12.17007.17123       8238\n",
       "4.18.1809.2            8197\n",
       "4.10.14393.1613        8130\n",
       "4.9.10586.589          7994\n",
       "4.13.17134.112         7668\n",
       "4.9.10586.1045         6248\n",
       "                     ...   \n",
       "4.17.17682.1000          34\n",
       "4.15.17666.1000          30\n",
       "4.9.10586.456            27\n",
       "4.18.1806.20033          21\n",
       "4.9.10586.1177           16\n",
       "4.16.17656.18051         15\n",
       "4.8.10240.17533          15\n",
       "4.15.17661.1001          14\n",
       "4.11.15063.1154          13\n",
       "4.4.306.0                12\n",
       "4.15.17650.1001          11\n",
       "4.18.1806.20015          11\n",
       "4.8.10240.17446          10\n",
       "4.18.1807.18070           9\n",
       "4.12.17007.17121          8\n",
       "4.13.17639.1000           7\n",
       "4.12.17007.18021          6\n",
       "4.15.17643.1000           5\n",
       "4.13.17634.1000           4\n",
       "4.15.17655.1000           4\n",
       "4.13.17627.1000           3\n",
       "4.9.219.0                 2\n",
       "4.8.10240.16425           1\n",
       "4.8.203.0                 1\n",
       "4.5.212.0                 1\n",
       "4.17.17686.1004           1\n",
       "4.8.10240.17943           1\n",
       "4.13.17618.1000           1\n",
       "4.12.16299.0              1\n",
       "4.13.17604.1000           1\n",
       "Name: AppVersion, Length: 108, dtype: int64"
      ]
     },
     "execution_count": 29,
     "metadata": {},
     "output_type": "execute_result"
    }
   ],
   "source": [
    "train['AppVersion'].value_counts()"
   ]
  },
  {
   "cell_type": "code",
   "execution_count": 30,
   "metadata": {
    "scrolled": false
   },
   "outputs": [
    {
     "data": {
      "text/plain": [
       "[<matplotlib.lines.Line2D at 0x7f50aefff4e0>]"
      ]
     },
     "execution_count": 30,
     "metadata": {},
     "output_type": "execute_result"
    },
    {
     "data": {
      "image/png": "[encoded data removed]",
      "text/plain": [
       "<Figure size 720x720 with 1 Axes>"
      ]
     },
     "metadata": {
      "needs_background": "light"
     },
     "output_type": "display_data"
    },
    {
     "data": {
      "image/png": "[encoded data removed]",
      "text/plain": [
       "<Figure size 720x720 with 1 Axes>"
      ]
     },
     "metadata": {
      "needs_background": "light"
     },
     "output_type": "display_data"
    },
    {
     "data": {
      "image/png": "[encoded data removed]",
      "text/plain": [
       "<Figure size 720x720 with 1 Axes>"
      ]
     },
     "metadata": {
      "needs_background": "light"
     },
     "output_type": "display_data"
    }
   ],
   "source": [
    "#histogram of value counts\n",
    "value_counts = train['AppVersion'].value_counts()\n",
    "\n",
    "plt.figure(figsize=(10,10))\n",
    "plt.hist(value_counts)\n",
    "\n",
    "plt.figure(figsize=(10,10))\n",
    "plt.hist(value_counts[1:])\n",
    "\n",
    "plt.figure(figsize=(10,10))\n",
    "plt.xticks(rotation=90)\n",
    "plt.plot(value_counts.sort_index(), 'p-')\n",
    "#plt.yscale('log')\n",
    "#plt.title(\"NOTE LOG SCALE\")"
   ]
  },
  {
   "cell_type": "code",
   "execution_count": 89,
   "metadata": {},
   "outputs": [],
   "source": [
    "#Mutual information scan to find best # of value counts to combine\n",
    "#should also parallelize this piece\n",
    "\n",
    "def find_mi_threshold(train, colname, n_low = 1, n_high = None):\n",
    "    '''Since we'll only use this for categorical variables, cast to strings\n",
    "    '''\n",
    "    value_counts = train[colname].value_counts()\n",
    "    value_counts.index = [str(i) for i in value_counts.index]\n",
    "\n",
    "    if n_high is None:\n",
    "        n_high = len(value_counts)\n",
    "    \n",
    "    train_df_orig = train[[colname]].copy() #contains only 1 col\n",
    "    train_df_orig[colname] = train_df_orig[colname].astype(str) #contains only 1 col\n",
    "    \n",
    "    mi_values = {}\n",
    "    for i in range(n_low, n_high+1): #can be made smarter\n",
    "        top_values= list(value_counts[0:i].index)\n",
    "\n",
    "        train_df = train_df_orig.copy() #contains only 1 col\n",
    "        train_df[~train_df[colname].isin(top_values)] = 'rest'\n",
    "\n",
    "        mi_values[i] = mutual_info_score(train_df[colname], train['HasDetections'])\n",
    "        \n",
    "    return mi_values\n",
    "\n",
    "import multiprocessing as mp\n",
    "\n",
    "def find_mi_threshold_parallel(train, colname, n_low = 1, n_high = None, n_jobs=1):\n",
    "    '''Since we'll only use this for categorical variables, cast to strings\n",
    "    '''\n",
    "    \n",
    "    values = train[colname].astype(str).fillna('null')\n",
    "    \n",
    "    value_counts = values.value_counts()\n",
    "\n",
    "    if n_high is None:\n",
    "        n_high = len(value_counts)\n",
    "    \n",
    "    train_df_orig = pd.DataFrame(values)\n",
    "    \n",
    "    manager = mp.Manager()\n",
    "    mi_values = manager.dict()\n",
    "\n",
    "    def calc_mi(value_counts, train_df_orig, colname, mi_values, i):\n",
    "        top_values= list(value_counts[0:i].index)\n",
    "\n",
    "        train_df = train_df_orig.copy()\n",
    "        train_df[~train_df[colname].isin(top_values)] = 'rest'\n",
    "\n",
    "        mi_values[i] = mutual_info_score(train_df[colname], train['HasDetections'])\n",
    "    \n",
    "    proc_list = []\n",
    "    counter = 0\n",
    "    for i in range(n_low, n_high+1): #can be made smarter\n",
    "        proc = mp.Process(target=calc_mi, args=(value_counts, train_df_orig, colname, mi_values, i))\n",
    "        proc.start()\n",
    "        proc_list.append(proc)\n",
    "        counter += 1\n",
    "        \n",
    "        if counter % n_jobs == 0:\n",
    "            [p.join() for p in proc_list]\n",
    "            proc_list = []\n",
    "            \n",
    "    [p.join() for p in proc_list]\n",
    "        \n",
    "    mi_values = dict(mi_values)\n",
    "    \n",
    "    return mi_values"
   ]
  },
  {
   "cell_type": "code",
   "execution_count": 32,
   "metadata": {},
   "outputs": [],
   "source": [
    "colname = 'AppVersion'"
   ]
  },
  {
   "cell_type": "code",
   "execution_count": 33,
   "metadata": {},
   "outputs": [
    {
     "name": "stdout",
     "output_type": "stream",
     "text": [
      "CPU times: user 1min 18s, sys: 18.5 ms, total: 1min 18s\n",
      "Wall time: 1min 18s\n"
     ]
    }
   ],
   "source": [
    "%time mi_values = find_mi_threshold(train, colname, n_low=1, n_high=20)"
   ]
  },
  {
   "cell_type": "code",
   "execution_count": 34,
   "metadata": {},
   "outputs": [
    {
     "name": "stdout",
     "output_type": "stream",
     "text": [
      "CPU times: user 601 ms, sys: 1.91 s, total: 2.51 s\n",
      "Wall time: 17.5 s\n"
     ]
    }
   ],
   "source": [
    "%time mi_values_parallel = find_mi_threshold_parallel(train, colname, n_low=1, n_high=20, n_jobs=10)"
   ]
  },
  {
   "cell_type": "code",
   "execution_count": 35,
   "metadata": {
    "scrolled": false
   },
   "outputs": [
    {
     "data": {
      "text/plain": [
       "[(20, 0.005644390057808235),\n",
       " (19, 0.005643893860430963),\n",
       " (18, 0.0056263211083099444),\n",
       " (17, 0.005626320019000791),\n",
       " (16, 0.0053863507115343955),\n",
       " (15, 0.0053785454577393275),\n",
       " (14, 0.005206604727880683),\n",
       " (13, 0.005146118799000548),\n",
       " (12, 0.005144636961380383),\n",
       " (11, 0.005109771504196808),\n",
       " (10, 0.005025473586054256),\n",
       " (9, 0.004134238891291671),\n",
       " (8, 0.004134238891174646),\n",
       " (7, 0.0040638331632995225),\n",
       " (6, 0.004041249972171201),\n",
       " (5, 0.003313855262312239),\n",
       " (4, 0.0029174057031849804),\n",
       " (3, 0.0027182944930465996),\n",
       " (2, 0.0027141325646495296),\n",
       " (1, 0.002528668794390343)]"
      ]
     },
     "execution_count": 35,
     "metadata": {},
     "output_type": "execute_result"
    }
   ],
   "source": [
    "sorted(mi_values.items(), key=operator.itemgetter(1), reverse=True)"
   ]
  },
  {
   "cell_type": "code",
   "execution_count": 36,
   "metadata": {},
   "outputs": [
    {
     "data": {
      "text/plain": [
       "[(20, 0.005644390057808235),\n",
       " (19, 0.005643893860430963),\n",
       " (18, 0.0056263211083099444),\n",
       " (17, 0.005626320019000791),\n",
       " (16, 0.0053863507115343955),\n",
       " (15, 0.0053785454577393275),\n",
       " (14, 0.005206604727880683),\n",
       " (13, 0.005146118799000548),\n",
       " (12, 0.005144636961380383),\n",
       " (11, 0.005109771504196808),\n",
       " (10, 0.005025473586054256),\n",
       " (9, 0.004134238891291671),\n",
       " (8, 0.004134238891174646),\n",
       " (7, 0.0040638331632995225),\n",
       " (6, 0.004041249972171201),\n",
       " (5, 0.003313855262312239),\n",
       " (4, 0.0029174057031849804),\n",
       " (3, 0.0027182944930465996),\n",
       " (2, 0.0027141325646495296),\n",
       " (1, 0.002528668794390343)]"
      ]
     },
     "execution_count": 36,
     "metadata": {},
     "output_type": "execute_result"
    }
   ],
   "source": [
    "sorted(mi_values_parallel.items(), key=operator.itemgetter(1), reverse=True)"
   ]
  },
  {
   "cell_type": "code",
   "execution_count": 40,
   "metadata": {},
   "outputs": [
    {
     "data": {
      "text/plain": [
       "[<matplotlib.lines.Line2D at 0x7f50ad5f1e48>]"
      ]
     },
     "execution_count": 40,
     "metadata": {},
     "output_type": "execute_result"
    },
    {
     "data": {
      "image/png": "[encoded data removed]",
      "text/plain": [
       "<Figure size 720x720 with 1 Axes>"
      ]
     },
     "metadata": {
      "needs_background": "light"
     },
     "output_type": "display_data"
    }
   ],
   "source": [
    "plt.figure(figsize=(10,10))\n",
    "plt.plot(mi_values.keys(), mi_values.values(), 'p')\n",
    "plt.plot(mi_values_parallel.keys(), mi_values_parallel.values(), 'p', color='r', marker='+', markersize=30)\n",
    "plt.plot(mi_values.keys(), [mutual_info_score(train[colname], train['HasDetections'])]*len(mi_values), color='black')"
   ]
  },
  {
   "cell_type": "markdown",
   "metadata": {},
   "source": [
    "As before we see some saturation once we pick the top 16 values for AppVersion and combine the rest."
   ]
  },
  {
   "cell_type": "code",
   "execution_count": 74,
   "metadata": {},
   "outputs": [],
   "source": [
    "assert(colname=='AppVersion')\n",
    "\n",
    "train_df = train[[colname]].copy()\n",
    "test_df = test[[colname]].copy()\n",
    "\n",
    "top_values = list(value_counts[0:17].index)\n",
    "\n",
    "train_df[~train_df[colname].isin(top_values)] = 'rest'\n",
    "test_df[~test_df[colname].isin(top_values)] = 'rest'\n",
    "\n",
    "train_df = pd.get_dummies(train_df[[colname]], dummy_na=True)\n",
    "test_df = pd.get_dummies(test_df[[colname]], dummy_na=True)"
   ]
  },
  {
   "cell_type": "code",
   "execution_count": 75,
   "metadata": {},
   "outputs": [
    {
     "name": "stderr",
     "output_type": "stream",
     "text": [
      "/usr/local/lib64/python3.6/site-packages/sklearn/ensemble/forest.py:248: FutureWarning: The default value of n_estimators will change from 10 in version 0.20 to 100 in 0.22.\n",
      "  \"10 in version 0.20 to 100 in 0.22.\", FutureWarning)\n"
     ]
    },
    {
     "name": "stdout",
     "output_type": "stream",
     "text": [
      "col = HasDetections : train_score = 0.5466199482548613 : test_score = 0.5468941375346532\n"
     ]
    }
   ],
   "source": [
    "model = RandomForestClassifier()\n",
    "model.fit(train_df, train['HasDetections'])\n",
    "\n",
    "train_pred = model.predict_proba(train_df)[:,1] #prob of belonging to class 1\n",
    "test_pred = model.predict_proba(test_df)[:,1]\n",
    "\n",
    "train_labels = train['HasDetections']\n",
    "test_labels = test['HasDetections']\n",
    "\n",
    "train_score = roc_auc_score(train_labels, train_pred)\n",
    "test_score = roc_auc_score(test_labels, test_pred)\n",
    "\n",
    "print(f'col = {col} : train_score = {train_score} : test_score = {test_score}')"
   ]
  },
  {
   "cell_type": "markdown",
   "metadata": {},
   "source": [
    "At this stage, this might seem trivial. After all, we are doing only slightly better than random (AUC=0.5). But as before, this is just with one feature - AppVersion!\n",
    "\n",
    "## Aside: Models with multiple features\n",
    "\n",
    "Let's take a small detour now that we have explored two columns - EngineVersion (AUC = 0.56) and AppVersion (AUC = 0.54).\n",
    "\n",
    "Ideally, we would like to build a model that uses both values and see how well it does. Let's try that now!"
   ]
  },
  {
   "cell_type": "code",
   "execution_count": 16,
   "metadata": {},
   "outputs": [],
   "source": [
    "#Function to create appropriate dataframe\n",
    "\n",
    "def create_one_hot(train, test, colnames, thresholds):\n",
    "    assert(len(colnames)==len(thresholds))\n",
    "    \n",
    "    train_df = train[colnames].astype(str).copy()\n",
    "    test_df = test[colnames].astype(str).copy()\n",
    "\n",
    "    train_list, test_list = [], []\n",
    "    for index, col in enumerate(colnames):\n",
    "        value_counts = train[col].value_counts()\n",
    "        value_counts.index = [str(i) for i in value_counts.index]\n",
    "        \n",
    "        top_values = list(value_counts[0:thresholds[index]].index)\n",
    "        \n",
    "        train_df[~train_df[col].isin(top_values)] = f'rest_{col}'\n",
    "        test_df[~test_df[col].isin(top_values)] = f'rest_{col}'\n",
    "        \n",
    "        train_list.append( pd.get_dummies(train_df[[col]], dummy_na=True) )\n",
    "        test_list.append( pd.get_dummies(test_df[[col]], dummy_na=True) )\n",
    "\n",
    "    train_df = pd.concat(train_list, axis=1)\n",
    "    test_df = pd.concat(test_list, axis=1)\n",
    "    \n",
    "    return train_df, test_df"
   ]
  },
  {
   "cell_type": "code",
   "execution_count": 77,
   "metadata": {},
   "outputs": [],
   "source": [
    "train_df, test_df = create_one_hot(train, test, ['EngineVersion', 'AppVersion'], [11, 17])"
   ]
  },
  {
   "cell_type": "code",
   "execution_count": 78,
   "metadata": {},
   "outputs": [
    {
     "name": "stdout",
     "output_type": "stream",
     "text": [
      "(5352889, 32)\n",
      "(3568594, 32)\n"
     ]
    }
   ],
   "source": [
    "print(train_df.shape)\n",
    "print(test_df.shape)"
   ]
  },
  {
   "cell_type": "code",
   "execution_count": 79,
   "metadata": {},
   "outputs": [
    {
     "name": "stdout",
     "output_type": "stream",
     "text": [
      "EngineVersion_1.1.13504.0\n",
      "EngineVersion_1.1.14104.0\n",
      "EngineVersion_1.1.14600.4\n",
      "EngineVersion_1.1.14700.5\n",
      "EngineVersion_1.1.14800.3\n",
      "EngineVersion_1.1.14901.4\n",
      "EngineVersion_1.1.15000.2\n",
      "EngineVersion_1.1.15100.1\n",
      "EngineVersion_1.1.15200.1\n",
      "EngineVersion_1.1.15300.5\n",
      "EngineVersion_1.1.15300.6\n",
      "EngineVersion_rest_EngineVersion\n",
      "EngineVersion_nan\n",
      "AppVersion_4.10.14393.0\n",
      "AppVersion_4.10.209.0\n",
      "AppVersion_4.11.15063.0\n",
      "AppVersion_4.11.15063.447\n",
      "AppVersion_4.12.16299.15\n",
      "AppVersion_4.12.17007.18011\n",
      "AppVersion_4.12.17007.18022\n",
      "AppVersion_4.13.17134.1\n",
      "AppVersion_4.13.17134.228\n",
      "AppVersion_4.14.17613.18039\n",
      "AppVersion_4.14.17639.18041\n",
      "AppVersion_4.16.17656.18052\n",
      "AppVersion_4.18.1806.18062\n",
      "AppVersion_4.18.1807.18075\n",
      "AppVersion_4.8.10240.17443\n",
      "AppVersion_4.9.10586.0\n",
      "AppVersion_4.9.10586.1106\n",
      "AppVersion_rest_AppVersion\n",
      "AppVersion_nan\n"
     ]
    }
   ],
   "source": [
    "for col in train_df:\n",
    "    print(col)"
   ]
  },
  {
   "cell_type": "code",
   "execution_count": 17,
   "metadata": {},
   "outputs": [],
   "source": [
    "def build_model(model, train_df, test_df):\n",
    "    '''Use train and test as global variables\n",
    "    '''\n",
    "    \n",
    "    model.fit(train_df, train['HasDetections'])\n",
    "\n",
    "    train_pred = model.predict_proba(train_df)[:,1] #prob of belonging to class 1\n",
    "    test_pred = model.predict_proba(test_df)[:,1]\n",
    "\n",
    "    train_labels = train['HasDetections']\n",
    "    test_labels = test['HasDetections']\n",
    "\n",
    "    train_score = roc_auc_score(train_labels, train_pred)\n",
    "    test_score = roc_auc_score(test_labels, test_pred)\n",
    "\n",
    "    print(f'train_score = {train_score} : test_score = {test_score}')\n",
    "    \n",
    "    return model, train_score, test_score"
   ]
  },
  {
   "cell_type": "code",
   "execution_count": 83,
   "metadata": {},
   "outputs": [
    {
     "name": "stderr",
     "output_type": "stream",
     "text": [
      "/usr/local/lib64/python3.6/site-packages/sklearn/ensemble/forest.py:248: FutureWarning: The default value of n_estimators will change from 10 in version 0.20 to 100 in 0.22.\n",
      "  \"10 in version 0.20 to 100 in 0.22.\", FutureWarning)\n"
     ]
    },
    {
     "name": "stdout",
     "output_type": "stream",
     "text": [
      "train_score = 0.5799794166341901 : test_score = 0.5797880698806783\n"
     ]
    }
   ],
   "source": [
    "model = RandomForestClassifier()\n",
    "\n",
    "model,_,_ = build_model(model, train_df, test_df)"
   ]
  },
  {
   "cell_type": "markdown",
   "metadata": {},
   "source": [
    "So combining the two variables into one model gave us a significant boost!\n",
    "\n",
    "EngineVersion - AUC = ~0.560\n",
    "\n",
    "AppVersion - AUC = ~0.545\n",
    "\n",
    "Combine - AUC = ~0.580 (3% improvement over EngineVersion i.e. 0.560)\n",
    "\n",
    "If EngineVersion and AppVersion were perfectly correlated (i.e. in 1-1 correspondence for categorical variables), we would see no improvement by combining them."
   ]
  },
  {
   "cell_type": "markdown",
   "metadata": {},
   "source": [
    "## End of Aside: Models with multiple features"
   ]
  },
  {
   "cell_type": "markdown",
   "metadata": {},
   "source": [
    "# col = SmartScreen (MI = ??)"
   ]
  },
  {
   "cell_type": "markdown",
   "metadata": {},
   "source": [
    "We have our machinery setup so as long as columns are categorical, we can just keep applying it"
   ]
  },
  {
   "cell_type": "code",
   "execution_count": 92,
   "metadata": {},
   "outputs": [
    {
     "name": "stdout",
     "output_type": "stream",
     "text": [
      "20\n"
     ]
    },
    {
     "data": {
      "text/plain": [
       "RequireAdmin    2590357\n",
       "null            1906079\n",
       "ExistsNotSet     627601\n",
       "Off              111710\n",
       "Warn              81089\n",
       "Prompt            20777\n",
       "Block             13489\n",
       "off                 829\n",
       "On                  422\n",
       "&#x02;              257\n",
       "&#x01;              186\n",
       "on                   76\n",
       "requireadmin          5\n",
       "0                     3\n",
       "OFF                   3\n",
       "Promt                 2\n",
       "Enabled               1\n",
       "requireAdmin          1\n",
       "warn                  1\n",
       "prompt                1\n",
       "Name: SmartScreen, dtype: int64"
      ]
     },
     "execution_count": 92,
     "metadata": {},
     "output_type": "execute_result"
    }
   ],
   "source": [
    "colname = 'SmartScreen'\n",
    "\n",
    "value_counts = train[colname].fillna('null').value_counts()\n",
    "\n",
    "print(len(value_counts))\n",
    "value_counts"
   ]
  },
  {
   "cell_type": "code",
   "execution_count": 94,
   "metadata": {},
   "outputs": [],
   "source": [
    "#Mutual information scan to find best # of value counts to combine\n",
    "\n",
    "assert(colname=='SmartScreen')\n",
    "\n",
    "mi_values = find_mi_threshold_parallel(train, colname, n_low=2, n_high=19, n_jobs=10)"
   ]
  },
  {
   "cell_type": "code",
   "execution_count": 95,
   "metadata": {},
   "outputs": [
    {
     "data": {
      "text/plain": [
       "[(19, 0.02816486570974574),\n",
       " (18, 0.02816460672915393),\n",
       " (17, 0.028164508978547904),\n",
       " (16, 0.028164445499168158),\n",
       " (15, 0.028164088767970316),\n",
       " (14, 0.028164067428353305),\n",
       " (13, 0.028164025288590563),\n",
       " (12, 0.028163894961473514),\n",
       " (11, 0.028163865455426797),\n",
       " (10, 0.028163767417102793),\n",
       " (9, 0.028163712583765033),\n",
       " (8, 0.02816356329695278),\n",
       " (7, 0.02816334169304785),\n",
       " (6, 0.02816020352160098),\n",
       " (5, 0.028152542231826228),\n",
       " (4, 0.02809142172023904),\n",
       " (3, 0.028017012534531663),\n",
       " (2, 0.021971304800856892)]"
      ]
     },
     "execution_count": 95,
     "metadata": {},
     "output_type": "execute_result"
    }
   ],
   "source": [
    "sorted(mi_values.items(), key=operator.itemgetter(1), reverse=True)"
   ]
  },
  {
   "cell_type": "code",
   "execution_count": 98,
   "metadata": {
    "scrolled": false
   },
   "outputs": [
    {
     "data": {
      "text/plain": [
       "[<matplotlib.lines.Line2D at 0x7f50996b7fd0>]"
      ]
     },
     "execution_count": 98,
     "metadata": {},
     "output_type": "execute_result"
    },
    {
     "data": {
      "image/png": "[encoded data removed]",
      "text/plain": [
       "<Figure size 720x720 with 1 Axes>"
      ]
     },
     "metadata": {
      "needs_background": "light"
     },
     "output_type": "display_data"
    }
   ],
   "source": [
    "assert(colname=='SmartScreen')\n",
    "\n",
    "plt.figure(figsize=(10,10))\n",
    "plt.plot(mi_values.keys(), mi_values.values(), 'p')\n",
    "plt.plot(mi_values.keys(), [mutual_info_score(train[colname].astype(str).fillna('null'), train['HasDetections'])]*len(mi_values))"
   ]
  },
  {
   "cell_type": "code",
   "execution_count": 102,
   "metadata": {},
   "outputs": [],
   "source": [
    "train_df, test_df = create_one_hot(train, test, ['EngineVersion', 'AppVersion', 'SmartScreen'], [11, 17, 6])"
   ]
  },
  {
   "cell_type": "code",
   "execution_count": 103,
   "metadata": {},
   "outputs": [
    {
     "name": "stderr",
     "output_type": "stream",
     "text": [
      "/usr/local/lib64/python3.6/site-packages/sklearn/ensemble/forest.py:248: FutureWarning: The default value of n_estimators will change from 10 in version 0.20 to 100 in 0.22.\n",
      "  \"10 in version 0.20 to 100 in 0.22.\", FutureWarning)\n"
     ]
    },
    {
     "name": "stdout",
     "output_type": "stream",
     "text": [
      "train_score = 0.6356668891940039 : test_score = 0.6352146257795556\n"
     ]
    }
   ],
   "source": [
    "model = RandomForestClassifier(n_jobs=10)\n",
    "model,_,_ = build_model(model, train_df, test_df)"
   ]
  },
  {
   "cell_type": "markdown",
   "metadata": {},
   "source": [
    "**AUC = 0.635**"
   ]
  },
  {
   "cell_type": "markdown",
   "metadata": {},
   "source": [
    "### Notebooks vs modules\n",
    "\n",
    "This is a highly opinionated comment. Notebooks are great for small examples to be shared but get unwieldy with large amounts of code. One major headache is the presence of global variables that might be initialized with the wrong values. For example, we often use \"colname\" above and have to insert assert statements to ensure we are always working with a single column.\n",
    "\n",
    "In practice, I prefer using a simple text editor like sublime or emacs and ipython on the command line. At this stage in this project, I am putting in all functions in a utils.py file that we'll use from now on."
   ]
  },
  {
   "cell_type": "code",
   "execution_count": 10,
   "metadata": {},
   "outputs": [],
   "source": [
    "#Using utils functions\n",
    "import utils"
   ]
  },
  {
   "cell_type": "code",
   "execution_count": 148,
   "metadata": {},
   "outputs": [],
   "source": [
    "mi_values = utils.find_mi_threshold_parallel(train, 'AVProductStatesIdentifier', n_low=19650, n_high=19680, n_jobs=10)"
   ]
  },
  {
   "cell_type": "code",
   "execution_count": 6,
   "metadata": {},
   "outputs": [
    {
     "name": "stdout",
     "output_type": "stream",
     "text": [
      "mid_point=33 - shift=16 - values=[1 1 1]\n",
      "mid_point=17 - shift=8 - values=[1 1 1]\n",
      "mid_point=9 - shift=4 - values=[1 1 1]\n",
      "mid_point=5 - shift=2 - values=[1 1 1]\n",
      "mid_point=3 - shift=1 - values=[1 1 1]\n",
      "mid_point=2 - shift=0 - values=[0 1 1]\n"
     ]
    },
    {
     "data": {
      "text/plain": [
       "2"
      ]
     },
     "execution_count": 6,
     "metadata": {},
     "output_type": "execute_result"
    }
   ],
   "source": [
    "utils.find_threshold(train, 'EngineVersion', 20, 0.2, debug=True)"
   ]
  },
  {
   "cell_type": "code",
   "execution_count": 11,
   "metadata": {},
   "outputs": [
    {
     "name": "stderr",
     "output_type": "stream",
     "text": [
      "/usr/local/lib64/python3.6/site-packages/sklearn/ensemble/forest.py:248: FutureWarning: The default value of n_estimators will change from 10 in version 0.20 to 100 in 0.22.\n",
      "  \"10 in version 0.20 to 100 in 0.22.\", FutureWarning)\n"
     ]
    },
    {
     "name": "stdout",
     "output_type": "stream",
     "text": [
      "train_score = 0.5756193233510761 : test_score = 0.5754134912203985\n"
     ]
    }
   ],
   "source": [
    "model = utils.RandomForestClassifier(n_jobs=10)\n",
    "model, train_score, test_score = utils.build_model(model, train_df, test_df, train, test) #fix signature"
   ]
  },
  {
   "cell_type": "code",
   "execution_count": 15,
   "metadata": {},
   "outputs": [
    {
     "name": "stdout",
     "output_type": "stream",
     "text": [
      "train_score = 0.5943524148309816 : test_score = 0.5908466066484933\n"
     ]
    }
   ],
   "source": [
    "train_df = train[['AVProductStatesIdentifier']].fillna(0)\n",
    "test_df = test[['AVProductStatesIdentifier']].fillna(0)\n",
    "model, train_score, test_score = utils.build_model(model, train_df, test_df, train, test) #fix signature"
   ]
  },
  {
   "cell_type": "code",
   "execution_count": 17,
   "metadata": {},
   "outputs": [],
   "source": [
    "train_df, test_df = utils.create_one_hot(train, test, ['EngineVersion', 'AppVersion', 'SmartScreen'], [11, 17, 6])"
   ]
  },
  {
   "cell_type": "code",
   "execution_count": 18,
   "metadata": {},
   "outputs": [],
   "source": [
    "train_df['AVProductStatesIdentifier'] = train['AVProductStatesIdentifier'].fillna(0)\n",
    "test_df['AVProductStatesIdentifier'] = test['AVProductStatesIdentifier'].fillna(0)"
   ]
  },
  {
   "cell_type": "code",
   "execution_count": 20,
   "metadata": {},
   "outputs": [
    {
     "name": "stderr",
     "output_type": "stream",
     "text": [
      "/usr/local/lib64/python3.6/site-packages/sklearn/ensemble/forest.py:248: FutureWarning: The default value of n_estimators will change from 10 in version 0.20 to 100 in 0.22.\n",
      "  \"10 in version 0.20 to 100 in 0.22.\", FutureWarning)\n"
     ]
    },
    {
     "name": "stdout",
     "output_type": "stream",
     "text": [
      "train_score = 0.6792199692282269 : test_score = 0.6719802078248494\n"
     ]
    }
   ],
   "source": [
    "model = utils.RandomForestClassifier(max_depth=20, n_jobs=10)\n",
    "model, train_score, test_score = utils.build_model(model, train_df, test_df, train, test) #fix signature"
   ]
  },
  {
   "cell_type": "code",
   "execution_count": 21,
   "metadata": {},
   "outputs": [],
   "source": [
    "train_df['Census_TotalPhysicalRAM'] = train['Census_TotalPhysicalRAM'].fillna(0)\n",
    "test_df['Census_TotalPhysicalRAM'] = test['Census_TotalPhysicalRAM'].fillna(0)"
   ]
  },
  {
   "cell_type": "code",
   "execution_count": 22,
   "metadata": {},
   "outputs": [
    {
     "name": "stderr",
     "output_type": "stream",
     "text": [
      "/usr/local/lib64/python3.6/site-packages/sklearn/ensemble/forest.py:248: FutureWarning: The default value of n_estimators will change from 10 in version 0.20 to 100 in 0.22.\n",
      "  \"10 in version 0.20 to 100 in 0.22.\", FutureWarning)\n"
     ]
    },
    {
     "name": "stdout",
     "output_type": "stream",
     "text": [
      "train_score = 0.6932177802521545 : test_score = 0.6823917578546365\n"
     ]
    }
   ],
   "source": [
    "model = utils.RandomForestClassifier(max_depth=20, n_jobs=10)\n",
    "model, train_score, test_score = utils.build_model(model, train_df, test_df, train, test) #fix signature"
   ]
  },
  {
   "cell_type": "code",
   "execution_count": 23,
   "metadata": {},
   "outputs": [],
   "source": [
    "train_df['Census_InternalPrimaryDiagonalDisplaySizeInInches'] = train['Census_InternalPrimaryDiagonalDisplaySizeInInches'].fillna(0)\n",
    "test_df['Census_InternalPrimaryDiagonalDisplaySizeInInches'] = test['Census_InternalPrimaryDiagonalDisplaySizeInInches'].fillna(0)"
   ]
  },
  {
   "cell_type": "code",
   "execution_count": 25,
   "metadata": {},
   "outputs": [
    {
     "name": "stderr",
     "output_type": "stream",
     "text": [
      "/usr/local/lib64/python3.6/site-packages/sklearn/ensemble/forest.py:248: FutureWarning: The default value of n_estimators will change from 10 in version 0.20 to 100 in 0.22.\n",
      "  \"10 in version 0.20 to 100 in 0.22.\", FutureWarning)\n"
     ]
    },
    {
     "name": "stdout",
     "output_type": "stream",
     "text": [
      "train_score = 0.6869614875904083 : test_score = 0.6828389138470167\n"
     ]
    }
   ],
   "source": [
    "model = utils.RandomForestClassifier(max_depth=15, n_jobs=10)\n",
    "model, train_score, test_score = utils.build_model(model, train_df, test_df, train, test) #fix signature"
   ]
  },
  {
   "cell_type": "code",
   "execution_count": 28,
   "metadata": {},
   "outputs": [],
   "source": [
    "train_df['Census_InternalBatteryNumberOfCharges'] = train['Census_InternalBatteryNumberOfCharges'].fillna(0)\n",
    "test_df['Census_InternalBatteryNumberOfCharges'] = test['Census_InternalBatteryNumberOfCharges'].fillna(0)"
   ]
  },
  {
   "cell_type": "code",
   "execution_count": 29,
   "metadata": {},
   "outputs": [
    {
     "name": "stderr",
     "output_type": "stream",
     "text": [
      "/usr/local/lib64/python3.6/site-packages/sklearn/ensemble/forest.py:248: FutureWarning: The default value of n_estimators will change from 10 in version 0.20 to 100 in 0.22.\n",
      "  \"10 in version 0.20 to 100 in 0.22.\", FutureWarning)\n"
     ]
    },
    {
     "name": "stdout",
     "output_type": "stream",
     "text": [
      "train_score = 0.686979994232052 : test_score = 0.6826652662069447\n"
     ]
    }
   ],
   "source": [
    "model = utils.RandomForestClassifier(max_depth=15, n_jobs=10)\n",
    "model, train_score, test_score = utils.build_model(model, train_df, test_df, train, test) #fix signature"
   ]
  },
  {
   "cell_type": "code",
   "execution_count": 31,
   "metadata": {},
   "outputs": [],
   "source": [
    "import astropy.stats as astv"
   ]
  },
  {
   "cell_type": "code",
   "execution_count": 37,
   "metadata": {},
   "outputs": [
    {
     "name": "stderr",
     "output_type": "stream",
     "text": [
      "/home/sanjay/.local/lib/python3.6/site-packages/astropy/stats/histogram.py:209: RuntimeWarning: divide by zero encountered in double_scalars\n",
      "  Nbins = max(1, np.ceil((dmax - dmin) / dx))\n"
     ]
    },
    {
     "ename": "ValueError",
     "evalue": "The inter-quartile range of the data is too small: failed to construct histogram with inf bins. Please use another bin method, such as bins=\"scott\"",
     "output_type": "error",
     "traceback": [
      "\u001b[0;31m---------------------------------------------------------------------------\u001b[0m",
      "\u001b[0;31mValueError\u001b[0m                                Traceback (most recent call last)",
      "\u001b[0;32m~/.local/lib/python3.6/site-packages/astropy/stats/histogram.py\u001b[0m in \u001b[0;36mfreedman_bin_width\u001b[0;34m(data, return_bins)\u001b[0m\n\u001b[1;32m    210\u001b[0m         \u001b[0;32mtry\u001b[0m\u001b[0;34m:\u001b[0m\u001b[0;34m\u001b[0m\u001b[0m\n\u001b[0;32m--> 211\u001b[0;31m             \u001b[0mbins\u001b[0m \u001b[0;34m=\u001b[0m \u001b[0mdmin\u001b[0m \u001b[0;34m+\u001b[0m \u001b[0mdx\u001b[0m \u001b[0;34m*\u001b[0m \u001b[0mnp\u001b[0m\u001b[0;34m.\u001b[0m\u001b[0marange\u001b[0m\u001b[0;34m(\u001b[0m\u001b[0mNbins\u001b[0m \u001b[0;34m+\u001b[0m \u001b[0;36m1\u001b[0m\u001b[0;34m)\u001b[0m\u001b[0;34m\u001b[0m\u001b[0m\n\u001b[0m\u001b[1;32m    212\u001b[0m         \u001b[0;32mexcept\u001b[0m \u001b[0mValueError\u001b[0m \u001b[0;32mas\u001b[0m \u001b[0me\u001b[0m\u001b[0;34m:\u001b[0m\u001b[0;34m\u001b[0m\u001b[0m\n",
      "\u001b[0;31mValueError\u001b[0m: Maximum allowed size exceeded",
      "\nDuring handling of the above exception, another exception occurred:\n",
      "\u001b[0;31mValueError\u001b[0m                                Traceback (most recent call last)",
      "\u001b[0;32m<ipython-input-37-6fece4e88a33>\u001b[0m in \u001b[0;36m<module>\u001b[0;34m\u001b[0m\n\u001b[0;32m----> 1\u001b[0;31m \u001b[0mhist\u001b[0m\u001b[0;34m,\u001b[0m \u001b[0mbin_edges\u001b[0m \u001b[0;34m=\u001b[0m \u001b[0mastv\u001b[0m\u001b[0;34m.\u001b[0m\u001b[0mhistogram\u001b[0m\u001b[0;34m(\u001b[0m\u001b[0mtrain_df\u001b[0m\u001b[0;34m[\u001b[0m\u001b[0mtrain_df\u001b[0m\u001b[0;34m[\u001b[0m\u001b[0;34m'Census_InternalBatteryNumberOfCharges'\u001b[0m\u001b[0;34m]\u001b[0m\u001b[0;34m<\u001b[0m\u001b[0;36m1000\u001b[0m\u001b[0;34m]\u001b[0m\u001b[0;34m[\u001b[0m\u001b[0;34m'Census_InternalBatteryNumberOfCharges'\u001b[0m\u001b[0;34m]\u001b[0m\u001b[0;34m,\u001b[0m \u001b[0mbins\u001b[0m\u001b[0;34m=\u001b[0m\u001b[0;34m'freedman'\u001b[0m\u001b[0;34m)\u001b[0m\u001b[0;34m\u001b[0m\u001b[0m\n\u001b[0m",
      "\u001b[0;32m~/.local/lib/python3.6/site-packages/astropy/stats/histogram.py\u001b[0m in \u001b[0;36mhistogram\u001b[0;34m(a, bins, range, weights, **kwargs)\u001b[0m\n\u001b[1;32m     81\u001b[0m             \u001b[0mda\u001b[0m\u001b[0;34m,\u001b[0m \u001b[0mbins\u001b[0m \u001b[0;34m=\u001b[0m \u001b[0mscott_bin_width\u001b[0m\u001b[0;34m(\u001b[0m\u001b[0ma\u001b[0m\u001b[0;34m,\u001b[0m \u001b[0;32mTrue\u001b[0m\u001b[0;34m)\u001b[0m\u001b[0;34m\u001b[0m\u001b[0m\n\u001b[1;32m     82\u001b[0m         \u001b[0;32melif\u001b[0m \u001b[0mbins\u001b[0m \u001b[0;34m==\u001b[0m \u001b[0;34m'freedman'\u001b[0m\u001b[0;34m:\u001b[0m\u001b[0;34m\u001b[0m\u001b[0m\n\u001b[0;32m---> 83\u001b[0;31m             \u001b[0mda\u001b[0m\u001b[0;34m,\u001b[0m \u001b[0mbins\u001b[0m \u001b[0;34m=\u001b[0m \u001b[0mfreedman_bin_width\u001b[0m\u001b[0;34m(\u001b[0m\u001b[0ma\u001b[0m\u001b[0;34m,\u001b[0m \u001b[0;32mTrue\u001b[0m\u001b[0;34m)\u001b[0m\u001b[0;34m\u001b[0m\u001b[0m\n\u001b[0m\u001b[1;32m     84\u001b[0m         \u001b[0;32melse\u001b[0m\u001b[0;34m:\u001b[0m\u001b[0;34m\u001b[0m\u001b[0m\n\u001b[1;32m     85\u001b[0m             \u001b[0;32mraise\u001b[0m \u001b[0mValueError\u001b[0m\u001b[0;34m(\u001b[0m\u001b[0;34m\"unrecognized bin code: '{}'\"\u001b[0m\u001b[0;34m.\u001b[0m\u001b[0mformat\u001b[0m\u001b[0;34m(\u001b[0m\u001b[0mbins\u001b[0m\u001b[0;34m)\u001b[0m\u001b[0;34m)\u001b[0m\u001b[0;34m\u001b[0m\u001b[0m\n",
      "\u001b[0;32m~/.local/lib/python3.6/site-packages/astropy/stats/histogram.py\u001b[0m in \u001b[0;36mfreedman_bin_width\u001b[0;34m(data, return_bins)\u001b[0m\n\u001b[1;32m    216\u001b[0m                     \u001b[0;34m'failed to construct histogram with {} bins. '\u001b[0m\u001b[0;34m\u001b[0m\u001b[0m\n\u001b[1;32m    217\u001b[0m                     \u001b[0;34m'Please use another bin method, such as '\u001b[0m\u001b[0;34m\u001b[0m\u001b[0m\n\u001b[0;32m--> 218\u001b[0;31m                     'bins=\"scott\"'.format(Nbins + 1))\n\u001b[0m\u001b[1;32m    219\u001b[0m             \u001b[0;32melse\u001b[0m\u001b[0;34m:\u001b[0m  \u001b[0;31m# Something else  # pragma: no cover\u001b[0m\u001b[0;34m\u001b[0m\u001b[0m\n\u001b[1;32m    220\u001b[0m                 \u001b[0;32mraise\u001b[0m\u001b[0;34m\u001b[0m\u001b[0m\n",
      "\u001b[0;31mValueError\u001b[0m: The inter-quartile range of the data is too small: failed to construct histogram with inf bins. Please use another bin method, such as bins=\"scott\""
     ]
    }
   ],
   "source": [
    "hist, bin_edges = astv.histogram(train_df[train_df['Census_InternalBatteryNumberOfCharges']<1000]['Census_InternalBatteryNumberOfCharges'], bins='freedman')"
   ]
  },
  {
   "cell_type": "code",
   "execution_count": 36,
   "metadata": {},
   "outputs": [
    {
     "data": {
      "image/png": "[encoded data removed]",
      "text/plain": [
       "<Figure size 432x288 with 1 Axes>"
      ]
     },
     "metadata": {
      "needs_background": "light"
     },
     "output_type": "display_data"
    }
   ],
   "source": [
    "plt.hist(train_df[train_df['Census_InternalBatteryNumberOfCharges']<1000]['Census_InternalBatteryNumberOfCharges'], bins=bin_edges);"
   ]
  },
  {
   "cell_type": "markdown",
   "metadata": {},
   "source": [
    "# Alternate Feature Engineering\n",
    "\n",
    "So far we have worked with categorical variables where there's no notion of order or ranking. "
   ]
  },
  {
   "cell_type": "code",
   "execution_count": 393,
   "metadata": {},
   "outputs": [],
   "source": [
    "colname = 'DefaultBrowsersIdentifier'\n",
    "\n",
    "train_df, test_df = create_one_hot(train, test, ['EngineVersion', 'AppVersion'], [11, 17])"
   ]
  },
  {
   "cell_type": "code",
   "execution_count": 410,
   "metadata": {},
   "outputs": [],
   "source": [
    "train_df[colname] = train[colname].fillna(0).copy()\n",
    "test_df[colname] = test[colname].fillna(0).copy()"
   ]
  },
  {
   "cell_type": "code",
   "execution_count": 418,
   "metadata": {},
   "outputs": [
    {
     "name": "stderr",
     "output_type": "stream",
     "text": [
      "/usr/local/lib64/python3.6/site-packages/sklearn/ensemble/forest.py:248: FutureWarning: The default value of n_estimators will change from 10 in version 0.20 to 100 in 0.22.\n",
      "  \"10 in version 0.20 to 100 in 0.22.\", FutureWarning)\n"
     ]
    },
    {
     "name": "stdout",
     "output_type": "stream",
     "text": [
      "train_score = 0.5831117936087538 : test_score = 0.5813819011837636\n"
     ]
    }
   ],
   "source": [
    "model = RandomForestClassifier()\n",
    "model,_,_ = build_model(model, train_df, test_df)"
   ]
  },
  {
   "cell_type": "code",
   "execution_count": 424,
   "metadata": {},
   "outputs": [
    {
     "name": "stdout",
     "output_type": "stream",
     "text": [
      "train_score = 0.5818755252728536 : test_score = 0.5810634774092638\n"
     ]
    }
   ],
   "source": [
    "model = RandomForestClassifier(n_estimators=10, n_jobs=10, max_depth=18)\n",
    "model, train_score, test_score = build_model(model, train_df, test_df)"
   ]
  },
  {
   "cell_type": "markdown",
   "metadata": {},
   "source": [
    "This is interesting! Not doing 1-hot encoding and treating this feature as an integer gives basically the same performance as doing the 1-hot encoding"
   ]
  },
  {
   "cell_type": "markdown",
   "metadata": {},
   "source": [
    "## Adding counts to integer values"
   ]
  },
  {
   "cell_type": "code",
   "execution_count": 427,
   "metadata": {},
   "outputs": [],
   "source": [
    "value_counts_dict = value_counts.to_dict()"
   ]
  },
  {
   "cell_type": "code",
   "execution_count": 429,
   "metadata": {},
   "outputs": [],
   "source": [
    "value_counts_dict[0.0] = np.sum(train[colname].isnull())"
   ]
  },
  {
   "cell_type": "code",
   "execution_count": 432,
   "metadata": {},
   "outputs": [
    {
     "ename": "KeyError",
     "evalue": "398.0",
     "output_type": "error",
     "traceback": [
      "\u001b[0;31m---------------------------------------------------------------------------\u001b[0m",
      "\u001b[0;31mKeyError\u001b[0m                                  Traceback (most recent call last)",
      "\u001b[0;32m<ipython-input-432-708dd867948d>\u001b[0m in \u001b[0;36m<module>\u001b[0;34m\u001b[0m\n\u001b[1;32m      1\u001b[0m \u001b[0mtrain_df\u001b[0m\u001b[0;34m[\u001b[0m\u001b[0;34mf'counts_{colname}'\u001b[0m\u001b[0;34m]\u001b[0m \u001b[0;34m=\u001b[0m \u001b[0mtrain_df\u001b[0m\u001b[0;34m[\u001b[0m\u001b[0mcolname\u001b[0m\u001b[0;34m]\u001b[0m\u001b[0;34m.\u001b[0m\u001b[0mapply\u001b[0m\u001b[0;34m(\u001b[0m\u001b[0;32mlambda\u001b[0m \u001b[0mx\u001b[0m\u001b[0;34m:\u001b[0m \u001b[0mvalue_counts_dict\u001b[0m\u001b[0;34m[\u001b[0m\u001b[0mx\u001b[0m\u001b[0;34m]\u001b[0m\u001b[0;34m)\u001b[0m\u001b[0;34m\u001b[0m\u001b[0m\n\u001b[0;32m----> 2\u001b[0;31m \u001b[0mtest_df\u001b[0m\u001b[0;34m[\u001b[0m\u001b[0;34mf'counts_{colname}'\u001b[0m\u001b[0;34m]\u001b[0m \u001b[0;34m=\u001b[0m \u001b[0mtest_df\u001b[0m\u001b[0;34m[\u001b[0m\u001b[0mcolname\u001b[0m\u001b[0;34m]\u001b[0m\u001b[0;34m.\u001b[0m\u001b[0mapply\u001b[0m\u001b[0;34m(\u001b[0m\u001b[0;32mlambda\u001b[0m \u001b[0mx\u001b[0m\u001b[0;34m:\u001b[0m \u001b[0mvalue_counts_dict\u001b[0m\u001b[0;34m[\u001b[0m\u001b[0mx\u001b[0m\u001b[0;34m]\u001b[0m\u001b[0;34m)\u001b[0m\u001b[0;34m\u001b[0m\u001b[0m\n\u001b[0m",
      "\u001b[0;32m/usr/local/lib64/python3.6/site-packages/pandas/core/series.py\u001b[0m in \u001b[0;36mapply\u001b[0;34m(self, func, convert_dtype, args, **kwds)\u001b[0m\n\u001b[1;32m   3192\u001b[0m             \u001b[0;32melse\u001b[0m\u001b[0;34m:\u001b[0m\u001b[0;34m\u001b[0m\u001b[0m\n\u001b[1;32m   3193\u001b[0m                 \u001b[0mvalues\u001b[0m \u001b[0;34m=\u001b[0m \u001b[0mself\u001b[0m\u001b[0;34m.\u001b[0m\u001b[0mastype\u001b[0m\u001b[0;34m(\u001b[0m\u001b[0mobject\u001b[0m\u001b[0;34m)\u001b[0m\u001b[0;34m.\u001b[0m\u001b[0mvalues\u001b[0m\u001b[0;34m\u001b[0m\u001b[0m\n\u001b[0;32m-> 3194\u001b[0;31m                 \u001b[0mmapped\u001b[0m \u001b[0;34m=\u001b[0m \u001b[0mlib\u001b[0m\u001b[0;34m.\u001b[0m\u001b[0mmap_infer\u001b[0m\u001b[0;34m(\u001b[0m\u001b[0mvalues\u001b[0m\u001b[0;34m,\u001b[0m \u001b[0mf\u001b[0m\u001b[0;34m,\u001b[0m \u001b[0mconvert\u001b[0m\u001b[0;34m=\u001b[0m\u001b[0mconvert_dtype\u001b[0m\u001b[0;34m)\u001b[0m\u001b[0;34m\u001b[0m\u001b[0m\n\u001b[0m\u001b[1;32m   3195\u001b[0m \u001b[0;34m\u001b[0m\u001b[0m\n\u001b[1;32m   3196\u001b[0m         \u001b[0;32mif\u001b[0m \u001b[0mlen\u001b[0m\u001b[0;34m(\u001b[0m\u001b[0mmapped\u001b[0m\u001b[0;34m)\u001b[0m \u001b[0;32mand\u001b[0m \u001b[0misinstance\u001b[0m\u001b[0;34m(\u001b[0m\u001b[0mmapped\u001b[0m\u001b[0;34m[\u001b[0m\u001b[0;36m0\u001b[0m\u001b[0;34m]\u001b[0m\u001b[0;34m,\u001b[0m \u001b[0mSeries\u001b[0m\u001b[0;34m)\u001b[0m\u001b[0;34m:\u001b[0m\u001b[0;34m\u001b[0m\u001b[0m\n",
      "\u001b[0;32mpandas/_libs/src/inference.pyx\u001b[0m in \u001b[0;36mpandas._libs.lib.map_infer\u001b[0;34m()\u001b[0m\n",
      "\u001b[0;32m<ipython-input-432-708dd867948d>\u001b[0m in \u001b[0;36m<lambda>\u001b[0;34m(x)\u001b[0m\n\u001b[1;32m      1\u001b[0m \u001b[0mtrain_df\u001b[0m\u001b[0;34m[\u001b[0m\u001b[0;34mf'counts_{colname}'\u001b[0m\u001b[0;34m]\u001b[0m \u001b[0;34m=\u001b[0m \u001b[0mtrain_df\u001b[0m\u001b[0;34m[\u001b[0m\u001b[0mcolname\u001b[0m\u001b[0;34m]\u001b[0m\u001b[0;34m.\u001b[0m\u001b[0mapply\u001b[0m\u001b[0;34m(\u001b[0m\u001b[0;32mlambda\u001b[0m \u001b[0mx\u001b[0m\u001b[0;34m:\u001b[0m \u001b[0mvalue_counts_dict\u001b[0m\u001b[0;34m[\u001b[0m\u001b[0mx\u001b[0m\u001b[0;34m]\u001b[0m\u001b[0;34m)\u001b[0m\u001b[0;34m\u001b[0m\u001b[0m\n\u001b[0;32m----> 2\u001b[0;31m \u001b[0mtest_df\u001b[0m\u001b[0;34m[\u001b[0m\u001b[0;34mf'counts_{colname}'\u001b[0m\u001b[0;34m]\u001b[0m \u001b[0;34m=\u001b[0m \u001b[0mtest_df\u001b[0m\u001b[0;34m[\u001b[0m\u001b[0mcolname\u001b[0m\u001b[0;34m]\u001b[0m\u001b[0;34m.\u001b[0m\u001b[0mapply\u001b[0m\u001b[0;34m(\u001b[0m\u001b[0;32mlambda\u001b[0m \u001b[0mx\u001b[0m\u001b[0;34m:\u001b[0m \u001b[0mvalue_counts_dict\u001b[0m\u001b[0;34m[\u001b[0m\u001b[0mx\u001b[0m\u001b[0;34m]\u001b[0m\u001b[0;34m)\u001b[0m\u001b[0;34m\u001b[0m\u001b[0m\n\u001b[0m",
      "\u001b[0;31mKeyError\u001b[0m: 398.0"
     ]
    }
   ],
   "source": [
    "train_df[f'counts_{colname}'] = train_df[colname].apply(lambda x: value_counts_dict[x])\n",
    "test_df[f'counts_{colname}'] = test_df[colname].apply(lambda x: value_counts_dict[x])"
   ]
  },
  {
   "cell_type": "code",
   "execution_count": 431,
   "metadata": {},
   "outputs": [
    {
     "data": {
      "text/plain": [
       "EngineVersion_1.1.13504.0                 0.0\n",
       "EngineVersion_1.1.14104.0                 0.0\n",
       "EngineVersion_1.1.14600.4                 0.0\n",
       "EngineVersion_1.1.14700.5                 0.0\n",
       "EngineVersion_1.1.14800.3                 0.0\n",
       "EngineVersion_1.1.14901.4                 0.0\n",
       "EngineVersion_1.1.15000.2                 0.0\n",
       "EngineVersion_1.1.15100.1                 0.0\n",
       "EngineVersion_1.1.15200.1                 1.0\n",
       "EngineVersion_1.1.15300.5                 0.0\n",
       "EngineVersion_1.1.15300.6                 0.0\n",
       "EngineVersion_rest_EngineVersion          0.0\n",
       "EngineVersion_nan                         0.0\n",
       "AppVersion_4.10.14393.0                   0.0\n",
       "AppVersion_4.10.209.0                     0.0\n",
       "AppVersion_4.11.15063.0                   0.0\n",
       "AppVersion_4.11.15063.447                 0.0\n",
       "AppVersion_4.12.16299.15                  0.0\n",
       "AppVersion_4.12.17007.18011               0.0\n",
       "AppVersion_4.12.17007.18022               0.0\n",
       "AppVersion_4.13.17134.1                   0.0\n",
       "AppVersion_4.13.17134.228                 0.0\n",
       "AppVersion_4.14.17613.18039               0.0\n",
       "AppVersion_4.14.17639.18041               0.0\n",
       "AppVersion_4.16.17656.18052               0.0\n",
       "AppVersion_4.18.1806.18062                0.0\n",
       "AppVersion_4.18.1807.18075                1.0\n",
       "AppVersion_4.8.10240.17443                0.0\n",
       "AppVersion_4.9.10586.0                    0.0\n",
       "AppVersion_4.9.10586.1106                 0.0\n",
       "AppVersion_rest_AppVersion                0.0\n",
       "AppVersion_nan                            0.0\n",
       "DefaultBrowsersIdentifier                 0.0\n",
       "counts_DefaultBrowsersIdentifier    5092379.0\n",
       "Name: 0, dtype: float64"
      ]
     },
     "execution_count": 431,
     "metadata": {},
     "output_type": "execute_result"
    }
   ],
   "source": [
    "train_df.iloc[0]"
   ]
  },
  {
   "cell_type": "code",
   "execution_count": null,
   "metadata": {},
   "outputs": [],
   "source": []
  },
  {
   "cell_type": "markdown",
   "metadata": {},
   "source": [
    "# Combining all features"
   ]
  },
  {
   "cell_type": "code",
   "execution_count": null,
   "metadata": {},
   "outputs": [],
   "source": []
  },
  {
   "cell_type": "code",
   "execution_count": null,
   "metadata": {},
   "outputs": [],
   "source": []
  },
  {
   "cell_type": "markdown",
   "metadata": {},
   "source": [
    "## Aside: Different modeling techniques\n",
    "\n",
    "Let's take a second detour before continuing on with our exploration of all the other columns. We have only tried one modeling technique - Random Forests - till now. While they are flexible, we should either try random forests with different parameters or even other techniques.\n",
    "\n",
    "### Exploring Random Forests\n",
    "\n",
    "(This is a cursory introduction - for more details, see slides)\n",
    "\n",
    "Random forests are groups (hence the forest) of decision trees. A decision tree is essentially a sequence of if-else statements that will give us relatively pure (either HasDetections = 1 mostly or HasDetections = 0 mostly) at the end of each branch sequence.\n",
    "\n",
    "Instead of writing the if-else blocks by hand, we learn them in a decision tree. For each if-else block, we need two quantities - what variable to make a decision on and what the threshold should be to decide between the if and else block. \n",
    "\n",
    "A decision tree solves this conundrum in the simplest possible way - greedily. In other words, it loops through every feature/column/variable, and for each one, tries every possible threshold amongs the value the data actually takes and looks at the purity of the sample after the decision. The purity is simply a measure of how many 1s vs 0s the target has before and after the cut. For example, if before the cut, the data has 50% 1s and 50% 0s (like our dataset) and after making a cut, the if-statement gives all 1s and else-statement gives all 0s, then we are done. We have a perfect model. In practice, the algorithm chooses the variable and cut which gives the highest increase in purity.\n",
    "\n",
    "Purity can be measured several ways but one common measure is Gini which for our case would be:\n",
    "\n",
    "$p(1-p)$\n",
    "\n",
    "where p = probability (%) of rows that are labeled HasDetections=1.\n",
    "\n",
    "Another measure of purity is entropy, defined as:\n",
    "\n",
    "$S = -\\Sigma_{i \\in \\text{categories}} p_i \\log(p_i)$\n",
    "\n",
    "These metrics would be averaged over the if-block and the else-block.\n",
    "\n",
    "INSERT MATERIAL ABOUT RANDOM FORESTS"
   ]
  },
  {
   "cell_type": "code",
   "execution_count": 252,
   "metadata": {},
   "outputs": [
    {
     "name": "stdout",
     "output_type": "stream",
     "text": [
      "train_score = 0.5799810002538657 : test_score = 0.5798017205044155\n"
     ]
    }
   ],
   "source": [
    "model1 = RandomForestClassifier(n_estimators=10, criterion='gini', n_jobs=10)\n",
    "model1 = build_model(model1, train_df, test_df)"
   ]
  },
  {
   "cell_type": "code",
   "execution_count": 258,
   "metadata": {},
   "outputs": [
    {
     "name": "stderr",
     "output_type": "stream",
     "text": [
      "/usr/local/lib64/python3.6/site-packages/sklearn/linear_model/logistic.py:432: FutureWarning: Default solver will be changed to 'lbfgs' in 0.22. Specify a solver to silence this warning.\n",
      "  FutureWarning)\n"
     ]
    },
    {
     "name": "stdout",
     "output_type": "stream",
     "text": [
      "train_score = 0.5762359969662515 : test_score = 0.5760858424562645\n"
     ]
    }
   ],
   "source": [
    "from sklearn.linear_model import LogisticRegression\n",
    "\n",
    "model2 = LogisticRegression() #don't worry about normalization right now\n",
    "model2 = build_model(model2, train_df, test_df)"
   ]
  },
  {
   "cell_type": "markdown",
   "metadata": {},
   "source": [
    "So we have two models - using completely different techniques and each gives roughly similar AUCs.\n",
    "\n",
    "What if we just average their predictions?"
   ]
  },
  {
   "cell_type": "code",
   "execution_count": 261,
   "metadata": {},
   "outputs": [],
   "source": [
    "model1_train_pred = model1.predict_proba(train_df)[:, 1]\n",
    "model1_test_pred = model1.predict_proba(test_df)[:, 1]\n",
    "\n",
    "model2_train_pred = model2.predict_proba(train_df)[:, 1]\n",
    "model2_test_pred = model2.predict_proba(test_df)[:, 1]\n",
    "\n",
    "mean_train_pred = (model1_train_pred + model2_train_pred) / 2.\n",
    "mean_test_pred = (model1_test_pred + model2_test_pred) / 2."
   ]
  },
  {
   "cell_type": "code",
   "execution_count": 262,
   "metadata": {},
   "outputs": [
    {
     "name": "stdout",
     "output_type": "stream",
     "text": [
      "train_score = 0.578786978514533 : test_score = 0.5786191254267733\n"
     ]
    }
   ],
   "source": [
    "train_labels = train['HasDetections']\n",
    "test_labels = test['HasDetections']\n",
    "\n",
    "train_score = roc_auc_score(train_labels, mean_train_pred)\n",
    "test_score = roc_auc_score(test_labels, mean_test_pred)\n",
    "\n",
    "print(f'train_score = {train_score} : test_score = {test_score}')"
   ]
  },
  {
   "cell_type": "markdown",
   "metadata": {},
   "source": [
    "### More topics\n",
    "\n",
    "Probability calibration\n",
    "\n",
    "CV calibration with leaderboard\n",
    "\n",
    "Ensembling\n",
    "\n",
    "Interpretation\n",
    "\n",
    "Notes about kaggle vs real life"
   ]
  }
 ],
 "metadata": {
  "kernelspec": {
   "display_name": "Python 3",
   "language": "python",
   "name": "python3"
  },
  "language_info": {
   "codemirror_mode": {
    "name": "ipython",
    "version": 3
   },
   "file_extension": ".py",
   "mimetype": "text/x-python",
   "name": "python",
   "nbconvert_exporter": "python",
   "pygments_lexer": "ipython3",
   "version": "3.6.6"
  }
 },
 "nbformat": 4,
 "nbformat_minor": 2
}
