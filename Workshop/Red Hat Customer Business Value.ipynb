{
 "cells": [
  {
   "cell_type": "code",
   "execution_count": 1,
   "metadata": {},
   "outputs": [],
   "source": [
    "%load_ext autoreload\n",
    "%autoreload 2"
   ]
  },
  {
   "cell_type": "code",
   "execution_count": 30,
   "metadata": {},
   "outputs": [
    {
     "ename": "ImportError",
     "evalue": "No module named matplotlib.pylab",
     "output_type": "error",
     "traceback": [
      "\u001b[0;31m---------------------------------------------------------------------------\u001b[0m",
      "\u001b[0;31mImportError\u001b[0m                               Traceback (most recent call last)",
      "\u001b[0;32m<ipython-input-30-4297034508a7>\u001b[0m in \u001b[0;36m<module>\u001b[0;34m()\u001b[0m\n\u001b[1;32m      1\u001b[0m \u001b[0;32mimport\u001b[0m \u001b[0mpandas\u001b[0m \u001b[0;32mas\u001b[0m \u001b[0mpd\u001b[0m\u001b[0;34m\u001b[0m\u001b[0m\n\u001b[1;32m      2\u001b[0m \u001b[0;32mimport\u001b[0m \u001b[0mnumpy\u001b[0m \u001b[0;32mas\u001b[0m \u001b[0mnp\u001b[0m\u001b[0;34m\u001b[0m\u001b[0m\n\u001b[0;32m----> 3\u001b[0;31m \u001b[0;32mimport\u001b[0m \u001b[0mmatplotlib\u001b[0m\u001b[0;34m.\u001b[0m\u001b[0mpylab\u001b[0m \u001b[0;32mas\u001b[0m \u001b[0mplt\u001b[0m\u001b[0;34m\u001b[0m\u001b[0m\n\u001b[0m\u001b[1;32m      4\u001b[0m \u001b[0mpd\u001b[0m\u001b[0;34m.\u001b[0m\u001b[0mset_option\u001b[0m\u001b[0;34m(\u001b[0m\u001b[0;34m'display.width'\u001b[0m\u001b[0;34m,\u001b[0m \u001b[0;36m2000\u001b[0m\u001b[0;34m)\u001b[0m\u001b[0;34m\u001b[0m\u001b[0m\n",
      "\u001b[0;31mImportError\u001b[0m: No module named matplotlib.pylab"
     ]
    }
   ],
   "source": [
    "import pandas as pd\n",
    "import numpy as np\n",
    "import matplotlib.pylab as plt\n",
    "pd.set_option('display.width', 2000)"
   ]
  },
  {
   "cell_type": "markdown",
   "metadata": {},
   "source": [
    "## Read data"
   ]
  },
  {
   "cell_type": "code",
   "execution_count": 3,
   "metadata": {},
   "outputs": [],
   "source": [
    "activity = pd.read_csv('data/act_train.csv')\n",
    "people = pd.read_csv('data/people.csv')"
   ]
  },
  {
   "cell_type": "code",
   "execution_count": 5,
   "metadata": {},
   "outputs": [
    {
     "name": "stdout",
     "output_type": "stream",
     "text": [
      "(2197291, 15)\n",
      "(189118, 41)\n"
     ]
    }
   ],
   "source": [
    "print(activity.shape)\n",
    "print(people.shape)"
   ]
  },
  {
   "cell_type": "code",
   "execution_count": 12,
   "metadata": {},
   "outputs": [
    {
     "name": "stdout",
     "output_type": "stream",
     "text": [
      "people_id                 ppl_100\n",
      "activity_id          act2_1734928\n",
      "date                   2023-08-26\n",
      "activity_category          type 4\n",
      "char_1                        NaN\n",
      "char_2                        NaN\n",
      "char_3                        NaN\n",
      "char_4                        NaN\n",
      "char_5                        NaN\n",
      "char_6                        NaN\n",
      "char_7                        NaN\n",
      "char_8                        NaN\n",
      "char_9                        NaN\n",
      "char_10                   type 76\n",
      "outcome                         0\n",
      "Name: 0, dtype: object\n"
     ]
    }
   ],
   "source": [
    "print(activity.iloc[0])"
   ]
  },
  {
   "cell_type": "code",
   "execution_count": 13,
   "metadata": {},
   "outputs": [
    {
     "name": "stdout",
     "output_type": "stream",
     "text": [
      "people_id        ppl_100\n",
      "char_1            type 2\n",
      "group_1      group 17304\n",
      "char_2            type 2\n",
      "date          2021-06-29\n",
      "char_3            type 5\n",
      "char_4            type 5\n",
      "char_5            type 5\n",
      "char_6            type 3\n",
      "char_7           type 11\n",
      "char_8            type 2\n",
      "char_9            type 2\n",
      "char_10             True\n",
      "char_11            False\n",
      "char_12            False\n",
      "char_13             True\n",
      "char_14             True\n",
      "char_15            False\n",
      "char_16             True\n",
      "char_17            False\n",
      "char_18            False\n",
      "char_19            False\n",
      "char_20            False\n",
      "char_21             True\n",
      "char_22            False\n",
      "char_23            False\n",
      "char_24            False\n",
      "char_25            False\n",
      "char_26            False\n",
      "char_27             True\n",
      "char_28             True\n",
      "char_29            False\n",
      "char_30             True\n",
      "char_31             True\n",
      "char_32            False\n",
      "char_33            False\n",
      "char_34             True\n",
      "char_35             True\n",
      "char_36             True\n",
      "char_37            False\n",
      "char_38               36\n",
      "Name: 0, dtype: object\n"
     ]
    }
   ],
   "source": [
    "print(people.iloc[0])"
   ]
  },
  {
   "cell_type": "markdown",
   "metadata": {},
   "source": [
    "## EDA: Exploratory Data Analysis"
   ]
  },
  {
   "cell_type": "markdown",
   "metadata": {},
   "source": [
    "Remember we eventually care about predicting \"outcome\" in activity"
   ]
  },
  {
   "cell_type": "code",
   "execution_count": 22,
   "metadata": {},
   "outputs": [
    {
     "name": "stdout",
     "output_type": "stream",
     "text": [
      "Distribution of outcome variable:\n",
      "0    1221794\n",
      "1     975497\n",
      "Name: outcome, dtype: int64\n"
     ]
    }
   ],
   "source": [
    "print(\"Distribution of outcome variable:\")\n",
    "print(activity['outcome'].value_counts())"
   ]
  },
  {
   "cell_type": "code",
   "execution_count": 27,
   "metadata": {},
   "outputs": [
    {
     "name": "stdout",
     "output_type": "stream",
     "text": [
      "Distribution of outcome variable by client: \n",
      "            outcome\n",
      "people_id          \n",
      "ppl_99994       1.0\n",
      "ppl_237539      1.0\n",
      "ppl_237527      1.0\n",
      "ppl_237524      1.0\n",
      "ppl_237521      1.0\n",
      "ppl_237520      1.0\n",
      "ppl_237518      1.0\n",
      "ppl_382858      1.0\n",
      "ppl_382859      1.0\n",
      "ppl_237505      1.0\n",
      "ppl_237503      1.0\n",
      "ppl_382864      1.0\n",
      "ppl_382865      1.0\n",
      "ppl_237499      1.0\n",
      "ppl_237497      1.0\n",
      "ppl_38287       1.0\n",
      "ppl_382870      1.0\n",
      "ppl_237536      1.0\n",
      "ppl_237541      1.0\n",
      "ppl_382710      1.0\n",
      "ppl_382849      1.0\n",
      "ppl_382833      1.0\n",
      "ppl_382834      1.0\n",
      "ppl_382835      1.0\n",
      "ppl_237576      1.0\n",
      "ppl_237568      1.0\n",
      "ppl_382838      1.0\n",
      "ppl_382839      1.0\n",
      "ppl_38284       1.0\n",
      "ppl_382840      1.0\n",
      "...             ...\n",
      "ppl_254159      0.0\n",
      "ppl_254157      0.0\n",
      "ppl_254154      0.0\n",
      "ppl_254238      0.0\n",
      "ppl_254252      0.0\n",
      "ppl_254391      0.0\n",
      "ppl_254320      0.0\n",
      "ppl_254379      0.0\n",
      "ppl_25437       0.0\n",
      "ppl_254355      0.0\n",
      "ppl_254353      0.0\n",
      "ppl_254346      0.0\n",
      "ppl_254343      0.0\n",
      "ppl_254332      0.0\n",
      "ppl_254326      0.0\n",
      "ppl_254323      0.0\n",
      "ppl_254321      0.0\n",
      "ppl_254317      0.0\n",
      "ppl_254258      0.0\n",
      "ppl_254312      0.0\n",
      "ppl_254310      0.0\n",
      "ppl_25431       0.0\n",
      "ppl_254305      0.0\n",
      "ppl_254290      0.0\n",
      "ppl_25429       0.0\n",
      "ppl_254285      0.0\n",
      "ppl_254284      0.0\n",
      "ppl_254275      0.0\n",
      "ppl_254270      0.0\n",
      "ppl_279089      0.0\n",
      "\n",
      "[151295 rows x 1 columns]\n"
     ]
    }
   ],
   "source": [
    "print(\"Distribution of outcome variable by client: \")\n",
    "pct_outcome_1 = activity.groupby('people_id').agg({'outcome': lambda x: float(np.sum(x))/len(x)}).sort_values('outcome', ascending=False)\n",
    "print(pct_outcome_1)"
   ]
  },
  {
   "cell_type": "markdown",
   "metadata": {},
   "source": [
    "Several people_ids always have outcome = 1 or outcome = 0. Let's see how many entries each people_id has"
   ]
  },
  {
   "cell_type": "code",
   "execution_count": 35,
   "metadata": {},
   "outputs": [
    {
     "name": "stdout",
     "output_type": "stream",
     "text": [
      "ppl_294918    55103\n",
      "ppl_370270    53668\n",
      "ppl_105739    45936\n",
      "ppl_54699     23969\n",
      "ppl_64887      7052\n",
      "ppl_250020     4293\n",
      "ppl_351668     3144\n",
      "ppl_36839      3059\n",
      "ppl_372923     2365\n",
      "ppl_265578     1539\n",
      "ppl_97427      1487\n",
      "ppl_255923     1429\n",
      "ppl_245408      991\n",
      "ppl_363184      825\n",
      "ppl_258085      742\n",
      "ppl_60206       736\n",
      "ppl_9442        730\n",
      "ppl_137451      711\n",
      "ppl_60486       664\n",
      "ppl_3270        649\n",
      "ppl_380820      646\n",
      "ppl_267205      584\n",
      "ppl_359707      556\n",
      "ppl_366313      555\n",
      "ppl_333492      542\n",
      "ppl_363605      533\n",
      "ppl_102941      524\n",
      "ppl_7497        521\n",
      "ppl_159670      513\n",
      "ppl_307791      509\n",
      "              ...  \n",
      "ppl_167434        1\n",
      "ppl_326976        1\n",
      "ppl_321575        1\n",
      "ppl_327070        1\n",
      "ppl_364160        1\n",
      "ppl_212139        1\n",
      "ppl_80062         1\n",
      "ppl_323934        1\n",
      "ppl_18646         1\n",
      "ppl_20157         1\n",
      "ppl_170301        1\n",
      "ppl_4780          1\n",
      "ppl_228619        1\n",
      "ppl_167438        1\n",
      "ppl_41569         1\n",
      "ppl_109715        1\n",
      "ppl_340861        1\n",
      "ppl_49318         1\n",
      "ppl_287138        1\n",
      "ppl_121437        1\n",
      "ppl_379362        1\n",
      "ppl_291795        1\n",
      "ppl_167432        1\n",
      "ppl_365213        1\n",
      "ppl_221973        1\n",
      "ppl_205893        1\n",
      "ppl_174942        1\n",
      "ppl_376004        1\n",
      "ppl_271409        1\n",
      "ppl_133918        1\n",
      "Name: people_id, Length: 151295, dtype: int64\n"
     ]
    }
   ],
   "source": [
    "people_counts = activity['people_id'].value_counts()\n",
    "print(people_counts)\n",
    "#plt.hist(people_counts.values())"
   ]
  },
  {
   "cell_type": "code",
   "execution_count": 51,
   "metadata": {},
   "outputs": [
    {
     "name": "stdout",
     "output_type": "stream",
     "text": [
      "('Number of unique people: ', 151295)\n",
      "Number of unique people with < 2 activities: 24726\n",
      "Number of unique people with < 3 activities: 47821\n",
      "Number of unique people with < 4 activities: 61397\n",
      "Number of unique people with < 5 activities: 71180\n",
      "Number of unique people with < 6 activities: 81478\n",
      "Number of unique people with < 7 activities: 87386\n",
      "Number of unique people with < 8 activities: 92945\n",
      "Number of unique people with < 9 activities: 97877\n",
      "Number of unique people with < 10 activities: 101719\n"
     ]
    }
   ],
   "source": [
    "print(\"Number of unique people: \", people_counts.shape[0])\n",
    "for i in range(2, 11):\n",
    "    print(\"Number of unique people with < {} activities: {}\".format(i, people_counts[people_counts<i].shape[0]))"
   ]
  },
  {
   "cell_type": "code",
   "execution_count": 60,
   "metadata": {},
   "outputs": [
    {
     "name": "stdout",
     "output_type": "stream",
     "text": [
      "Number of people with all outcomes = 0: 82524\n",
      "Number of people with all outcomes = 1: 62115\n",
      "Number of people with all outcomes !=0 and !=1: 6656\n"
     ]
    }
   ],
   "source": [
    "print(\"Number of people with all outcomes = 0: {}\".format(pct_outcome_1[pct_outcome_1['outcome']==0].shape[0]))\n",
    "print(\"Number of people with all outcomes = 1: {}\".format(pct_outcome_1[pct_outcome_1['outcome']==1].shape[0]))\n",
    "print(\"Number of people with all outcomes !=0 and !=1: {}\".format(pct_outcome_1[(pct_outcome_1['outcome']>0) & (pct_outcome_1['outcome']<1)].shape[0]))"
   ]
  },
  {
   "cell_type": "code",
   "execution_count": null,
   "metadata": {},
   "outputs": [],
   "source": []
  }
 ],
 "metadata": {
  "kernelspec": {
   "display_name": "Python 3",
   "language": "python",
   "name": "python3"
  },
  "language_info": {
   "codemirror_mode": {
    "name": "ipython",
    "version": 2
   },
   "file_extension": ".py",
   "mimetype": "text/x-python",
   "name": "python",
   "nbconvert_exporter": "python",
   "pygments_lexer": "ipython2",
   "version": "2.7.15"
  }
 },
 "nbformat": 4,
 "nbformat_minor": 2
}
